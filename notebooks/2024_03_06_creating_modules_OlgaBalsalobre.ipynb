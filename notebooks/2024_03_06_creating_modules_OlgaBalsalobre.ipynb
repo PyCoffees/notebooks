{
 "cells": [
  {
   "cell_type": "markdown",
   "id": "4d7f7762-cea0-4cdb-963b-f600e80e45d6",
   "metadata": {},
   "source": [
    "# **Start doing <span style=\"color:goldenrod\">your own</span> Python Modules &#x1F4AB;**"
   ]
  },
  {
   "cell_type": "markdown",
   "id": "1098b315-03e1-4fed-9255-76bd18e2ace2",
   "metadata": {},
   "source": [
    " "
   ]
  },
  {
   "cell_type": "markdown",
   "id": "e6277c0e-1126-4d0b-8e82-38ae38456d4c",
   "metadata": {},
   "source": [
    "At the end of this PyCoffee, you'll finally understand those strange:\n",
    "- ```if __name__ = '__main__'```\n",
    "- ```__init__.py```"
   ]
  },
  {
   "cell_type": "markdown",
   "id": "4c1b0075-3305-4426-af80-03b0638f1d5a",
   "metadata": {},
   "source": [
    " "
   ]
  },
  {
   "cell_type": "markdown",
   "id": "af5f6e9c-690b-4562-980c-302dc662b586",
   "metadata": {},
   "source": [
    "## **When and why** should I create Modules?"
   ]
  },
  {
   "cell_type": "markdown",
   "id": "c371c75d-9f02-42f0-aabd-9046e2773172",
   "metadata": {},
   "source": [
    "### __1.__ **Terminal**: For fast and puntual tasks.\n",
    "\n",
    "What is the JD of a particular date?"
   ]
  },
  {
   "cell_type": "code",
   "execution_count": 1,
   "id": "a48d4e09-5972-4029-901c-000bb92d720a",
   "metadata": {},
   "outputs": [
    {
     "name": "stdout",
     "output_type": "stream",
     "text": [
      "The PyCoffee is at JD = 2460375.9!\n"
     ]
    }
   ],
   "source": [
    "from astropy.time import Time\n",
    "import numpy as np\n",
    "\n",
    "t_pycoffee = '2024-03-06T09:30:00' # this is the date I want to translate into jd\n",
    "jd_pycoffee = Time(t_pycoffee, format = 'isot', scale = 'utc').jd\n",
    "\n",
    "print(f'The PyCoffee is at JD = {np.round(jd_pycoffee, 1)}!')"
   ]
  },
  {
   "cell_type": "markdown",
   "id": "63634782-678f-4700-86aa-15ddaf30b6b1",
   "metadata": {},
   "source": [
    " "
   ]
  },
  {
   "cell_type": "markdown",
   "id": "b60f90cb-6db7-4ccf-8f39-190f5b74180f",
   "metadata": {},
   "source": [
    "### __2.__  **Scripts or Notebooks**: Repetitive tasks or longer codes.\n",
    "\n",
    "What is the twilight for a given location and date?"
   ]
  },
  {
   "cell_type": "code",
   "execution_count": 2,
   "id": "9775a53d-9384-4852-be71-d64979a01b79",
   "metadata": {},
   "outputs": [
    {
     "name": "stdout",
     "output_type": "stream",
     "text": [
      "The evening twilight today at ESAC is at 19:43 UTC\n"
     ]
    }
   ],
   "source": [
    "import astropy\n",
    "from astropy.coordinates import EarthLocation, AltAz, get_sun\n",
    "from astropy.time import Time\n",
    "import astropy.units as u\n",
    "\n",
    "\n",
    "# -- Functions --\n",
    "def range_tw(jd_arr, location, which_tw = 'both'):\n",
    "\n",
    "    alt_astronomical_tw = -18 # deg\n",
    "\n",
    "    range_tw_mo = []\n",
    "    range_tw_ev = []\n",
    "    for step,jdi in enumerate(jd_arr):\n",
    "        time_format = Time(jdi, format = 'jd', scale = 'utc')\n",
    "        sun_coord = get_sun(time_format).transform_to(AltAz(obstime = time_format, location = location)) # Alt, Az coordinates of the sun\n",
    "        sun_alt = sun_coord.alt.value\n",
    "        dif = sun_alt - alt_astronomical_tw\n",
    "        if step == 0:\n",
    "            prev_dif = dif\n",
    "            continue # in the first step we just need to define the variable 'prev_dif' and the we continue with the 'for' loop\n",
    "        if dif * prev_dif < 0: # check if there is a change in the sign of 'dif' in this step\n",
    "            if dif > 0: # the altitude of the sun is increasing and therefore this is the morning twilight\n",
    "                range_tw_mo = [jd_arr[step - 1], jdi]\n",
    "            else: # the altitude of the sun is decreasing and therefore this is the evening twilight\n",
    "                range_tw_ev = [jd_arr[step - 1], jdi]\n",
    "\n",
    "        # check if the target twilight has been found. If so, there is no need to continue the loop\n",
    "        if (len(range_tw_mo) != 0) and (len(range_tw_ev) != 0) and (which_tw == 'both'):\n",
    "            break\n",
    "        elif (len(range_tw_mo) != 0) and (which_tw == 'mo'):\n",
    "            break\n",
    "        elif (len(range_tw_ev) != 0) and (which_tw == 'ev'):\n",
    "            break\n",
    "        \n",
    "        prev_dif = dif # redifine for the next step\n",
    "\n",
    "    return range_tw_mo, range_tw_ev\n",
    "\n",
    "\n",
    "def compute_tw(date, lat, long, alt): # the date must be in format 'Y/M/D'\n",
    "    \n",
    "    location = EarthLocation(lat = lat * u.deg, lon = long * u.deg, height = alt * u.m)\n",
    "\n",
    "    # first approximation of the twilightls by using big steps of 1 h\n",
    "    jd_init = Time(date + 'T00:00:00', scale = 'utc', format = 'isot').jd # beginning of the day\n",
    "    jd_end = jd_init + 1.0 # end of the day\n",
    "    jd_h_step = np.linspace(jd_init, jd_end, 25)\n",
    "    range_tw_mo, range_tw_ev = range_tw(jd_h_step, location)\n",
    "\n",
    "    # we fine tune the twilightls by using smaller steps of 1 min\n",
    "    jd_tw_mo_array = np.linspace(range_tw_mo[0], range_tw_mo[1], 61) # array with steps of 1 min\n",
    "    small_range_tw_mo, _ = range_tw(jd_tw_mo_array, location, which_tw = 'mo')\n",
    "    tw_mo = np.median(small_range_tw_mo) # as an approximation. The uncertainty is 1 min\n",
    "    \n",
    "    jd_tw_ev_array = np.linspace(range_tw_ev[0], range_tw_ev[1], 61) # array with steps of 1 min\n",
    "    _, small_range_tw_ev = range_tw(jd_tw_ev_array, location, which_tw = 'ev')\n",
    "    tw_ev = np.median(small_range_tw_ev)\n",
    "\n",
    "    return tw_mo, tw_ev\n",
    "#----------------\n",
    "\n",
    "\n",
    "# ---- Main ----\n",
    "date = '2024-03-06' \n",
    "latitude, longitude, altitude = [40.441401, -3.952766, 665] # Coordinates in units [deg], [deg], [m]\n",
    "\n",
    "tw_mo, tw_ev = compute_tw(date, latitude, longitude, altitude)\n",
    "time_tw_ev = Time(tw_ev, format = 'jd').isot\n",
    "print(f'The evening twilight today at ESAC is at {time_tw_ev[11:16]} UTC')\n",
    "#----------------"
   ]
  },
  {
   "cell_type": "markdown",
   "id": "32c43e21-9c79-4207-beed-2e2da4e76d31",
   "metadata": {},
   "source": [
    " "
   ]
  },
  {
   "cell_type": "markdown",
   "id": "19dca58e-0237-4cd1-b8ec-aee85e3c7936",
   "metadata": {},
   "source": [
    "### __3.__  **Modules**: Very used codes that we want to use in different scripts.\n",
    "\n",
    "What is the altitude of *T Dra* during this night as seeing from ESAC?"
   ]
  },
  {
   "cell_type": "code",
   "execution_count": 3,
   "id": "d5a78a3d-cc3c-487f-b67d-7996e3b1513e",
   "metadata": {},
   "outputs": [
    {
     "data": {
      "image/png": "[encoded data removed]",
      "text/plain": [
       "<Figure size 900x500 with 1 Axes>"
      ]
     },
     "metadata": {},
     "output_type": "display_data"
    }
   ],
   "source": [
    "import my_module\n",
    "\n",
    "# ---------- Date, location and target ----------\n",
    "date_init = '2024-03-06' # beginning of the night\n",
    "date_end = '2024-03-07' # end of the night\n",
    "latitude, longitude, altitude = [40.441401, -3.952766, 665] # Coordinates in units [deg], [deg], [m]\n",
    "obj_name = 'T Dra'\n",
    "# -----------------------------------------------\n",
    "\n",
    "# Twilights, altitude, and plot the star altitude\n",
    "_, tw_ev = my_module.compute_tw(date_init, latitude, longitude, altitude)\n",
    "tw_mo, _ = my_module.compute_tw(date_end, latitude, longitude, altitude)\n",
    "\n",
    "alt_tar = my_module.alt_fromloc_atdate(obj_name, latitude, longitude, altitude, tw_ev, tw_mo)\n",
    "\n",
    "my_module.do_plot(tw_ev, tw_mo, alt_tar, obj_name, 'ESAC')"
   ]
  },
  {
   "cell_type": "markdown",
   "id": "c31fe3b6-b80d-4563-bf61-b7082e579bbb",
   "metadata": {},
   "source": [
    "\n"
   ]
  },
  {
   "cell_type": "markdown",
   "id": "3a57fa7d-6579-4be3-8497-fc87a71741a8",
   "metadata": {},
   "source": [
    "**Strong** points of Modules:\n",
    "- **Organization:** a python script per functionality.\n",
    "- **Readable**: the hard parts are hidden and logically located.\n",
    "- **Reusable**: in different scripts.\n",
    "- **Namespaces**: preventing naming conflicts."
   ]
  },
  {
   "cell_type": "markdown",
   "id": "928e26ba-bcf6-4dfa-bc0a-bb62ab8cce4d",
   "metadata": {},
   "source": [
    " "
   ]
  },
  {
   "cell_type": "markdown",
   "id": "41a1504a-f70c-41c4-be33-d0faf44374b5",
   "metadata": {},
   "source": [
    "## **Create** the Module"
   ]
  },
  {
   "cell_type": "markdown",
   "id": "b76bf93c-e0a7-43e5-887d-462a087627f9",
   "metadata": {},
   "source": [
    "```If modules == script.py:```\n",
    ">```print(\"what is new?\")```"
   ]
  },
  {
   "cell_type": "markdown",
   "id": "58cb3965-52f7-4cc8-8a25-a122ae95c823",
   "metadata": {},
   "source": [
    "Indeed, python modules are just scripts.\\\n",
    "The point is to have several scripts that build **packages** (*e.g., tw_calculator.py, target_coord_calculator.py, staralt_plot.py*).\\\n",
    "They have to be stored in a directory, or organized in subdirectories.\\\n",
    "Each script has its own imports, functions and variables."
   ]
  },
  {
   "cell_type": "markdown",
   "id": "e1d9e325-5f3d-49af-95ad-bdc6c01db9a3",
   "metadata": {},
   "source": [
    "In this example, the three modules are:"
   ]
  },
  {
   "cell_type": "code",
   "execution_count": 4,
   "id": "82371320-5d90-4478-8885-19b82b12aaaa",
   "metadata": {},
   "outputs": [],
   "source": [
    "# tw_calculator.py \n",
    "\n",
    "import numpy as np\n",
    "from astropy.coordinates import EarthLocation, AltAz, get_sun\n",
    "from astropy.time import Time\n",
    "import astropy.units as u\n",
    "\n",
    "\n",
    "def range_tw(jd_arr, location, which_tw = 'both'):\n",
    "\n",
    "    alt_astronomical_tw = -18 # deg\n",
    "\n",
    "    range_tw_mo = []\n",
    "    range_tw_ev = []\n",
    "    for step,jdi in enumerate(jd_arr):\n",
    "        time_format = Time(jdi, format = 'jd', scale = 'utc')\n",
    "        sun_coord = get_sun(time_format).transform_to(AltAz(obstime = time_format, location = location)) # Alt, Az coordinates of the sun\n",
    "        sun_alt = sun_coord.alt.value\n",
    "        dif = sun_alt - alt_astronomical_tw\n",
    "        if step == 0:\n",
    "            prev_dif = dif\n",
    "            continue # in the first step we just need to define the variable 'prev_dif' and the we continue with the 'for' loop\n",
    "        if dif * prev_dif < 0: # check if there is a change in the sign of 'dif' in this step\n",
    "            if dif > 0: # the altitude of the sun is increasing and therefore this is the morning twilight\n",
    "                range_tw_mo = [jd_arr[step - 1], jdi]\n",
    "            else: # the altitude of the sun is decreasing and therefore this is the evening twilight\n",
    "                range_tw_ev = [jd_arr[step - 1], jdi]\n",
    "\n",
    "        # check if the target twilight has been found. If so, there is no need to continue the loop\n",
    "        if (len(range_tw_mo) != 0) and (len(range_tw_ev) != 0) and (which_tw == 'both'):\n",
    "            break\n",
    "        elif (len(range_tw_mo) != 0) and (which_tw == 'mo'):\n",
    "            break\n",
    "        elif (len(range_tw_ev) != 0) and (which_tw == 'ev'):\n",
    "            break\n",
    "        \n",
    "        prev_dif = dif # redifine for the next step\n",
    "\n",
    "    return range_tw_mo, range_tw_ev\n",
    "\n",
    "\n",
    "def compute_tw(date, lat, lon, alt): # the date must be in format 'Y/M/D'\n",
    "    \n",
    "    location = EarthLocation(lat = lat * u.deg, lon = lon * u.deg, height = alt * u.m)\n",
    "\n",
    "    # first approximation of the twilightls by using big steps of 1 h\n",
    "    jd_init = Time(date + 'T00:00:00', scale = 'utc', format = 'isot').jd # beginning of the day\n",
    "    jd_end = jd_init + 1.0 # end of the day\n",
    "    jd_h_step = np.linspace(jd_init, jd_end, 25)\n",
    "    range_tw_mo, range_tw_ev = range_tw(jd_h_step, location)\n",
    "\n",
    "    # we fine tune the twilightls by using smaller steps of 1 min\n",
    "    jd_tw_mo_array = np.linspace(range_tw_mo[0], range_tw_mo[1], 61) # array with steps of 1 min\n",
    "    small_range_tw_mo, _ = range_tw(jd_tw_mo_array, location, which_tw = 'mo')\n",
    "    tw_mo = np.median(small_range_tw_mo) # as an approximation. The uncertainty is 1 min\n",
    "    \n",
    "    jd_tw_ev_array = np.linspace(range_tw_ev[0], range_tw_ev[1], 61) # array with steps of 1 min\n",
    "    _, small_range_tw_ev = range_tw(jd_tw_ev_array, location, which_tw = 'ev')\n",
    "    tw_ev = np.median(small_range_tw_ev)\n",
    "\n",
    "    return tw_mo, tw_ev"
   ]
  },
  {
   "cell_type": "code",
   "execution_count": 5,
   "id": "82ef12c4-84c5-471a-8c1a-f5888aa89e8b",
   "metadata": {},
   "outputs": [],
   "source": [
    "# target_coord_calculator.py\n",
    "\n",
    "from astroquery.simbad import Simbad\n",
    "from astropy.coordinates import SkyCoord\n",
    "from astropy import units as u\n",
    "import numpy as np\n",
    "from astropy.time import Time\n",
    "from astropy.coordinates import EarthLocation, AltAz\n",
    "\n",
    "\n",
    "def alt_fromloc_atdate(obj_name, lat, lon, alt, tw_ev, tw_mo):\n",
    "\n",
    "    location = EarthLocation(lat = lat * u.deg, lon = lon * u.deg, height = alt * u.m)\n",
    "\n",
    "    target = Simbad.query_object(obj_name)\n",
    "    RA, DEC = target['RA'][0], target['DEC'][0]\n",
    "    coord_tar = SkyCoord(f'{RA} {DEC}', unit = (u.hourangle, u.deg))\n",
    "\n",
    "    t = np.arange(tw_ev - 1/24, tw_mo + 1/24, step = 5/(24 * 60)) # time array with steps of 5 min with +- 1 h of twilights\n",
    "    alt_tar = coord_tar.transform_to(AltAz(location = location, obstime = Time(t, format = 'jd'))).alt.value\n",
    "\n",
    "    return alt_tar"
   ]
  },
  {
   "cell_type": "code",
   "execution_count": 6,
   "id": "a2a9bed3-d725-4a0c-9e8e-8fe1285b35bd",
   "metadata": {},
   "outputs": [],
   "source": [
    "# staralt_plot.py\n",
    "\n",
    "import pandas as pd\n",
    "import numpy as np\n",
    "import matplotlib.pyplot as plt\n",
    "from matplotlib import rcParams\n",
    "from matplotlib.ticker import AutoMinorLocator\n",
    "from astropy.time import Time\n",
    "import matplotlib.dates as mdates\n",
    "\n",
    "\n",
    "rcParams['font.size'] = 16.0\n",
    "rcParams['axes.linewidth'] = 1\n",
    "\n",
    "rcParams['ytick.major.size'] = 6\n",
    "rcParams['ytick.major.width'] = 1.5\n",
    "rcParams['ytick.minor.size'] = 3\n",
    "rcParams['ytick.minor.width'] = 0.5\n",
    "\n",
    "rcParams['xtick.major.size'] = 6\n",
    "rcParams['xtick.major.width'] = 1.5\n",
    "rcParams['xtick.minor.size'] = 3\n",
    "rcParams['xtick.minor.width'] = 0.5\n",
    "\n",
    "rcParams['font.family'] = 'sans-serif'\n",
    "rcParams['font.sans-serif'] = ['Helvetica']\n",
    "\n",
    "\n",
    "def do_plot(tw_ev, tw_mo, alt_tar, obj_name, obs_name):\n",
    "\n",
    "    fig, ax = plt.subplots(nrows = 1, ncols = 1, figsize = (9, 5))\n",
    "\n",
    "    # main plot\n",
    "    x_utc = pd.date_range(start = Time(tw_ev - 1/24, format = 'jd').isot, end = Time(tw_mo + 1/24, format = 'jd').isot, periods = len(alt_tar))\n",
    "    ax.plot(x_utc, alt_tar, lw = 3, color = 'k', label = f'{obj_name} from {obs_name} ')\n",
    "    \n",
    "    # mark the twilights\n",
    "    ax.fill_between([pd.to_datetime(Time(tw_mo, format = 'jd').isot), x_utc[-1]], -10, 100, color = 'blue', alpha = 0.4)\n",
    "    ax.fill_between([x_utc[0], pd.to_datetime(Time(tw_ev, format = 'jd').isot)], -10, 100, color = 'blue', alpha = 0.4)\n",
    "\n",
    "    # labels, limits of the axis, title and others\n",
    "    ax.xaxis.set_major_formatter(mdates.DateFormatter(\"%H:%M\"))\n",
    "    ax.set_xlabel('UTC Time')\n",
    "    ax.set_ylabel(f'Altitude [deg]')\n",
    "    ax.grid(True, alpha = 0.2)\n",
    "\n",
    "    ax.set_ylim(0, 90)\n",
    "    ax.set_xlim(pd.to_datetime(Time(tw_ev - 1/24, format = 'jd').isot), pd.to_datetime(Time(tw_mo + 1/24, format = 'jd').isot))\n",
    "\n",
    "    ax.xaxis.set_minor_locator(AutoMinorLocator())\n",
    "    ax.yaxis.set_minor_locator(AutoMinorLocator())\n",
    "    ax.tick_params('both', direction = 'in', length = 10, width = 1.5, which = 'major', labelsize = 15)\n",
    "    ax.tick_params('both', direction = 'in', length = 5, width = 0.5, which = 'minor')\n",
    "    \n",
    "    date_init = Time(tw_ev, format = 'jd', scale = 'utc').isot[:10]\n",
    "    day_end = Time(tw_mo, format = 'jd', scale = 'utc').isot[8:10]\n",
    "    date = date_init +' / '+ day_end\n",
    "    ax.set_title(f'{date}', fontsize = 18)\n",
    "\n",
    "    plt.legend(loc = 'upper right', fontsize = 12)\n",
    "    plt.show()\n"
   ]
  },
  {
   "cell_type": "markdown",
   "id": "a306412b-8656-4f13-8efe-c5107eeb3d3c",
   "metadata": {},
   "source": [
    "## The magic around **importing modules**"
   ]
  },
  {
   "cell_type": "markdown",
   "id": "d508e380-8358-4327-8553-cefb557e14f0",
   "metadata": {},
   "source": [
    "To use a single function of a module you have to import it:"
   ]
  },
  {
   "cell_type": "code",
   "execution_count": 7,
   "id": "b0b6c24f-9f92-4069-9cdb-ee68c85a4de2",
   "metadata": {},
   "outputs": [
    {
     "ename": "ModuleNotFoundError",
     "evalue": "No module named 'tw_calculator'",
     "output_type": "error",
     "traceback": [
      "\u001b[0;31m---------------------------------------------------------------------------\u001b[0m",
      "\u001b[0;31mModuleNotFoundError\u001b[0m                       Traceback (most recent call last)",
      "Cell \u001b[0;32mIn[7], line 1\u001b[0m\n\u001b[0;32m----> 1\u001b[0m \u001b[38;5;28;01mfrom\u001b[39;00m \u001b[38;5;21;01mtw_calculator\u001b[39;00m \u001b[38;5;28;01mimport\u001b[39;00m compute_tw\n\u001b[1;32m      3\u001b[0m tw_mo, tw_ev \u001b[38;5;241m=\u001b[39m compute_tw(\u001b[38;5;124m'\u001b[39m\u001b[38;5;124m2024-03-06\u001b[39m\u001b[38;5;124m'\u001b[39m, latitude, longitude, altitude)\n",
      "\u001b[0;31mModuleNotFoundError\u001b[0m: No module named 'tw_calculator'"
     ]
    }
   ],
   "source": [
    "from tw_calculator import compute_tw\n",
    "\n",
    "tw_mo, tw_ev = compute_tw('2024-03-06', latitude, longitude, altitude)"
   ]
  },
  {
   "cell_type": "markdown",
   "id": "3e833ee1-6101-40aa-ac5a-ae352f825a03",
   "metadata": {},
   "source": [
    "But Python **only** looks inside some **listed directories** to search for the modules.\\\n",
    "Let's take a look to ours:"
   ]
  },
  {
   "cell_type": "code",
   "execution_count": 8,
   "id": "033efc36-a8ed-4a21-b707-2521b2ed66cb",
   "metadata": {},
   "outputs": [
    {
     "name": "stdout",
     "output_type": "stream",
     "text": [
      "['/Users/obalsalobre/Desktop/pycoffee', '/opt/homebrew/Cellar/python@3.10/3.10.13_1/Frameworks/Python.framework/Versions/3.10/lib/python310.zip', '/opt/homebrew/Cellar/python@3.10/3.10.13_1/Frameworks/Python.framework/Versions/3.10/lib/python3.10', '/opt/homebrew/Cellar/python@3.10/3.10.13_1/Frameworks/Python.framework/Versions/3.10/lib/python3.10/lib-dynload', '', '/Users/obalsalobre/troy_env/lib/python3.10/site-packages']\n"
     ]
    }
   ],
   "source": [
    "import sys\n",
    "print(sys.path)"
   ]
  },
  {
   "cell_type": "markdown",
   "id": "3d507ff1-4648-4e56-8cdb-928ea8c531e3",
   "metadata": {},
   "source": [
    "**Current directory is always the first in the list!** \\\n",
    "This means that we can always import modules that live in the same folder as the script we are running.\n",
    "\n",
    "But if this is not the case, we can **add the module path** to our systems' list as:"
   ]
  },
  {
   "cell_type": "code",
   "execution_count": 9,
   "id": "82074694-d609-4553-b618-220c47fab8bb",
   "metadata": {},
   "outputs": [],
   "source": [
    "sys.path.append('/Users/obalsalobre/Desktop/pycoffee/my_module')"
   ]
  },
  {
   "cell_type": "markdown",
   "id": "91cc732f-8aa8-48c3-bd37-f8c6c4387f7c",
   "metadata": {},
   "source": [
    "And now we can import the function as we were inside the directory"
   ]
  },
  {
   "cell_type": "code",
   "execution_count": 10,
   "id": "ae6f6446-0051-43c5-84e5-c3cac4e0cfaa",
   "metadata": {},
   "outputs": [
    {
     "name": "stdout",
     "output_type": "stream",
     "text": [
      "Morning twilight in JD: 2460375.715625\n"
     ]
    }
   ],
   "source": [
    "from tw_calculator import compute_tw\n",
    "\n",
    "tw_mo, tw_ev = compute_tw('2024-03-06', latitude, longitude, altitude)\n",
    "print('Morning twilight in JD:', tw_mo)"
   ]
  },
  {
   "cell_type": "markdown",
   "id": "4a04247b-c649-49f8-9616-32c193fc7e40",
   "metadata": {},
   "source": [
    "We can import the whole package if we append the parent directory:"
   ]
  },
  {
   "cell_type": "code",
   "execution_count": 11,
   "id": "ac6dec82-b43c-4145-b5df-cb0461680bfb",
   "metadata": {},
   "outputs": [],
   "source": [
    "sys.path.append('/Users/obalsalobre/Desktop/pycoffee')\n",
    "import my_module\n",
    "from my_module.tw_calculator import compute_tw"
   ]
  },
  {
   "cell_type": "markdown",
   "id": "78ccbe67-8b49-4b83-83ff-d00f65e7f955",
   "metadata": {},
   "source": [
    "Every time we want to use the module, we have to import all the functions that we want to use... **OR NOT!**"
   ]
  },
  {
   "cell_type": "markdown",
   "id": "3ff9b123-5135-49b4-82c5-e0dfa0fe6e1f",
   "metadata": {},
   "source": [
    "## Why ```__init__.py?```\n"
   ]
  },
  {
   "cell_type": "markdown",
   "id": "ac6a84e1-1438-4eca-8b81-c5e811289547",
   "metadata": {},
   "source": [
    "The package is compound by the following scripts:"
   ]
  },
  {
   "cell_type": "markdown",
   "id": "dc1d11c9-74fc-4ab0-9512-532d62fc8d87",
   "metadata": {},
   "source": [
    "<img src=\"images/capt_mymodule.png\" width=\"300\"/>"
   ]
  },
  {
   "cell_type": "markdown",
   "id": "5478f730-1103-4bb8-8537-76f49f766a4e",
   "metadata": {},
   "source": [
    "The script ```__init__.py``` is always runned at the moment of importing the module.\\\n",
    "This script tells Python that this folder is actually a package.\\\n",
    "Here, we can import all the functions of the different modules of the package."
   ]
  },
  {
   "cell_type": "code",
   "execution_count": 1,
   "id": "8e96f65b-0403-44b2-b8d3-23827a1c990f",
   "metadata": {},
   "outputs": [],
   "source": [
    "# __init__.py\n",
    "\n",
    "from my_module.tw_calculator import compute_tw\n",
    "from my_module.target_coord_calculator import alt_fromloc_atdate\n",
    "from my_module.staralt_plot import do_plot"
   ]
  },
  {
   "cell_type": "markdown",
   "id": "e47843bd-5ad1-4f38-bde9-79eae0392038",
   "metadata": {},
   "source": [
    "As this file exists, we can skip importing the functions again and we can directly use them as follows:"
   ]
  },
  {
   "cell_type": "code",
   "execution_count": 12,
   "id": "a6d923eb-c3fe-44e7-a7b0-f652c1095ada",
   "metadata": {},
   "outputs": [],
   "source": [
    "import my_module\n",
    "\n",
    "tw_mo, tw_ev = my_module.compute_tw('2024-03-06', latitude, longitude, altitude)"
   ]
  },
  {
   "cell_type": "markdown",
   "id": "2840bae8-844e-4a88-a7ff-02314894734f",
   "metadata": {},
   "source": [
    "## Why ```if __name__ == '__main__'```?"
   ]
  },
  {
   "cell_type": "markdown",
   "id": "0d8aaff8-45ab-44d2-962f-fd1ff456bc09",
   "metadata": {},
   "source": [
    "This statement appears when you want to independintly run a script of the package by itself.\\\n",
    "For example, I want that when directly running ```python tw_calculator.py``` it returns the twilight of the current date, but I don't want it to appear when importing the module or running a function inside this script. Then, I add in this file:"
   ]
  },
  {
   "cell_type": "code",
   "execution_count": 13,
   "id": "78bc2c50-3b4c-4638-a989-8139d1f8f851",
   "metadata": {},
   "outputs": [
    {
     "name": "stdout",
     "output_type": "stream",
     "text": [
      "The evening twilight today at ESAC is at 19:42 UTC\n"
     ]
    }
   ],
   "source": [
    "if __name__ == '__main__':\n",
    "\n",
    "    latitude, longitude, altitude = [40.441401, -3.952766, 665] # Coordinates in units [deg], [deg], [m]\n",
    "    \n",
    "    date = Time.now().isot[:10]\n",
    "    _, time_tw_ev = compute_tw(date, latitude, longitude, altitude)\n",
    "\n",
    "    print(f'The evening twilight today at ESAC is at {Time(time_tw_ev, format = \"jd\", scale = \"utc\").isot[11:16]} UTC')"
   ]
  }
 ],
 "metadata": {
  "kernelspec": {
   "display_name": "Python 3 (ipykernel)",
   "language": "python",
   "name": "python3"
  },
  "language_info": {
   "codemirror_mode": {
    "name": "ipython",
    "version": 3
   },
   "file_extension": ".py",
   "mimetype": "text/x-python",
   "name": "python",
   "nbconvert_exporter": "python",
   "pygments_lexer": "ipython3",
   "version": "3.10.13"
  }
 },
 "nbformat": 4,
 "nbformat_minor": 5
}
