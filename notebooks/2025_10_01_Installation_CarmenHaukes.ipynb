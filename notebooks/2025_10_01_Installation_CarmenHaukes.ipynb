{
 "cells": [
  {
   "cell_type": "markdown",
   "id": "18bcfcdf",
   "metadata": {},
   "source": [
    "# Basic Installations for Python Beginners\n",
    "Carmen Haukes San Lázaro\n",
    "2025/10/01"
   ]
  },
  {
   "cell_type": "markdown",
   "id": "b6032317",
   "metadata": {},
   "source": [
    "In this PyCoffee session, we will learn **how to install Python**, set up our development environment, and understand the **basic ways to run Python code**. This is a perfect starting point for beginners who want to explore programming, data analysis, and scientific computing with Python."
   ]
  },
  {
   "cell_type": "markdown",
   "id": "84940c08",
   "metadata": {},
   "source": [
    "## Differences between Compiler, Interpreter, and IDEs\n",
    "\n",
    "First of all, we need to understand what Python actually is. To do this, it is helpful to highlight the differences between these three concepts:\n",
    "\n",
    "- **Compiler:** Translates the whole code (e.g., into a .exe file) into machine language **before running** (e.g., C, C++). Execution is fast, but errors appear only after compilation.\n",
    "\n",
    "- **Interpreter:** Executes code **line by line** in real time (e.g., Python). Easy to test and debug, but usually slower.\n",
    "\n",
    "- **IDE (Integrated Development Environment):** A workspace with an editor, debugger, and terminal (e.g., VS Code). Helps write and organize code, but doesn’t execute it by itself.\n",
    "\n",
    "\n",
    "\n",
    "*Note: Visual Studio and VS Code are different tools. For Python, VS Code is usually the better choice.*\n"
   ]
  },
  {
   "cell_type": "markdown",
   "id": "8daf9e34",
   "metadata": {},
   "source": [
    "## 1. What is Python?\n",
    "<img src=\"https://github.com/dfbarrero/pythonCourse/raw/master/crash/figs/python.png\" width=\"500\">\n",
    "\n",
    "\n",
    "### 1.1 Introduction\n",
    "Python is a general‐purpose, high‐level, interpreted programming language\n",
    "\n",
    "- *General‐purpose*: Many applications (in our case astrophysics)\n",
    "- *High‐level*: Abstract data structures, doing more with less code.\n",
    "- *Interpreted*: No need to compile.\n",
    "\n",
    "Python's design emphasizes readability, simplicity, and versatility, which helped it become one of the most popular programming languages worldwide obtaining programmer’s productivity.\n",
    "\n",
    "\n",
    "### 1.2. History\n",
    "Python was created by Guido van Rossum in the Netherlands.\n",
    "\n",
    "- **Python 1.0:** Released in 1991. Introduced basic data types, functions, and exception handling.\n",
    "- **Python 2.0:** Released in 2000. Added list comprehensions, garbage collection, and Unicode support.\n",
    "- **Python 3.0:** Released in 2008. Not backwards-compatible with Python 2.x. Introduced print() function, new string handling, and better library consistency.\n",
    "\n",
    "Python 3.X is the current version and actively maintained, but Python 2.x remained popular for many years and was officially supported until 2020.  \n",
    "\n",
    "\n",
    "<img src=\"https://github.com/dfbarrero/pythonCourse/raw/master/crash/figs/guido.jpg\" width=\"250\">"
   ]
  },
  {
   "cell_type": "markdown",
   "id": "556ad70f",
   "metadata": {},
   "source": [
    "## 2. Installing Python Interpreter\n",
    "\n",
    "Differents ways to get it: \n",
    "\n",
    "### 2.1. Official Python (python.org)\n",
    "- Download the installer from [python.org/downloads](https://www.python.org/downloads/)\n",
    "- Installs the “pure” Python interpreter.\n",
    "- You run it via `python` or `py` in the terminal (or include it on VS code)\n",
    "\n",
    "### 2.2. Enviorments (Anaconda / Miniconda)\n",
    "- Download from [anaconda.com](https://www.anaconda.com/) (I prefer [miniconda](https://www.anaconda.com/download/success)...)\n",
    "- Comes with Python + many scientific libraries + environments.\n",
    "- You run it via `conda` or inside Anaconda Navigator.\n",
    "- You can have different py versions in your local and IDE (like VS code)\n",
    "\n",
    "\n",
    "```bash\n",
    "# Install miniconda in terminal or web : \n",
    "wget https://repo.anaconda.com/miniconda/Miniconda3-latest-Linux-x86_64.sh\n",
    "\n",
    "# execute installer\n",
    "Miniconda3-latest-Linux-x86_64.sh\n",
    "\n",
    "# Verify installation \n",
    "conda --version\n",
    "\n",
    "# Create and activate enviorment \n",
    "conda create --name myenv python=3.11\n",
    "\n",
    "conda activate myenv\n",
    "\n",
    "# once it is activated, we can install toolboxes\n",
    "install numpy pandas matplotlib \n",
    "\n",
    "# Deactivate\n",
    "conda deactivate \n",
    "\n",
    "# List of all envs you have created\n",
    "conda info --envs\n",
    "\n",
    "# Delete env\n",
    "conda remove --name myenv --all\n",
    "\n",
    "```\n",
    "\n",
    "### 2.3. Visual Studio (NOT VS CODE!!!)\n",
    "- When installing Visual Studio Code, select “Python development”. \n",
    "- Visual Studio installs and manages a Python interpreter for you.\n",
    "- You can also point Visual Studio to an existing Python installation (pref. conda with enviorments).\n",
    "\n"
   ]
  },
  {
   "cell_type": "markdown",
   "id": "328812ae",
   "metadata": {},
   "source": [
    "## 3. How to use Python\n",
    "\n",
    "Once we have Python installed, we need to know how to actually use it.\n",
    "- **py files**: Linear script. Best for writing full programs or modules. You can write them in any IDE or editor. To run them, you usually open a terminal (local or from IDE) and type:\n",
    "```python\n",
    "python myscript.py\n",
    "```\n",
    "\n",
    "- **Jupyter Notebook (.ipynb)**: Interactive document. Best for exploration, data analysis, and presentations. Needs to select a Kernel (see previous [PyCoffee of Jupyter notebook](https://github.com/PyCoffees/notebooks/blob/main/notebooks/2023_11_29__IntroJupyter_JorgeLilloBox.ipynb))"
   ]
  },
  {
   "cell_type": "code",
   "execution_count": null,
   "id": "400be1ca",
   "metadata": {},
   "outputs": [
    {
     "name": "stdout",
     "output_type": "stream",
     "text": [
      "Hello World!\n"
     ]
    }
   ],
   "source": [
    "print(\"Hello World!\")"
   ]
  },
  {
   "cell_type": "markdown",
   "id": "e401b651",
   "metadata": {},
   "source": [
    "*Note: Jupyter notebooks can also run online, for example in [Google Colab ](https://colab.research.google.com), without installing Python locally. You just need a Google account.*"
   ]
  },
  {
   "cell_type": "markdown",
   "id": "7e633721",
   "metadata": {},
   "source": [
    "## Conclusions\n",
    "\n",
    "Now that we know how to install and run Python, the next step is to explore its full potential. Python is not only a programming language, but also a powerful tool for science, data analysis, automation, and much more...\n",
    "\n",
    "![alt text](<Imagen 1-1.png>)\n",
    "\n",
    "This PyCoffee is just the starting point, come join the next sessions to discover what Python can really do! ☕🐍"
   ]
  },
  {
   "cell_type": "markdown",
   "id": "e07a9d6c",
   "metadata": {},
   "source": [
    "## References\n",
    "\n",
    "- Rapado Tamarit, M. Á., Moreno Santamaría, B., & Hernández Ramos, J. A. (2019). *Programming with Visual Studio: Fortran & Python & C++*. CreateSpace Independent Publishing Platform. ISBN: 978-1727581539.\n",
    "- Barrero, D. F. (s. f.). pythonCourse. GitHub. https://github.com/dfbarrero/pythonCourse"
   ]
  }
 ],
 "metadata": {
  "language_info": {
   "name": "python"
  }
 },
 "nbformat": 4,
 "nbformat_minor": 5
}
