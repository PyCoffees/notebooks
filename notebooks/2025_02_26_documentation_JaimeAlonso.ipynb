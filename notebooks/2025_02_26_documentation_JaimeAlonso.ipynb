{
 "cells": [
  {
   "cell_type": "markdown",
   "id": "bf3b85e2-f2f9-466f-be66-d0a3c039b5fb",
   "metadata": {},
   "source": [
    "# How to write and upload documentation for GITHUB/READTHEDOCS\n",
    "### What are we going to learn\n",
    "\n",
    "- How to write documentation for GITHUB and READTHEDOCS.\n",
    "- What files are recommended for a science open software hosted in github.\n",
    "- The basic of the MARKDOWN and SPHINX languajes.\n",
    "    "
   ]
  },
  {
   "cell_type": "markdown",
   "id": "89e80cb0-3919-4e46-b521-7d98cbc88bb4",
   "metadata": {},
   "source": [
    "#### Github\n",
    "\n",
    "- **Git** is a version control system that intelligently tracks changes in files. Git is particularly **useful for a group to do changes in the same files at the same time** and facilitates the open (or private) **acces to the software for all the other people.**\n",
    "- **GitHub is a cloud-based platform where you can store, share, and work together with others to write code** (there are other free git platforms like Gitlab).\n",
    "- https://github.com/\n",
    "\n",
    "#### Readthedocs\n",
    "\n",
    "- **Read the Docs is an open-sourced free software documentation hosting platform.**\n",
    "- It allows a clear, detailed and manageable **presentation of the programme documentation**, which is very useful for a tutorial-like format.\n",
    "- There are always other options (README, pdf manual, etc.), but Readthedocs **gives confidence** and often indicates that someone is maintaining it."
   ]
  },
  {
   "cell_type": "markdown",
   "id": "a5767a96-275c-4bab-84ed-c027aabe8ab9",
   "metadata": {},
   "source": [
    "### Why is it useful to write documentation??\n",
    "\n",
    "- You can write a very good and useful program, but it people do not know how to use it, it will not have the same impact.\n",
    "- Facilitate its use for beginners and/or people who want to colaborate with you and use your code.\n",
    "- Displays all the capabilities of the code (some users might know only a few of them)."
   ]
  },
  {
   "cell_type": "markdown",
   "id": "63940491-e572-427c-b9b8-698c29ecce4c",
   "metadata": {},
   "source": [
    "#### 1-Developed your own code at home with the file(s) that you need\n",
    "\n",
    "This is dumy example, but it is useful for this purpose"
   ]
  },
  {
   "cell_type": "markdown",
   "id": "1c79fdef-54aa-49bc-8b65-2757113b5f5e",
   "metadata": {},
   "source": [
    "<p align=\"center\">\n",
    "<img src=\"code.png\" width=300>"
   ]
  },
  {
   "cell_type": "markdown",
   "id": "6942bd96-4550-41d5-a758-0e74e83c29c4",
   "metadata": {},
   "source": [
    "#### 2-Create a repository and upload the code on github\n",
    "\n",
    "Github has a repository structure, each repository is independent and can be shared with different people, who can edit independently the files of the repository (Github manages the version historial). In summary, **1 project -> 1 repository**.\n",
    "\n",
    "Feel free to do it manually ;)\n",
    "\n",
    "It is recommended to include the following files in this or a similar format:\n",
    "\n",
    "- 1- **The code** in one or some folders.\n",
    "- 2- **License** (Neccesary for open source). It is good for you and for the user (a variety of standard open source license formats is offered in Github at no cost).\n",
    "- 3- **README.md** a basic (or not) description of your code and how to use it.\n",
    "- 4- **.gitignore** This list the files that you prefer not to share (only the owner have acces to these files).\n",
    "- 5- **docs** (a folder which contains the files dedicated to Readthedocs, it will directly read the files from this folder).\n",
    "\n",
    "Other optional files:\n",
    "  \n",
    "- 6- **Figures** in a folder, you may need figures in the README or the docs (optional).\n",
    "- 7- **Manual** a manual in pdf format.\n",
    "- 8- **Examples** to show how your code works and the commands."
   ]
  },
  {
   "cell_type": "markdown",
   "id": "981ea6eb-f1fa-4fde-84e6-05ed7def1b6e",
   "metadata": {},
   "source": [
    "Create a repository\n",
    "\n",
    "<p align=\"center\">\n",
    "<img src=\"repo.png\" width=900>\n",
    "\n",
    "See the repository format\n",
    "\n",
    "<p align=\"center\">\n",
    "<img src=\"repo2.png\" width=900>"
   ]
  },
  {
   "cell_type": "markdown",
   "id": "6299538c-06ac-4a5b-85d2-ad25a810568d",
   "metadata": {},
   "source": [
    "####  3-Write a helpful documentation\n",
    "\n",
    "#### README\n",
    "\n",
    "-This is the simplest and easiest type of documentation.\n",
    "\n",
    ".The Readme is not a very powerful tool, but it can be developed and it will always be at hand (remember that this is the first thing you see in a github repository).\n",
    "\n",
    "-The languaje is Markdown (same as this text), see https://www.markdownguide.org/"
   ]
  },
  {
   "cell_type": "markdown",
   "id": "a72e4b3b-5925-4734-8da7-7aa9cfde6ab7",
   "metadata": {},
   "source": [
    "# README example\n",
    "\n",
    "This is a very simple example of the README capabilities.\n",
    "\n",
    "You can include figures:\n",
    "\n",
    "<p align=\"center\">\n",
    "<img src=\"figures/python.png\" width=300>\n",
    "\n",
    "You can include links:\n",
    "\n",
    "Matplotlib: *[https://matplotlib.org/][1]*\n",
    "\n",
    "[1]: https://matplotlib.org/\n"
   ]
  },
  {
   "cell_type": "markdown",
   "id": "1f9f1e21-a78e-47d0-9275-64de241f9f9c",
   "metadata": {},
   "source": [
    "#### A manual in pdf format\n",
    "\n",
    "-It can sound basic too, but it can be detailed and include examples, pitfalls and whatever is neccesary.\n",
    "\n",
    "-You can write it with the tool that you prefer (Latex, word documents, etc.), so you do not need to learn a new languaje."
   ]
  },
  {
   "cell_type": "markdown",
   "id": "4f64f5c0-b4e8-4027-b5a4-a73745985566",
   "metadata": {},
   "source": [
    "#### Readthedocs \n",
    "\n",
    "- https://about.readthedocs.com/?ref=readthedocs.org\n",
    "\n",
    "- Probably the most complicated, although easier than expected, but it is also the option with more capabilities.\n",
    "\n",
    "- The languaje is Sphinx (similar to LATEX), see https://www.sphinx-doc.org/en/master/usage/advanced/intl.html\n",
    "\n",
    "- You can directly download Sphinx as a python library to work locally (you can also do pdf or html files):\n",
    "\n",
    "$ pip install -U sphinx\n",
    "\n",
    "- Readthedocs will read the files from the docs folder on your Github repository."
   ]
  },
  {
   "cell_type": "code",
   "execution_count": null,
   "id": "07e19017-4540-442a-ac86-e7436ef6ed1f",
   "metadata": {},
   "outputs": [],
   "source": []
  },
  {
   "cell_type": "markdown",
   "id": "19ed7c8c-6a48-45c8-80d7-a0eb508660ed",
   "metadata": {},
   "source": [
    "<p align=\"center\">\n",
    "<img src=\"startRTD.png\" width=900>\n",
    "\n",
    "<p align=\"center\">\n",
    "<img src=\"startRTD2.png\" width=900>"
   ]
  },
  {
   "cell_type": "markdown",
   "id": "605f9dfd-7779-4a19-920a-584fc2665948",
   "metadata": {},
   "source": [
    "You will need to include two extra files:\n",
    "\n",
    "**.readthedocs.yaml** in your directory, an example"
   ]
  },
  {
   "cell_type": "raw",
   "id": "ad19bad9-a7d8-44a9-9819-66ba0e5f70c4",
   "metadata": {},
   "source": [
    "# Read the Docs configuration file for Sphinx projects\n",
    "# See https://docs.readthedocs.io/en/stable/config-file/v2.html for details\n",
    "# Required\n",
    "\n",
    "version: 2\n",
    "\n",
    "# Set the OS, Python version and other tools you might need\n",
    "\n",
    "build:\n",
    "  os: ubuntu-22.04\n",
    "  tools:\n",
    "    python: \"3.12\"\n",
    "    # You can also specify other tool versions:\n",
    "    # nodejs: \"20\"\n",
    "    # rust: \"1.70\"\n",
    "    # golang: \"1.20\"\n",
    "    \n",
    "# Build documentation in the \"docs/\" directory with Sphinx\n",
    "\n",
    "sphinx:\n",
    "  configuration: docs/conf.py\n",
    "  # You can configure Sphinx to use a different builder, for instance use the dirhtml builder for simpler URLs\n",
    "  # builder: \"dirhtml\"\n",
    "  # Fail on all warnings to avoid broken references\n",
    "  # fail_on_warning: true\n",
    "\n",
    "# Optionally build your docs in additional formats such as PDF and ePub\n",
    "# formats:\n",
    "#   - pdf\n",
    "#   - epub\n",
    "\n",
    "# Optional but recommended, declare the Python requirements required\n",
    "\n",
    "# to build your documentation\n",
    "# See https://docs.readthedocs.io/en/stable/guides/reproducible-builds.html\n",
    "# python:\n",
    "#   install:\n",
    "#     - requirements: docs/requirements.txt"
   ]
  },
  {
   "cell_type": "markdown",
   "id": "41616ef5-bb05-4a81-b2f4-4bdd43f0a524",
   "metadata": {},
   "source": [
    "**conf.py** in your docs folder, an example:"
   ]
  },
  {
   "cell_type": "raw",
   "id": "d1cb4ef1-ada7-457a-8421-34b29a33a329",
   "metadata": {},
   "source": [
    "# -- Project information ---------------------------------------------------\n",
    "\n",
    "project = 'Pycoffee abour Github and Readthedocs'\n",
    "author = 'fakeme-jalonso'\n",
    "  \n",
    "# -- General configuration ---------------------------------------------------\n",
    "\n",
    "extensions = []\n",
    "  \n",
    "templates_path = ['_templates']\n",
    "exclude_patterns = ['_build', 'Thumbs.db', '.DS_Store']\n",
    "  \n",
    "# -- Options for HTML output -------------------------------------------------\n",
    "\n",
    "html_theme = 'alabaster'\n",
    "html_static_path = ['_static']"
   ]
  },
  {
   "cell_type": "markdown",
   "id": "728b7067-3002-4aca-a3fa-0b7f1c55f79c",
   "metadata": {},
   "source": [
    "Finally, the last thing is to write the documentation in sphinx. The sphinx files extension is **.rst**\n",
    "\n",
    "It is required to have an index.rst file in which all the other files are specified below (in this example a file with name Text.rst and another with name Text2.rst)."
   ]
  },
  {
   "cell_type": "raw",
   "id": "8d9f7a3e-5034-4687-b052-28fcf780f126",
   "metadata": {},
   "source": [
    "Index documentation\n",
    "===================\n",
    "\n",
    "This is an application designed to perform bla bla bla.\n",
    "\n",
    "The main goal is bla bla bla.\n",
    "\n",
    "This program has been written in Python with the Astropy and matplotlib, a knowledge of them could be useful but not neccessary.\n",
    "\n",
    ".. toctree::\n",
    "   :maxdepth: 2\n",
    "\n",
    "   Text\n",
    "   Text2"
   ]
  },
  {
   "cell_type": "markdown",
   "id": "9ea2550e-5639-4cfd-9555-ff15fce75ae7",
   "metadata": {},
   "source": [
    "The Text.rst and Text2.rst file can be as follows:"
   ]
  },
  {
   "cell_type": "raw",
   "id": "5b16efc0-f26e-4bf6-aed0-5a0506759d3e",
   "metadata": {},
   "source": [
    "Text\n",
    "****\n",
    "\n",
    "Spectra images tipically represent the spectrum of the source in a direccion (due to the fact that they tend to be taken with a slit), they tend to be used to study, for example, the composition, variation of the velocity or the distance to the source.\n",
    "\n",
    "Main commands\n",
    "-------------\n",
    "\n",
    "You can describe the main commands of your code."
   ]
  },
  {
   "cell_type": "raw",
   "id": "b7f495e2-336d-46a9-a3ad-3b4d760dab15",
   "metadata": {},
   "source": [
    "Text 2\n",
    "******\n",
    "\n",
    "Spectra images tipically represent the spectrum of the source in a direccion (due to the fact that they tend to be taken with a slit), they tend to be used to study, for example, the composition, variation of the velocity or the distance to the source.\n",
    "\n",
    "Main results\n",
    "-------------\n",
    "\n",
    "You can describe the main results of your code."
   ]
  },
  {
   "cell_type": "markdown",
   "id": "b7a80c21-45f6-4c59-a1ad-1fab5f94dbf7",
   "metadata": {},
   "source": [
    "And remember to upload these files to the **docs folder**"
   ]
  },
  {
   "cell_type": "markdown",
   "id": "191c06dd-27a9-4be9-b740-e64d0d13a974",
   "metadata": {},
   "source": [
    "<p align=\"center\">\n",
    "<img src=\"finaldocs.png\" width=900>"
   ]
  },
  {
   "cell_type": "markdown",
   "id": "9c846462-2daf-4899-9a7b-13667f9ea130",
   "metadata": {},
   "source": [
    "This has been (or tried to have been) a short, simple and explanatory tutorial. Both Github and Readthedocs have lots of capabilities which are outside the scope of this ~~paper~~ tutorial. From my personal point of view, the best way to learn is taking the time to play with them."
   ]
  },
  {
   "cell_type": "markdown",
   "id": "233617ed-3814-4d1e-bbc8-89855c73c458",
   "metadata": {},
   "source": [
    "### Acknowledgements\n",
    "\n",
    "I thank Nicolas Cardiel (UCM) for teaching me how to use sphinx and upload documentation to Readthedocs during the COVID-19 lockdown."
   ]
  }
 ],
 "metadata": {
  "finalized": {
   "timestamp": 1743686406108,
   "trusted": false
  },
  "kernelspec": {
   "display_name": "Python 3 (ipykernel)",
   "language": "python",
   "name": "python3"
  },
  "language_info": {
   "codemirror_mode": {
    "name": "ipython",
    "version": 3
   },
   "file_extension": ".py",
   "mimetype": "text/x-python",
   "name": "python",
   "nbconvert_exporter": "python",
   "pygments_lexer": "ipython3",
   "version": "3.8.6"
  }
 },
 "nbformat": 4,
 "nbformat_minor": 5
}
