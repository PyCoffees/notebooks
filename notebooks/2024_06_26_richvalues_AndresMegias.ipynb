{
 "cells": [
  {
   "cell_type": "markdown",
   "id": "8bb579d6",
   "metadata": {},
   "source": [
    "# RichValues: a Python library for working with uncertainties"
   ]
  },
  {
   "cell_type": "markdown",
   "id": "8a95b447",
   "metadata": {},
   "source": [
    "In this tutorial, divided in 3 parts, we will see how to use the library RichValues. It can be useful for working easily with numeric values that have associated uncertainties, and also even upper/lower limits or finite intervals of values.\n"
   ]
  },
  {
   "cell_type": "markdown",
   "id": "59ac5e11",
   "metadata": {},
   "source": [
    "## Part 1: Quick tutorial for RichValues"
   ]
  },
  {
   "cell_type": "markdown",
   "id": "17b6bafc",
   "metadata": {},
   "source": [
    "Here you can see how to use the library within a Python script or terminal. For more details, please check the [user guide](https://github.com/andresmegias/richvalues/blob/main/userguide.pdf)."
   ]
  },
  {
   "cell_type": "markdown",
   "id": "d6afe0fb",
   "metadata": {},
   "source": [
    "First of all, we import the library."
   ]
  },
  {
   "cell_type": "code",
   "execution_count": 1,
   "id": "a96d1c29",
   "metadata": {},
   "outputs": [],
   "source": [
    "import richvalues as rv"
   ]
  },
  {
   "cell_type": "markdown",
   "id": "4eb218cc",
   "metadata": {},
   "source": [
    "Let's create two rich values."
   ]
  },
  {
   "cell_type": "code",
   "execution_count": 2,
   "id": "05380989",
   "metadata": {},
   "outputs": [
    {
     "data": {
      "text/plain": [
       "5.2+/-0.4"
      ]
     },
     "execution_count": 2,
     "metadata": {},
     "output_type": "execute_result"
    }
   ],
   "source": [
    "x = rv.rval('5.2 +/- 0.4')\n",
    "y = rv.rval('3.1 -0.4+0.5')\n",
    "x"
   ]
  },
  {
   "cell_type": "markdown",
   "id": "a0cf8981",
   "metadata": {},
   "source": [
    "If you want to specify a domain, you can write it between brackets, for example: `rv.rval('5.2 +/-0.4 [0,inf]')`. You can access to the properties of rich values; for example: `x.main` would return the main value, `5.2`, and `x.unc` would return the inferior and superior uncertainties, `[0.4, 0.4]`. You can also obtain derived properties, like the relative uncertainty, `x.rel_unc`."
   ]
  },
  {
   "cell_type": "code",
   "execution_count": 3,
   "id": "f65fc823",
   "metadata": {},
   "outputs": [
    {
     "data": {
      "text/plain": [
       "5.2"
      ]
     },
     "execution_count": 3,
     "metadata": {},
     "output_type": "execute_result"
    }
   ],
   "source": [
    "x.main"
   ]
  },
  {
   "cell_type": "markdown",
   "id": "23185e41",
   "metadata": {},
   "source": [
    "Now, we can use mathematical operators to perform calculations with these rich values. For example, `x + y` would yield `8.3 +/- 0.6`."
   ]
  },
  {
   "cell_type": "code",
   "execution_count": 4,
   "id": "2a57ddd7",
   "metadata": {
    "scrolled": true
   },
   "outputs": [
    {
     "data": {
      "text/plain": [
       "8.3+/-0.6"
      ]
     },
     "execution_count": 4,
     "metadata": {},
     "output_type": "execute_result"
    }
   ],
   "source": [
    "x+y"
   ]
  },
  {
   "cell_type": "markdown",
   "id": "3ccfe256",
   "metadata": {},
   "source": [
    "Alternatively, you can use `function`, that allows to apply more complicated functions.\n",
    "~~~\n",
    "rv.function('{}+{}', args=[x,y])\n",
    "~~~\n",
    "You just have to write the expression that you want to apply, using empty curly brackets instead of the inputs, which have to be specified in the correct order. The function expression can include other functions; for example, if you imported the NumPy library as `np`, you could write: `rv.function('np.sin({}/{})', [x,y])`."
   ]
  },
  {
   "cell_type": "code",
   "execution_count": 5,
   "id": "2694ed01",
   "metadata": {},
   "outputs": [
    {
     "data": {
      "text/plain": [
       "0.983-0.064+0.016"
      ]
     },
     "execution_count": 5,
     "metadata": {},
     "output_type": "execute_result"
    }
   ],
   "source": [
    "rv.function('np.sin({}/{})', [x,y])"
   ]
  },
  {
   "cell_type": "markdown",
   "id": "a0e299e8",
   "metadata": {},
   "source": [
    "Now, let's see how to create rich arrays (based on NumPy arrays)."
   ]
  },
  {
   "cell_type": "code",
   "execution_count": 6,
   "id": "595d2203",
   "metadata": {},
   "outputs": [
    {
     "data": {
      "text/plain": [
       "RichArray([1.2+/-0.4, 2.1-0.3+0.4, 5.8+/-0.9], dtype=object)"
      ]
     },
     "execution_count": 6,
     "metadata": {},
     "output_type": "execute_result"
    }
   ],
   "source": [
    "u = rv.rarray(['1.2 +/- 0.4', '2.1-0.3+0.4', '5.8 +/-0.9'])\n",
    "v = rv.rarray(['8 +/- 3', '16+/-4', '< 21'])\n",
    "u"
   ]
  },
  {
   "cell_type": "markdown",
   "id": "9b546a5c",
   "metadata": {},
   "source": [
    "The domain can be specified with the `domain` argument. Alternatively, you can create rich arrays from arrays that contain the main values, the uncertainties, and the rest of variables."
   ]
  },
  {
   "cell_type": "code",
   "execution_count": 7,
   "id": "ad272be9",
   "metadata": {},
   "outputs": [
    {
     "data": {
      "text/plain": [
       "RichArray([1.2+/-0.4, 2.1-0.3+0.4, 5.8+/-0.9], dtype=object)"
      ]
     },
     "execution_count": 7,
     "metadata": {},
     "output_type": "execute_result"
    }
   ],
   "source": [
    "mains = [1.2, 2.1, 5.8]\n",
    "uncs = [[0.4, 0.4], [-0.3, 0.4], [0.9, 0.9]]\n",
    "u = rv.RichArray(mains, uncs, domains=[0,rv.inf])\n",
    "u"
   ]
  },
  {
   "cell_type": "markdown",
   "id": "216c67af",
   "metadata": {},
   "source": [
    "As with individual rich values, you can access to different properties; for example, u.mains would return the main values, [8., 21.]."
   ]
  },
  {
   "cell_type": "code",
   "execution_count": 8,
   "id": "e2dc9009",
   "metadata": {},
   "outputs": [
    {
     "data": {
      "text/plain": [
       "array([1.2, 2.1, 5.8])"
      ]
     },
     "execution_count": 8,
     "metadata": {},
     "output_type": "execute_result"
    }
   ],
   "source": [
    "u.mains"
   ]
  },
  {
   "cell_type": "markdown",
   "id": "6b30d5cc",
   "metadata": {},
   "source": [
    "You can use arithmetic operators as well to perform calculations; for example, `u*v` would yield `[9-4+5, < 150]`."
   ]
  },
  {
   "cell_type": "code",
   "execution_count": 9,
   "id": "207bde5b",
   "metadata": {},
   "outputs": [
    {
     "data": {
      "text/plain": [
       "RichArray([9-4+5, 33-9+10, < 150], dtype=object)"
      ]
     },
     "execution_count": 9,
     "metadata": {},
     "output_type": "execute_result"
    }
   ],
   "source": [
    "u*v"
   ]
  },
  {
   "cell_type": "markdown",
   "id": "6163f345",
   "metadata": {},
   "source": [
    " Alternatively, you can use `array_function`."
   ]
  },
  {
   "cell_type": "code",
   "execution_count": 10,
   "id": "6d01dd5f",
   "metadata": {},
   "outputs": [
    {
     "data": {
      "text/plain": [
       "RichArray([9-4+5, 34-9+10, < 130], dtype=object)"
      ]
     },
     "execution_count": 10,
     "metadata": {},
     "output_type": "execute_result"
    }
   ],
   "source": [
    "rv.array_function('{}*{}', [u,v], elementwise=True)"
   ]
  },
  {
   "cell_type": "markdown",
   "id": "64e65de9",
   "metadata": {},
   "source": [
    "Lastly, let's see how to create a rich dataframe (based on Pandas dataframes). The easiest way is to convert a dataframe with text strings representing rich values using `rich_dataframe`, but you can also convert dictionaries."
   ]
  },
  {
   "cell_type": "code",
   "execution_count": 11,
   "id": "3da6b665",
   "metadata": {},
   "outputs": [
    {
     "data": {
      "text/html": [
       "<div>\n",
       "<style scoped>\n",
       "    .dataframe tbody tr th:only-of-type {\n",
       "        vertical-align: middle;\n",
       "    }\n",
       "\n",
       "    .dataframe tbody tr th {\n",
       "        vertical-align: top;\n",
       "    }\n",
       "\n",
       "    .dataframe thead th {\n",
       "        text-align: right;\n",
       "    }\n",
       "</style>\n",
       "<table border=\"1\" class=\"dataframe\">\n",
       "  <thead>\n",
       "    <tr style=\"text-align: right;\">\n",
       "      <th></th>\n",
       "      <th>a</th>\n",
       "      <th>b</th>\n",
       "      <th>c</th>\n",
       "    </tr>\n",
       "  </thead>\n",
       "  <tbody>\n",
       "    <tr>\n",
       "      <th>0</th>\n",
       "      <td>2.1+/-0.3</td>\n",
       "      <td>3.4+/-0.4</td>\n",
       "      <td>&lt; 4</td>\n",
       "    </tr>\n",
       "    <tr>\n",
       "      <th>1</th>\n",
       "      <td>5</td>\n",
       "      <td>&lt; 6</td>\n",
       "      <td>8+/-1</td>\n",
       "    </tr>\n",
       "  </tbody>\n",
       "</table>\n",
       "</div>"
      ],
      "text/plain": [
       "           a          b      c\n",
       "0  2.1+/-0.3  3.4+/-0.4    < 4\n",
       "1          5        < 6  8+/-1"
      ]
     },
     "execution_count": 11,
     "metadata": {},
     "output_type": "execute_result"
    }
   ],
   "source": [
    "import numpy as np\n",
    "import pandas as pd\n",
    "dic = {'a': ['2.1+/-0.3','5'], 'b': ['3.4+/-0.4','<6'], 'c': ['<4','8+/-1']}\n",
    "rdf = rv.rich_dataframe(dic, domains=[0,np.inf])\n",
    "rdf"
   ]
  },
  {
   "cell_type": "markdown",
   "id": "8f4a582a",
   "metadata": {},
   "source": [
    "You can access to different properties of the values of the rich dataframe; for example, `rdf.mains` would return a regular dataframe containing the main values of the elements of `rdf`."
   ]
  },
  {
   "cell_type": "code",
   "execution_count": 12,
   "id": "49214e2c",
   "metadata": {},
   "outputs": [
    {
     "data": {
      "text/html": [
       "<div>\n",
       "<style scoped>\n",
       "    .dataframe tbody tr th:only-of-type {\n",
       "        vertical-align: middle;\n",
       "    }\n",
       "\n",
       "    .dataframe tbody tr th {\n",
       "        vertical-align: top;\n",
       "    }\n",
       "\n",
       "    .dataframe thead th {\n",
       "        text-align: right;\n",
       "    }\n",
       "</style>\n",
       "<table border=\"1\" class=\"dataframe\">\n",
       "  <thead>\n",
       "    <tr style=\"text-align: right;\">\n",
       "      <th></th>\n",
       "      <th>a</th>\n",
       "      <th>b</th>\n",
       "      <th>c</th>\n",
       "    </tr>\n",
       "  </thead>\n",
       "  <tbody>\n",
       "    <tr>\n",
       "      <th>0</th>\n",
       "      <td>2.1</td>\n",
       "      <td>3.4</td>\n",
       "      <td>4.0</td>\n",
       "    </tr>\n",
       "    <tr>\n",
       "      <th>1</th>\n",
       "      <td>5.0</td>\n",
       "      <td>6.0</td>\n",
       "      <td>8.0</td>\n",
       "    </tr>\n",
       "  </tbody>\n",
       "</table>\n",
       "</div>"
      ],
      "text/plain": [
       "     a    b    c\n",
       "0  2.1  3.4  4.0\n",
       "1  5.0  6.0  8.0"
      ]
     },
     "execution_count": 12,
     "metadata": {},
     "output_type": "execute_result"
    }
   ],
   "source": [
    "rdf.mains"
   ]
  },
  {
   "cell_type": "markdown",
   "id": "93f8a004",
   "metadata": {},
   "source": [
    " Arithmetic operators can be used with rich dataframes, although for more complicated functions you can use `create_column` and `create_row`."
   ]
  },
  {
   "cell_type": "code",
   "execution_count": 13,
   "id": "0ca18885",
   "metadata": {},
   "outputs": [
    {
     "data": {
      "text/html": [
       "<div>\n",
       "<style scoped>\n",
       "    .dataframe tbody tr th:only-of-type {\n",
       "        vertical-align: middle;\n",
       "    }\n",
       "\n",
       "    .dataframe tbody tr th {\n",
       "        vertical-align: top;\n",
       "    }\n",
       "\n",
       "    .dataframe thead th {\n",
       "        text-align: right;\n",
       "    }\n",
       "</style>\n",
       "<table border=\"1\" class=\"dataframe\">\n",
       "  <thead>\n",
       "    <tr style=\"text-align: right;\">\n",
       "      <th></th>\n",
       "      <th>a</th>\n",
       "      <th>b</th>\n",
       "      <th>c</th>\n",
       "      <th>d</th>\n",
       "    </tr>\n",
       "  </thead>\n",
       "  <tbody>\n",
       "    <tr>\n",
       "      <th>0</th>\n",
       "      <td>2.1+/-0.3</td>\n",
       "      <td>3.4+/-0.4</td>\n",
       "      <td>&lt; 4</td>\n",
       "      <td>0.72-0.15+0.21</td>\n",
       "    </tr>\n",
       "    <tr>\n",
       "      <th>1</th>\n",
       "      <td>5</td>\n",
       "      <td>&lt; 6</td>\n",
       "      <td>8+/-1</td>\n",
       "      <td>1.2-3.1+1.9</td>\n",
       "    </tr>\n",
       "  </tbody>\n",
       "</table>\n",
       "</div>"
      ],
      "text/plain": [
       "           a          b      c               d\n",
       "0  2.1+/-0.3  3.4+/-0.4    < 4  0.72-0.15+0.21\n",
       "1          5        < 6  8+/-1     1.2-3.1+1.9"
      ]
     },
     "execution_count": 13,
     "metadata": {},
     "output_type": "execute_result"
    }
   ],
   "source": [
    "rdf['d'] = rdf.create_column('np.tan({}/{})', ['a','b'])\n",
    "rdf"
   ]
  },
  {
   "cell_type": "markdown",
   "id": "a10fc629",
   "metadata": {},
   "source": [
    "Note that in this case you have to specify the names of the columns involved in the calculation."
   ]
  },
  {
   "cell_type": "markdown",
   "id": "6d20922d",
   "metadata": {},
   "source": [
    "That would be it for this quick tutorial. If you want to learn more, you can read the [user guide](https://github.com/andresmegias/richvalues/blob/main/userguide.pdf) and also check and run the [example scripts](https://github.com/andresmegias/richvalues/tree/main/examples) (`ratio.py` and `linearfit.py`)."
   ]
  },
  {
   "cell_type": "markdown",
   "id": "a58138ab",
   "metadata": {},
   "source": [
    "## Part 2: A real example with dataframes"
   ]
  },
  {
   "cell_type": "markdown",
   "id": "a87745eb",
   "metadata": {},
   "source": [
    "In this tutorial, we import a file of abundances of two molecules in several astronomical sources, we compute the ratio between both species for each source, make a plot of it and export the results."
   ]
  },
  {
   "cell_type": "markdown",
   "id": "8ffb820e",
   "metadata": {},
   "source": [
    "First, let's import the modules and libraries to use."
   ]
  },
  {
   "cell_type": "code",
   "execution_count": 14,
   "id": "70351ef2",
   "metadata": {},
   "outputs": [],
   "source": [
    "import numpy as np\n",
    "import pandas as pd\n",
    "import matplotlib.pyplot as plt\n",
    "import richvalues as rv"
   ]
  },
  {
   "cell_type": "markdown",
   "id": "4b8e9735",
   "metadata": {},
   "source": [
    "Let's import the data."
   ]
  },
  {
   "cell_type": "code",
   "execution_count": 15,
   "id": "7861516e",
   "metadata": {},
   "outputs": [
    {
     "data": {
      "text/html": [
       "<div>\n",
       "<style scoped>\n",
       "    .dataframe tbody tr th:only-of-type {\n",
       "        vertical-align: middle;\n",
       "    }\n",
       "\n",
       "    .dataframe tbody tr th {\n",
       "        vertical-align: top;\n",
       "    }\n",
       "\n",
       "    .dataframe thead th {\n",
       "        text-align: right;\n",
       "    }\n",
       "</style>\n",
       "<table border=\"1\" class=\"dataframe\">\n",
       "  <thead>\n",
       "    <tr style=\"text-align: right;\">\n",
       "      <th></th>\n",
       "      <th>HC3N</th>\n",
       "      <th>CH3CN</th>\n",
       "    </tr>\n",
       "    <tr>\n",
       "      <th>Source \\ Molecule</th>\n",
       "      <th></th>\n",
       "      <th></th>\n",
       "    </tr>\n",
       "  </thead>\n",
       "  <tbody>\n",
       "    <tr>\n",
       "      <th>L1517B - dust</th>\n",
       "      <td>5.16+/-0.05 e13</td>\n",
       "      <td>2.1+/-0.6 e11</td>\n",
       "    </tr>\n",
       "    <tr>\n",
       "      <th>L1517B - methanol</th>\n",
       "      <td>3.72-0.13+0.14 e12</td>\n",
       "      <td>&lt; 2.0 e11</td>\n",
       "    </tr>\n",
       "    <tr>\n",
       "      <th>L1498 - dust</th>\n",
       "      <td>1.6+/-0.3 e13</td>\n",
       "      <td>&lt; 8 e10</td>\n",
       "    </tr>\n",
       "    <tr>\n",
       "      <th>L1498 - methanol</th>\n",
       "      <td>2.2+/-1.0 e13</td>\n",
       "      <td>1.0+/-0.1 e11</td>\n",
       "    </tr>\n",
       "    <tr>\n",
       "      <th>L1544 - dust</th>\n",
       "      <td>1.0+/-0.3 e14</td>\n",
       "      <td>1.5+/-0.2 e11</td>\n",
       "    </tr>\n",
       "    <tr>\n",
       "      <th>L1544 - methanol</th>\n",
       "      <td>4.2+/-0.4 e13</td>\n",
       "      <td>&lt; 9 e10</td>\n",
       "    </tr>\n",
       "    <tr>\n",
       "      <th>L1521E - dust</th>\n",
       "      <td>8.4+/-2.5 e12</td>\n",
       "      <td>4.8+/-1.4 e11</td>\n",
       "    </tr>\n",
       "    <tr>\n",
       "      <th>B1-a</th>\n",
       "      <td>4.2+/-1.2 e12</td>\n",
       "      <td>4.9+/-1.1 e11</td>\n",
       "    </tr>\n",
       "    <tr>\n",
       "      <th>B1-c</th>\n",
       "      <td>4+/-3 e12</td>\n",
       "      <td>3.5+/-0.6 e11</td>\n",
       "    </tr>\n",
       "    <tr>\n",
       "      <th>B5 IRS1</th>\n",
       "      <td>3.2+/-1.2 e12</td>\n",
       "      <td>&lt; 1.7 e11</td>\n",
       "    </tr>\n",
       "    <tr>\n",
       "      <th>HH 300</th>\n",
       "      <td>&lt; 1.3 e11</td>\n",
       "      <td>&lt; 1.2 e11</td>\n",
       "    </tr>\n",
       "    <tr>\n",
       "      <th>IRAS 03235</th>\n",
       "      <td>3.9+/-1.0 e12</td>\n",
       "      <td>1.6+/-0.9 e11</td>\n",
       "    </tr>\n",
       "    <tr>\n",
       "      <th>IRAS 03245</th>\n",
       "      <td>4+/-3 e12</td>\n",
       "      <td>1.9+/-1.5 e11</td>\n",
       "    </tr>\n",
       "    <tr>\n",
       "      <th>IRAS 03254</th>\n",
       "      <td>&lt; 9 e10</td>\n",
       "      <td>&lt; 1.0 e11</td>\n",
       "    </tr>\n",
       "    <tr>\n",
       "      <th>IRAS 03271</th>\n",
       "      <td>1.7+/-1.4 e12</td>\n",
       "      <td>1.9+/-1.1 e11</td>\n",
       "    </tr>\n",
       "    <tr>\n",
       "      <th>IRAS 04108</th>\n",
       "      <td>&lt; 1.0 e11</td>\n",
       "      <td>&lt; 1.2 e11</td>\n",
       "    </tr>\n",
       "    <tr>\n",
       "      <th>IRAS 23238</th>\n",
       "      <td>3+/-3 e12</td>\n",
       "      <td>1.4+/-0.3 e11</td>\n",
       "    </tr>\n",
       "    <tr>\n",
       "      <th>L1014 IRS</th>\n",
       "      <td>4+/-4 e11</td>\n",
       "      <td>&lt; 6 e10</td>\n",
       "    </tr>\n",
       "    <tr>\n",
       "      <th>L1448 IRS1</th>\n",
       "      <td>&lt; 9 e10</td>\n",
       "      <td>&lt; 9 e10</td>\n",
       "    </tr>\n",
       "    <tr>\n",
       "      <th>L1455 IRS3</th>\n",
       "      <td>6+/-5 e11</td>\n",
       "      <td>&lt; 9 e10</td>\n",
       "    </tr>\n",
       "    <tr>\n",
       "      <th>L1455 SMM1</th>\n",
       "      <td>2.4+/-1.9 e12</td>\n",
       "      <td>&lt; 1.1 e11</td>\n",
       "    </tr>\n",
       "    <tr>\n",
       "      <th>L1489 IRS</th>\n",
       "      <td>3.5+/-2.4 e11</td>\n",
       "      <td>&lt; 1.4 e11</td>\n",
       "    </tr>\n",
       "    <tr>\n",
       "      <th>SVS 4-5</th>\n",
       "      <td>1.1+/-0.3 e13</td>\n",
       "      <td>5.2+/-0.9 e11</td>\n",
       "    </tr>\n",
       "    <tr>\n",
       "      <th>GM Aur</th>\n",
       "      <td>1.9+/-0.4 e13</td>\n",
       "      <td>2.1-0.1+0.2 e12</td>\n",
       "    </tr>\n",
       "    <tr>\n",
       "      <th>As 209</th>\n",
       "      <td>2.9+/-0.5 e13</td>\n",
       "      <td>1.7+/-0.2 e12</td>\n",
       "    </tr>\n",
       "    <tr>\n",
       "      <th>HD 163296</th>\n",
       "      <td>7.3-1.9+2.5 e13</td>\n",
       "      <td>2.3+/-0.2 e12</td>\n",
       "    </tr>\n",
       "    <tr>\n",
       "      <th>MWC 480</th>\n",
       "      <td>8-3+4 e13</td>\n",
       "      <td>3.5+/-0.2 e12</td>\n",
       "    </tr>\n",
       "    <tr>\n",
       "      <th>46P</th>\n",
       "      <td>&lt; 0.003</td>\n",
       "      <td>0.017+/-0.001</td>\n",
       "    </tr>\n",
       "    <tr>\n",
       "      <th>67P</th>\n",
       "      <td>4.0 e-4</td>\n",
       "      <td>0.0059</td>\n",
       "    </tr>\n",
       "  </tbody>\n",
       "</table>\n",
       "</div>"
      ],
      "text/plain": [
       "                                 HC3N            CH3CN\n",
       "Source \\ Molecule                                     \n",
       "L1517B - dust         5.16+/-0.05 e13    2.1+/-0.6 e11\n",
       "L1517B - methanol  3.72-0.13+0.14 e12        < 2.0 e11\n",
       "L1498 - dust            1.6+/-0.3 e13          < 8 e10\n",
       "L1498 - methanol        2.2+/-1.0 e13    1.0+/-0.1 e11\n",
       "L1544 - dust            1.0+/-0.3 e14    1.5+/-0.2 e11\n",
       "L1544 - methanol        4.2+/-0.4 e13          < 9 e10\n",
       "L1521E - dust           8.4+/-2.5 e12    4.8+/-1.4 e11\n",
       "B1-a                    4.2+/-1.2 e12    4.9+/-1.1 e11\n",
       "B1-c                        4+/-3 e12    3.5+/-0.6 e11\n",
       "B5 IRS1                 3.2+/-1.2 e12        < 1.7 e11\n",
       "HH 300                      < 1.3 e11        < 1.2 e11\n",
       "IRAS 03235              3.9+/-1.0 e12    1.6+/-0.9 e11\n",
       "IRAS 03245                  4+/-3 e12    1.9+/-1.5 e11\n",
       "IRAS 03254                    < 9 e10        < 1.0 e11\n",
       "IRAS 03271              1.7+/-1.4 e12    1.9+/-1.1 e11\n",
       "IRAS 04108                  < 1.0 e11        < 1.2 e11\n",
       "IRAS 23238                  3+/-3 e12    1.4+/-0.3 e11\n",
       "L1014 IRS                   4+/-4 e11          < 6 e10\n",
       "L1448 IRS1                    < 9 e10          < 9 e10\n",
       "L1455 IRS3                  6+/-5 e11          < 9 e10\n",
       "L1455 SMM1              2.4+/-1.9 e12        < 1.1 e11\n",
       "L1489 IRS               3.5+/-2.4 e11        < 1.4 e11\n",
       "SVS 4-5                 1.1+/-0.3 e13    5.2+/-0.9 e11\n",
       "GM Aur                  1.9+/-0.4 e13  2.1-0.1+0.2 e12\n",
       "As 209                  2.9+/-0.5 e13    1.7+/-0.2 e12\n",
       "HD 163296             7.3-1.9+2.5 e13    2.3+/-0.2 e12\n",
       "MWC 480                     8-3+4 e13    3.5+/-0.2 e12\n",
       "46P                           < 0.003    0.017+/-0.001\n",
       "67P                           4.0 e-4           0.0059"
      ]
     },
     "execution_count": 15,
     "metadata": {},
     "output_type": "execute_result"
    }
   ],
   "source": [
    "data = pd.read_csv('observed-column-densities.csv', index_col=0, comment='#')\n",
    "data = rv.rich_dataframe(data, domains=[0,np.inf])\n",
    "data"
   ]
  },
  {
   "cell_type": "markdown",
   "id": "7f1012ea",
   "metadata": {},
   "source": [
    "We want to compute the ratio between the two columns. It is very easy."
   ]
  },
  {
   "cell_type": "code",
   "execution_count": 16,
   "id": "20966a62",
   "metadata": {},
   "outputs": [
    {
     "data": {
      "text/plain": [
       "Source \\ Molecule\n",
       "L1517B - dust         240-60+100\n",
       "L1517B - methanol           > 17\n",
       "L1498 - dust                > 90\n",
       "L1498 - methanol     220-100+110\n",
       "L1544 - dust         670-210+230\n",
       "L1544 - methanol           > 400\n",
       "L1521E - dust            18-6+10\n",
       "B1-a                       9-3+4\n",
       "B1-c                     12+/-10\n",
       "B5 IRS1                      > 5\n",
       "HH 300                       nan\n",
       "IRAS 03235              24-10+31\n",
       "IRAS 03245              19-15+57\n",
       "IRAS 03254                   nan\n",
       "IRAS 03271                9-7+15\n",
       "IRAS 04108                   nan\n",
       "IRAS 23238              23-18+21\n",
       "L1014 IRS                  > 1.4\n",
       "L1448 IRS1                   nan\n",
       "L1455 IRS3                 > 1.4\n",
       "L1455 SMM1                   > 4\n",
       "L1489 IRS                  > 0.5\n",
       "SVS 4-5                   21-6+8\n",
       "GM Aur               8.9-1.9+2.0\n",
       "As 209                    17-3+4\n",
       "HD 163296                32-8+11\n",
       "MWC 480                  23-8+11\n",
       "46P                       < 0.22\n",
       "67P                        0.068\n",
       "dtype: object"
      ]
     },
     "execution_count": 16,
     "metadata": {},
     "output_type": "execute_result"
    }
   ],
   "source": [
    "ratio = data['HC3N'] / data['CH3CN']\n",
    "ratio"
   ]
  },
  {
   "cell_type": "markdown",
   "id": "d0bb4afc",
   "metadata": {},
   "source": [
    "We obtained a Pandas' series. Now, we add it to the original dataframe."
   ]
  },
  {
   "cell_type": "code",
   "execution_count": 17,
   "id": "3f85ba8f",
   "metadata": {},
   "outputs": [
    {
     "data": {
      "text/html": [
       "<div>\n",
       "<style scoped>\n",
       "    .dataframe tbody tr th:only-of-type {\n",
       "        vertical-align: middle;\n",
       "    }\n",
       "\n",
       "    .dataframe tbody tr th {\n",
       "        vertical-align: top;\n",
       "    }\n",
       "\n",
       "    .dataframe thead th {\n",
       "        text-align: right;\n",
       "    }\n",
       "</style>\n",
       "<table border=\"1\" class=\"dataframe\">\n",
       "  <thead>\n",
       "    <tr style=\"text-align: right;\">\n",
       "      <th></th>\n",
       "      <th>HC3N</th>\n",
       "      <th>CH3CN</th>\n",
       "      <th>ratio</th>\n",
       "    </tr>\n",
       "    <tr>\n",
       "      <th>Source \\ Molecule</th>\n",
       "      <th></th>\n",
       "      <th></th>\n",
       "      <th></th>\n",
       "    </tr>\n",
       "  </thead>\n",
       "  <tbody>\n",
       "    <tr>\n",
       "      <th>L1517B - dust</th>\n",
       "      <td>5.16+/-0.05 e13</td>\n",
       "      <td>2.1+/-0.6 e11</td>\n",
       "      <td>240-60+100</td>\n",
       "    </tr>\n",
       "    <tr>\n",
       "      <th>L1517B - methanol</th>\n",
       "      <td>3.72-0.13+0.14 e12</td>\n",
       "      <td>&lt; 2.0 e11</td>\n",
       "      <td>&gt; 17</td>\n",
       "    </tr>\n",
       "    <tr>\n",
       "      <th>L1498 - dust</th>\n",
       "      <td>1.6+/-0.3 e13</td>\n",
       "      <td>&lt; 8 e10</td>\n",
       "      <td>&gt; 90</td>\n",
       "    </tr>\n",
       "    <tr>\n",
       "      <th>L1498 - methanol</th>\n",
       "      <td>2.2+/-1.0 e13</td>\n",
       "      <td>1.0+/-0.1 e11</td>\n",
       "      <td>220-100+110</td>\n",
       "    </tr>\n",
       "    <tr>\n",
       "      <th>L1544 - dust</th>\n",
       "      <td>1.0+/-0.3 e14</td>\n",
       "      <td>1.5+/-0.2 e11</td>\n",
       "      <td>670-210+230</td>\n",
       "    </tr>\n",
       "    <tr>\n",
       "      <th>L1544 - methanol</th>\n",
       "      <td>4.2+/-0.4 e13</td>\n",
       "      <td>&lt; 9 e10</td>\n",
       "      <td>&gt; 400</td>\n",
       "    </tr>\n",
       "    <tr>\n",
       "      <th>L1521E - dust</th>\n",
       "      <td>8.4+/-2.5 e12</td>\n",
       "      <td>4.8+/-1.4 e11</td>\n",
       "      <td>18-6+10</td>\n",
       "    </tr>\n",
       "    <tr>\n",
       "      <th>B1-a</th>\n",
       "      <td>4.2+/-1.2 e12</td>\n",
       "      <td>4.9+/-1.1 e11</td>\n",
       "      <td>9-3+4</td>\n",
       "    </tr>\n",
       "    <tr>\n",
       "      <th>B1-c</th>\n",
       "      <td>4+/-3 e12</td>\n",
       "      <td>3.5+/-0.6 e11</td>\n",
       "      <td>12+/-10</td>\n",
       "    </tr>\n",
       "    <tr>\n",
       "      <th>B5 IRS1</th>\n",
       "      <td>3.2+/-1.2 e12</td>\n",
       "      <td>&lt; 1.7 e11</td>\n",
       "      <td>&gt; 5</td>\n",
       "    </tr>\n",
       "    <tr>\n",
       "      <th>HH 300</th>\n",
       "      <td>&lt; 1.3 e11</td>\n",
       "      <td>&lt; 1.2 e11</td>\n",
       "      <td>nan</td>\n",
       "    </tr>\n",
       "    <tr>\n",
       "      <th>IRAS 03235</th>\n",
       "      <td>3.9+/-1.0 e12</td>\n",
       "      <td>1.6+/-0.9 e11</td>\n",
       "      <td>24-10+31</td>\n",
       "    </tr>\n",
       "    <tr>\n",
       "      <th>IRAS 03245</th>\n",
       "      <td>4+/-3 e12</td>\n",
       "      <td>1.9+/-1.5 e11</td>\n",
       "      <td>19-15+57</td>\n",
       "    </tr>\n",
       "    <tr>\n",
       "      <th>IRAS 03254</th>\n",
       "      <td>&lt; 9 e10</td>\n",
       "      <td>&lt; 1.0 e11</td>\n",
       "      <td>nan</td>\n",
       "    </tr>\n",
       "    <tr>\n",
       "      <th>IRAS 03271</th>\n",
       "      <td>1.7+/-1.4 e12</td>\n",
       "      <td>1.9+/-1.1 e11</td>\n",
       "      <td>9-7+15</td>\n",
       "    </tr>\n",
       "    <tr>\n",
       "      <th>IRAS 04108</th>\n",
       "      <td>&lt; 1.0 e11</td>\n",
       "      <td>&lt; 1.2 e11</td>\n",
       "      <td>nan</td>\n",
       "    </tr>\n",
       "    <tr>\n",
       "      <th>IRAS 23238</th>\n",
       "      <td>3+/-3 e12</td>\n",
       "      <td>1.4+/-0.3 e11</td>\n",
       "      <td>23-18+21</td>\n",
       "    </tr>\n",
       "    <tr>\n",
       "      <th>L1014 IRS</th>\n",
       "      <td>4+/-4 e11</td>\n",
       "      <td>&lt; 6 e10</td>\n",
       "      <td>&gt; 1.4</td>\n",
       "    </tr>\n",
       "    <tr>\n",
       "      <th>L1448 IRS1</th>\n",
       "      <td>&lt; 9 e10</td>\n",
       "      <td>&lt; 9 e10</td>\n",
       "      <td>nan</td>\n",
       "    </tr>\n",
       "    <tr>\n",
       "      <th>L1455 IRS3</th>\n",
       "      <td>6+/-5 e11</td>\n",
       "      <td>&lt; 9 e10</td>\n",
       "      <td>&gt; 1.4</td>\n",
       "    </tr>\n",
       "    <tr>\n",
       "      <th>L1455 SMM1</th>\n",
       "      <td>2.4+/-1.9 e12</td>\n",
       "      <td>&lt; 1.1 e11</td>\n",
       "      <td>&gt; 4</td>\n",
       "    </tr>\n",
       "    <tr>\n",
       "      <th>L1489 IRS</th>\n",
       "      <td>3.5+/-2.4 e11</td>\n",
       "      <td>&lt; 1.4 e11</td>\n",
       "      <td>&gt; 0.5</td>\n",
       "    </tr>\n",
       "    <tr>\n",
       "      <th>SVS 4-5</th>\n",
       "      <td>1.1+/-0.3 e13</td>\n",
       "      <td>5.2+/-0.9 e11</td>\n",
       "      <td>21-6+8</td>\n",
       "    </tr>\n",
       "    <tr>\n",
       "      <th>GM Aur</th>\n",
       "      <td>1.9+/-0.4 e13</td>\n",
       "      <td>2.1-0.1+0.2 e12</td>\n",
       "      <td>8.9-1.9+2.0</td>\n",
       "    </tr>\n",
       "    <tr>\n",
       "      <th>As 209</th>\n",
       "      <td>2.9+/-0.5 e13</td>\n",
       "      <td>1.7+/-0.2 e12</td>\n",
       "      <td>17-3+4</td>\n",
       "    </tr>\n",
       "    <tr>\n",
       "      <th>HD 163296</th>\n",
       "      <td>7.3-1.9+2.5 e13</td>\n",
       "      <td>2.3+/-0.2 e12</td>\n",
       "      <td>32-8+11</td>\n",
       "    </tr>\n",
       "    <tr>\n",
       "      <th>MWC 480</th>\n",
       "      <td>8-3+4 e13</td>\n",
       "      <td>3.5+/-0.2 e12</td>\n",
       "      <td>23-8+11</td>\n",
       "    </tr>\n",
       "    <tr>\n",
       "      <th>46P</th>\n",
       "      <td>&lt; 0.003</td>\n",
       "      <td>0.017+/-0.001</td>\n",
       "      <td>&lt; 0.22</td>\n",
       "    </tr>\n",
       "    <tr>\n",
       "      <th>67P</th>\n",
       "      <td>4.0 e-4</td>\n",
       "      <td>0.0059</td>\n",
       "      <td>0.068</td>\n",
       "    </tr>\n",
       "  </tbody>\n",
       "</table>\n",
       "</div>"
      ],
      "text/plain": [
       "                                 HC3N            CH3CN        ratio\n",
       "Source \\ Molecule                                                  \n",
       "L1517B - dust         5.16+/-0.05 e13    2.1+/-0.6 e11   240-60+100\n",
       "L1517B - methanol  3.72-0.13+0.14 e12        < 2.0 e11         > 17\n",
       "L1498 - dust            1.6+/-0.3 e13          < 8 e10         > 90\n",
       "L1498 - methanol        2.2+/-1.0 e13    1.0+/-0.1 e11  220-100+110\n",
       "L1544 - dust            1.0+/-0.3 e14    1.5+/-0.2 e11  670-210+230\n",
       "L1544 - methanol        4.2+/-0.4 e13          < 9 e10        > 400\n",
       "L1521E - dust           8.4+/-2.5 e12    4.8+/-1.4 e11      18-6+10\n",
       "B1-a                    4.2+/-1.2 e12    4.9+/-1.1 e11        9-3+4\n",
       "B1-c                        4+/-3 e12    3.5+/-0.6 e11      12+/-10\n",
       "B5 IRS1                 3.2+/-1.2 e12        < 1.7 e11          > 5\n",
       "HH 300                      < 1.3 e11        < 1.2 e11          nan\n",
       "IRAS 03235              3.9+/-1.0 e12    1.6+/-0.9 e11     24-10+31\n",
       "IRAS 03245                  4+/-3 e12    1.9+/-1.5 e11     19-15+57\n",
       "IRAS 03254                    < 9 e10        < 1.0 e11          nan\n",
       "IRAS 03271              1.7+/-1.4 e12    1.9+/-1.1 e11       9-7+15\n",
       "IRAS 04108                  < 1.0 e11        < 1.2 e11          nan\n",
       "IRAS 23238                  3+/-3 e12    1.4+/-0.3 e11     23-18+21\n",
       "L1014 IRS                   4+/-4 e11          < 6 e10        > 1.4\n",
       "L1448 IRS1                    < 9 e10          < 9 e10          nan\n",
       "L1455 IRS3                  6+/-5 e11          < 9 e10        > 1.4\n",
       "L1455 SMM1              2.4+/-1.9 e12        < 1.1 e11          > 4\n",
       "L1489 IRS               3.5+/-2.4 e11        < 1.4 e11        > 0.5\n",
       "SVS 4-5                 1.1+/-0.3 e13    5.2+/-0.9 e11       21-6+8\n",
       "GM Aur                  1.9+/-0.4 e13  2.1-0.1+0.2 e12  8.9-1.9+2.0\n",
       "As 209                  2.9+/-0.5 e13    1.7+/-0.2 e12       17-3+4\n",
       "HD 163296             7.3-1.9+2.5 e13    2.3+/-0.2 e12      32-8+11\n",
       "MWC 480                     8-3+4 e13    3.5+/-0.2 e12      23-8+11\n",
       "46P                           < 0.003    0.017+/-0.001       < 0.22\n",
       "67P                           4.0 e-4           0.0059        0.068"
      ]
     },
     "execution_count": 17,
     "metadata": {},
     "output_type": "execute_result"
    }
   ],
   "source": [
    "data['ratio'] = ratio\n",
    "data"
   ]
  },
  {
   "cell_type": "markdown",
   "id": "3f7f7ecb",
   "metadata": {},
   "source": [
    "We can also export the dataframe easily."
   ]
  },
  {
   "cell_type": "code",
   "execution_count": 31,
   "id": "bc1c9d0e",
   "metadata": {},
   "outputs": [],
   "source": [
    "data.to_csv('observed-ratio.csv')"
   ]
  },
  {
   "cell_type": "markdown",
   "id": "cd642717",
   "metadata": {},
   "source": [
    "Now, let's make a plot of the calculated ratios."
   ]
  },
  {
   "cell_type": "markdown",
   "id": "3223edbe",
   "metadata": {},
   "source": [
    "We put some graphical options."
   ]
  },
  {
   "cell_type": "code",
   "execution_count": 19,
   "id": "e7a6276c",
   "metadata": {},
   "outputs": [],
   "source": [
    "fontsize = 10.\n",
    "plt.rcParams['font.size'] = fontsize\n",
    "colors = np.array(['tab:blue']*7 + ['tab:green']*16 + ['tab:red']*4\n",
    "                  + ['orchid']*2)\n",
    "names = data.index.values\n",
    "diffs = [0, 0.5, 1, 0.5, 1, 0.5, 1,\n",
    "         1, 1, 1, 0, 1, 1, 0, 1, 0, 1, 1, 0, 1, 1, 1, 1, 1, 1, 1, 1, 1, 1]\n",
    "locs = []\n",
    "for diff in diffs:\n",
    "    locs += [diff]\n",
    "locs = np.cumsum(locs)\n",
    "plot_approx_uncs = False"
   ]
  },
  {
   "cell_type": "markdown",
   "id": "1cc46f3b",
   "metadata": {},
   "source": [
    "Now, to plot our rich values we can simply use the function `rv.errorbar`, which is an implementation of Matplotlib's `errorbar`."
   ]
  },
  {
   "cell_type": "code",
   "execution_count": 20,
   "id": "f35b16d8",
   "metadata": {
    "scrolled": false
   },
   "outputs": [
    {
     "data": {
      "image/png": "[encoded data removed]",
      "text/plain": [
       "<Figure size 640x480 with 1 Axes>"
      ]
     },
     "metadata": {},
     "output_type": "display_data"
    }
   ],
   "source": [
    "rv.errorbar(locs, ratio, fmt=',', color='black')\n",
    "plt.scatter(locs, ratio.mains, color=colors, zorder=3)\n",
    "plt.show()"
   ]
  },
  {
   "cell_type": "markdown",
   "id": "b040eda8",
   "metadata": {},
   "source": [
    "Now, we complete the plot with more options."
   ]
  },
  {
   "cell_type": "code",
   "execution_count": 21,
   "id": "f6985f4f",
   "metadata": {},
   "outputs": [
    {
     "data": {
      "image/png": "[encoded data removed]",
      "text/plain": [
       "<Figure size 750x500 with 1 Axes>"
      ]
     },
     "metadata": {},
     "output_type": "display_data"
    }
   ],
   "source": [
    "plt.figure(1, figsize=(7.5,5.0))\n",
    "plt.clf()\n",
    "rv.errorbar(locs, ratio, fmt=',', color='black')\n",
    "plt.scatter(locs, ratio.mains, color=colors, zorder=3)\n",
    "if plot_approx_uncs:\n",
    "    col_dens_HC3N = rv.rich_array(data['HC3N'])\n",
    "    col_dens_CH3CN = rv.rich_array(data['CH3CN'])\n",
    "    ratio_mains = col_dens_HC3N.mains / col_dens_CH3CN.mains\n",
    "    ratio_uncs_eb = \\\n",
    "        ratio_mains * ((col_dens_HC3N.uncs_eb/col_dens_HC3N.mains)**2\n",
    "                       +(col_dens_CH3CN.uncs_eb/col_dens_CH3CN.mains)**2)**0.5\n",
    "    for i in range(len(ratio_mains)):\n",
    "        if col_dens_CH3CN[i].is_uplim:\n",
    "            ratio_mains[i] = ((col_dens_HC3N[i].main - 1*col_dens_HC3N[i].unc[0])\n",
    "                              / col_dens_CH3CN[i].main)\n",
    "    ratio_mains[-2] = (col_dens_HC3N[-2].main / (col_dens_CH3CN[-2].main\n",
    "                       - 1*col_dens_CH3CN[-2].unc[0]))\n",
    "    cond = np.isfinite(ratio.mains)\n",
    "    locs_ = locs[cond]\n",
    "    ratio_mains = ratio_mains[cond]\n",
    "    ratio_uncs_eb = ratio_uncs_eb[:,cond]\n",
    "    cond = ~ rv.rich_array(ratio[np.isfinite(ratio.mains)]).are_lims\n",
    "    plt.errorbar(locs_[cond], ratio_mains[cond], yerr=ratio_uncs_eb[:,cond],\n",
    "                 fmt=',', alpha=0.8, color='orange', zorder=2)\n",
    "    plt.scatter(locs_, ratio_mains, color='orange', alpha=0.8, zorder=2)\n",
    "plt.xlim([-0.5, locs[-1] + 0.5])\n",
    "plt.axhline(y=1, linestyle='-', linewidth=0.8, color=(0.4,0.4,0.4))\n",
    "plt.yscale('log')\n",
    "cond = ~ np.isnan(ratio.mains)\n",
    "plt.xticks(ticks=locs[cond], labels=names[cond], rotation=90,\n",
    "           fontsize=0.8*fontsize)\n",
    "plt.ylabel('HC$_3$N / CH$_3$CN abundance ratio')\n",
    "y_top_labels = 1.05\n",
    "ax = plt.gca()\n",
    "xrange = np.diff(plt.xlim())\n",
    "edges = np.array([0, 7, 23, 27, 29])\n",
    "text_locs = []\n",
    "for i in range(len(edges)-1):\n",
    "    i1 = edges[i]\n",
    "    i2 = edges[i+1]\n",
    "    text_locs += [0.5 + np.median(locs[i1:i2])]\n",
    "texts = ['starless cores', 'Class 0/I protostars',\n",
    "         'Class II \\nprotoplanetary discs', 'comets']\n",
    "fontsizes = fontsize*np.array([0.8, 0.8, 0.7, 0.7])\n",
    "for i, text, fs in zip(text_locs, texts, fontsizes):\n",
    "    plt.text(i/xrange, y_top_labels, text, ha='center', va='center',\n",
    "             fontsize=fs, transform=ax.transAxes)\n",
    "line_locs = [locs[0] - 0.5]\n",
    "line_locs += list(locs[edges[1:-1]] - 0.5)\n",
    "line_locs += [locs[-1] + 0.5]\n",
    "for x in line_locs:\n",
    "    plt.axvline(x, ymin=-0.5, ymax=1.1, linestyle='--', linewidth=1.,\n",
    "                color='gray', clip_on=False, zorder=0.5)\n",
    "plt.tight_layout()\n",
    "plt.show()"
   ]
  },
  {
   "cell_type": "markdown",
   "id": "d53b95c0",
   "metadata": {},
   "source": [
    "That's it! You can change the value of the variable `plot_approx_uncs` in one of the previous cells and re-run the cells of the plot, to see the values that we would obtain using the usual analytical formulas for uncertainty propagation.\n",
    "\n",
    "The approach of RichValues is more precise."
   ]
  },
  {
   "cell_type": "markdown",
   "id": "66ae4769",
   "metadata": {},
   "source": [
    "## Part 3: Making a linear fit"
   ]
  },
  {
   "cell_type": "markdown",
   "id": "84d1fa9d",
   "metadata": {},
   "source": [
    "In this tutorial, we make a linear fit of a set of points whith uncertainties and also finite intervals and upper/lower limits."
   ]
  },
  {
   "cell_type": "markdown",
   "id": "63e6e759",
   "metadata": {},
   "source": [
    "First, we import the modules and libraries to be used."
   ]
  },
  {
   "cell_type": "code",
   "execution_count": 22,
   "id": "9d2c2d04",
   "metadata": {},
   "outputs": [],
   "source": [
    "import numpy as np\n",
    "import pandas as pd\n",
    "import matplotlib.pyplot as plt\n",
    "import richvalues as rv"
   ]
  },
  {
   "cell_type": "markdown",
   "id": "7753daf7",
   "metadata": {},
   "source": [
    "Let's load the data points."
   ]
  },
  {
   "cell_type": "code",
   "execution_count": 23,
   "id": "400b6133",
   "metadata": {},
   "outputs": [
    {
     "data": {
      "text/html": [
       "<div>\n",
       "<style scoped>\n",
       "    .dataframe tbody tr th:only-of-type {\n",
       "        vertical-align: middle;\n",
       "    }\n",
       "\n",
       "    .dataframe tbody tr th {\n",
       "        vertical-align: top;\n",
       "    }\n",
       "\n",
       "    .dataframe thead th {\n",
       "        text-align: right;\n",
       "    }\n",
       "</style>\n",
       "<table border=\"1\" class=\"dataframe\">\n",
       "  <thead>\n",
       "    <tr style=\"text-align: right;\">\n",
       "      <th></th>\n",
       "      <th>x</th>\n",
       "      <th>y</th>\n",
       "    </tr>\n",
       "  </thead>\n",
       "  <tbody>\n",
       "    <tr>\n",
       "      <th>0</th>\n",
       "      <td>&lt; 20</td>\n",
       "      <td>6+/-4</td>\n",
       "    </tr>\n",
       "    <tr>\n",
       "      <th>1</th>\n",
       "      <td>2.7+/-1.1</td>\n",
       "      <td>16+/-3</td>\n",
       "    </tr>\n",
       "    <tr>\n",
       "      <th>2</th>\n",
       "      <td>3.4+/-1.2</td>\n",
       "      <td>16+/-4</td>\n",
       "    </tr>\n",
       "    <tr>\n",
       "      <th>3</th>\n",
       "      <td>4.4+/-0.7</td>\n",
       "      <td>15+/-3</td>\n",
       "    </tr>\n",
       "    <tr>\n",
       "      <th>4</th>\n",
       "      <td>8.6+/-0.9</td>\n",
       "      <td>30+/-4</td>\n",
       "    </tr>\n",
       "    <tr>\n",
       "      <th>5</th>\n",
       "      <td>8.7+/-1.2</td>\n",
       "      <td>30+/-4</td>\n",
       "    </tr>\n",
       "    <tr>\n",
       "      <th>6</th>\n",
       "      <td>10.0+/-0.9</td>\n",
       "      <td>32+/-4</td>\n",
       "    </tr>\n",
       "    <tr>\n",
       "      <th>7</th>\n",
       "      <td>11.1+/-1.5</td>\n",
       "      <td>36+/-3</td>\n",
       "    </tr>\n",
       "    <tr>\n",
       "      <th>8</th>\n",
       "      <td>11.9+/-0.8</td>\n",
       "      <td>42+/-4</td>\n",
       "    </tr>\n",
       "    <tr>\n",
       "      <th>9</th>\n",
       "      <td>13.3+/-0.7</td>\n",
       "      <td>36+/-5</td>\n",
       "    </tr>\n",
       "    <tr>\n",
       "      <th>10</th>\n",
       "      <td>14.2+/-0.6</td>\n",
       "      <td>31+/-3</td>\n",
       "    </tr>\n",
       "    <tr>\n",
       "      <th>11</th>\n",
       "      <td>14.8+/-0.7</td>\n",
       "      <td>42+/-6</td>\n",
       "    </tr>\n",
       "    <tr>\n",
       "      <th>12</th>\n",
       "      <td>16.1+/-1.2</td>\n",
       "      <td>42+/-6</td>\n",
       "    </tr>\n",
       "    <tr>\n",
       "      <th>13</th>\n",
       "      <td>16.5+/-0.8</td>\n",
       "      <td>46+/-4</td>\n",
       "    </tr>\n",
       "    <tr>\n",
       "      <th>14</th>\n",
       "      <td>17.9+/-0.6</td>\n",
       "      <td>45+/-3</td>\n",
       "    </tr>\n",
       "    <tr>\n",
       "      <th>15</th>\n",
       "      <td>19.4+/-1.0</td>\n",
       "      <td>47+/-4</td>\n",
       "    </tr>\n",
       "    <tr>\n",
       "      <th>16</th>\n",
       "      <td>20.7+/-0.8</td>\n",
       "      <td>55+/-3</td>\n",
       "    </tr>\n",
       "    <tr>\n",
       "      <th>17</th>\n",
       "      <td>20.8+/-0.6</td>\n",
       "      <td>56+/-4</td>\n",
       "    </tr>\n",
       "    <tr>\n",
       "      <th>18</th>\n",
       "      <td>21.4+/-0.9</td>\n",
       "      <td>47+/-3</td>\n",
       "    </tr>\n",
       "    <tr>\n",
       "      <th>19</th>\n",
       "      <td>21.8+/-0.7</td>\n",
       "      <td>55+/-4</td>\n",
       "    </tr>\n",
       "    <tr>\n",
       "      <th>20</th>\n",
       "      <td>25.7+/-1.0</td>\n",
       "      <td>&lt; 100</td>\n",
       "    </tr>\n",
       "    <tr>\n",
       "      <th>21</th>\n",
       "      <td>28.5+/-0.8</td>\n",
       "      <td>69+/-3</td>\n",
       "    </tr>\n",
       "    <tr>\n",
       "      <th>22</th>\n",
       "      <td>29.3+/-0.9</td>\n",
       "      <td>66+/-3</td>\n",
       "    </tr>\n",
       "    <tr>\n",
       "      <th>23</th>\n",
       "      <td>35.3+/-1.4</td>\n",
       "      <td>84+/-3</td>\n",
       "    </tr>\n",
       "    <tr>\n",
       "      <th>24</th>\n",
       "      <td>35.8+/-1.0</td>\n",
       "      <td>78+/-3</td>\n",
       "    </tr>\n",
       "    <tr>\n",
       "      <th>25</th>\n",
       "      <td>36.0+/-1.2</td>\n",
       "      <td>83.1+/-1.7</td>\n",
       "    </tr>\n",
       "    <tr>\n",
       "      <th>26</th>\n",
       "      <td>38.5+/-0.9</td>\n",
       "      <td>81+/-3</td>\n",
       "    </tr>\n",
       "    <tr>\n",
       "      <th>27</th>\n",
       "      <td>39.0+/-0.9</td>\n",
       "      <td>86+/-6</td>\n",
       "    </tr>\n",
       "    <tr>\n",
       "      <th>28</th>\n",
       "      <td>39.2+/-0.9</td>\n",
       "      <td>90+/-4</td>\n",
       "    </tr>\n",
       "    <tr>\n",
       "      <th>29</th>\n",
       "      <td>43.8+/-1.4</td>\n",
       "      <td>47 -- 99</td>\n",
       "    </tr>\n",
       "  </tbody>\n",
       "</table>\n",
       "</div>"
      ],
      "text/plain": [
       "             x           y\n",
       "0         < 20       6+/-4\n",
       "1    2.7+/-1.1      16+/-3\n",
       "2    3.4+/-1.2      16+/-4\n",
       "3    4.4+/-0.7      15+/-3\n",
       "4    8.6+/-0.9      30+/-4\n",
       "5    8.7+/-1.2      30+/-4\n",
       "6   10.0+/-0.9      32+/-4\n",
       "7   11.1+/-1.5      36+/-3\n",
       "8   11.9+/-0.8      42+/-4\n",
       "9   13.3+/-0.7      36+/-5\n",
       "10  14.2+/-0.6      31+/-3\n",
       "11  14.8+/-0.7      42+/-6\n",
       "12  16.1+/-1.2      42+/-6\n",
       "13  16.5+/-0.8      46+/-4\n",
       "14  17.9+/-0.6      45+/-3\n",
       "15  19.4+/-1.0      47+/-4\n",
       "16  20.7+/-0.8      55+/-3\n",
       "17  20.8+/-0.6      56+/-4\n",
       "18  21.4+/-0.9      47+/-3\n",
       "19  21.8+/-0.7      55+/-4\n",
       "20  25.7+/-1.0       < 100\n",
       "21  28.5+/-0.8      69+/-3\n",
       "22  29.3+/-0.9      66+/-3\n",
       "23  35.3+/-1.4      84+/-3\n",
       "24  35.8+/-1.0      78+/-3\n",
       "25  36.0+/-1.2  83.1+/-1.7\n",
       "26  38.5+/-0.9      81+/-3\n",
       "27  39.0+/-0.9      86+/-6\n",
       "28  39.2+/-0.9      90+/-4\n",
       "29  43.8+/-1.4    47 -- 99"
      ]
     },
     "execution_count": 23,
     "metadata": {},
     "output_type": "execute_result"
    }
   ],
   "source": [
    "data = rv.rich_dataframe(pd.read_csv('linear-data.csv'))\n",
    "data"
   ]
  },
  {
   "cell_type": "markdown",
   "id": "0216a1de",
   "metadata": {},
   "source": [
    "We have 30 set of points $(x,y)$.\n",
    "\n",
    "Let's plot the values to see how they look."
   ]
  },
  {
   "cell_type": "code",
   "execution_count": 24,
   "id": "6b06605b",
   "metadata": {},
   "outputs": [
    {
     "data": {
      "image/png": "[encoded data removed]",
      "text/plain": [
       "<Figure size 640x480 with 1 Axes>"
      ]
     },
     "metadata": {},
     "output_type": "display_data"
    }
   ],
   "source": [
    "x = rv.rich_array(data['x'].values)\n",
    "y = rv.rich_array(data['y'].values)\n",
    "rv.errorbar(x, y)\n",
    "plt.xlabel('$x$')\n",
    "plt.ylabel('$y$')\n",
    "plt.show()"
   ]
  },
  {
   "cell_type": "markdown",
   "id": "204f1b83",
   "metadata": {},
   "source": [
    "Indeed, it seems that the data follow a linear tren. Let's make a fit to a line, then.\n",
    "\n",
    "We will use the function `rv.curve_fit`, which uses SciPy's function `minimize`, from its module `optimize`. It uses a bootstrap algorithm."
   ]
  },
  {
   "cell_type": "code",
   "execution_count": 25,
   "id": "f9685876",
   "metadata": {},
   "outputs": [
    {
     "name": "stdout",
     "output_type": "stream",
     "text": [
      "Fitting...\n",
      "  25 %\n",
      "  50 %\n",
      "  75 %\n",
      "  100 %\n"
     ]
    }
   ],
   "source": [
    "result = rv.curve_fit(x, y, lambda x,m,b: m*x+b, guess=[2.,10.],\n",
    "                      consider_arg_intervs=True)"
   ]
  },
  {
   "cell_type": "markdown",
   "id": "1457b47d",
   "metadata": {},
   "source": [
    "That's it! It was easy. Now, we can access to the output of the fit."
   ]
  },
  {
   "cell_type": "code",
   "execution_count": 26,
   "id": "53595f9b",
   "metadata": {},
   "outputs": [
    {
     "data": {
      "text/plain": [
       "1.92+/-0.07"
      ]
     },
     "execution_count": 26,
     "metadata": {},
     "output_type": "execute_result"
    }
   ],
   "source": [
    "slope, offset = result['parameters']\n",
    "dispersion = result['dispersion']\n",
    "samples = result['parameters samples']\n",
    "slope"
   ]
  },
  {
   "cell_type": "markdown",
   "id": "0eadb9bd",
   "metadata": {},
   "source": [
    "Actually, the ground truth is as follows:"
   ]
  },
  {
   "cell_type": "code",
   "execution_count": 27,
   "id": "0ddbb2fd",
   "metadata": {},
   "outputs": [],
   "source": [
    "slope_true, offset_true = 2, 10\n",
    "dispersion_x, dispersion_y = 0.6, 3\n",
    "errorbar_x, errorbar_y = 0.9, 3.6"
   ]
  },
  {
   "cell_type": "markdown",
   "id": "add239b5",
   "metadata": {},
   "source": [
    "Let's make a plot showing our fitted line."
   ]
  },
  {
   "cell_type": "code",
   "execution_count": 28,
   "id": "904053f3",
   "metadata": {},
   "outputs": [
    {
     "data": {
      "image/png": "[encoded data removed]",
      "text/plain": [
       "<Figure size 700x400 with 1 Axes>"
      ]
     },
     "metadata": {},
     "output_type": "display_data"
    }
   ],
   "source": [
    "# Some options.\n",
    "plot_truth = True\n",
    "color_fit = 'darkblue'\n",
    "color_samples = 'tab:blue'\n",
    "color_truth = 'tab:orange'\n",
    "# Plot of the data and the fit.\n",
    "plt.figure(1, figsize=(7,4))\n",
    "plt.clf()\n",
    "rv.errorbar(x, y, color='gray')\n",
    "xlims = plt.xlim()\n",
    "ylims = plt.ylim()\n",
    "x_ = np.linspace(0, xlims[1], 4)\n",
    "plt.plot(x_, slope.main * x_ + offset.main, color=color_fit, lw=1,\n",
    "         label='median fit')\n",
    "plt.plot([], [], alpha=0, label='slope: {}'.format(slope.latex()))\n",
    "plt.plot([], [], alpha=0, label='offset: {}'.format(offset.latex()))\n",
    "plt.plot([], [], alpha=0, label='dispersion: {}'\n",
    "         .format(dispersion.latex()))\n",
    "if plot_truth:\n",
    "    plt.plot(x_, slope_true * x_ + offset_true, color=color_truth,\n",
    "             label='ground truth', linestyle='--', lw=1)\n",
    "    plt.plot([], [], alpha=0, label='slope: {}'.format(slope_true))\n",
    "    plt.plot([], [], alpha=0, label='offset: {}'.format(offset_true))\n",
    "    plt.plot([], [], alpha=0, label='dispersion: {}'.format(dispersion_y))\n",
    "num_curves = min(400, samples.shape[0])\n",
    "inds = np.arange(samples.shape[0])\n",
    "np.random.shuffle(inds)\n",
    "for slope_i, offset_i in samples[inds][:num_curves]:\n",
    "    plt.plot(x_, slope_i * x_ + offset_i, color=color_samples, alpha=0.01,\n",
    "             zorder=1)\n",
    "plt.legend(fontsize=9)\n",
    "plt.title('Linear fit') \n",
    "plt.ylim([0, ylims[1]])\n",
    "plt.xlim([0, xlims[1]])\n",
    "plt.xlabel('$x$')\n",
    "plt.ylabel('$y$')\n",
    "plt.tight_layout()\n",
    "plt.show()"
   ]
  },
  {
   "cell_type": "markdown",
   "id": "a025a215",
   "metadata": {},
   "source": [
    "Additionally, we can assess the quality of the fit plotting the distributions of the fitted parameters."
   ]
  },
  {
   "cell_type": "code",
   "execution_count": 29,
   "id": "3c8dc543",
   "metadata": {},
   "outputs": [
    {
     "data": {
      "image/png": "[encoded data removed]",
      "text/plain": [
       "<Figure size 650x330 with 2 Axes>"
      ]
     },
     "metadata": {},
     "output_type": "display_data"
    }
   ],
   "source": [
    "# Some previous calculations with the values used in the fit.\n",
    "ranges = [samples[:,i].max() - samples[:,i].min() for i in [0,1]]\n",
    "q1 = 0.02 if max(ranges) > 100. else 0.\n",
    "q2 = 1 - q1\n",
    "if q1 > 0:\n",
    "    x1, x2 = [np.quantile(samples[:,0], qi) for qi in [q1, q2]]\n",
    "    y1, y2 = [np.quantile(samples[:,1], qi) for qi in [q1, q2]]\n",
    "    margin = 0.05\n",
    "    xlims = np.array([min(x1, slope_true), max(x2, slope_true)])\n",
    "    ylims = np.array([min(y1, offset_true), max(y2, offset_true)])\n",
    "    xlims += np.array([-1, 1]) * margin * np.diff(xlims)\n",
    "    ylims += np.array([-1, 1]) * margin * np.diff(ylims)\n",
    "else:\n",
    "    xlims, ylims = None, None\n",
    "# Plot of the distribution of values used in the fit.\n",
    "plt.figure(2, figsize=(6.5,3.3))\n",
    "plt.clf()\n",
    "# Subplot for the correlation between the offset and the slope.\n",
    "plt.subplot(1,2,1)\n",
    "plt.scatter(samples[:,0], samples[:,1], color=color_samples,\n",
    "            s=10, alpha=0.1)\n",
    "if plot_truth:\n",
    "    plt.scatter(slope_true, offset_true, color=color_truth, s=10,\n",
    "                label='ground truth')\n",
    "    plt.axvline(slope_true, color=color_truth, lw=1.5, ls=':', alpha=0.5)\n",
    "    plt.axhline(offset_true, color=color_truth, lw=1.5, ls=':', alpha=0.5)\n",
    "    plt.legend(fontsize=8)\n",
    "plt.xlim(xlims)\n",
    "plt.ylim(ylims)\n",
    "plt.xlabel('slope')\n",
    "plt.ylabel('offset')\n",
    "plt.title('Correlation between parameters')\n",
    "# Some calculations again.\n",
    "dispersion_sample = result['dispersion sample']\n",
    "if q1 > 0:\n",
    "    lim1, lim2 = [np.quantile(dispersion_sample, qi) for qi in [q1, q2]]\n",
    "    cond = (dispersion_sample > lim1) & (dispersion_sample < lim2)\n",
    "    dispersion_sample = dispersion_sample[cond]\n",
    "else:\n",
    "    lim1, lim2 = 0, None\n",
    "# Subplot with the distribution of the possible real dispersion of the data.\n",
    "plt.subplot(1,2,2)\n",
    "plt.hist(dispersion_sample, density=True, bins=20,\n",
    "         histtype='stepfilled', edgecolor='k', alpha=0.9)\n",
    "if plot_truth:\n",
    "    plt.axvline(x=dispersion_y, color=color_truth, lw=1.5, ls='--',\n",
    "                label='ground truth')\n",
    "    plt.legend(fontsize=8)\n",
    "plt.xlim(lim1, lim2)\n",
    "plt.xlabel('dispersion value')\n",
    "plt.ylabel('frequency density')\n",
    "plt.title('Obtained dispersion sample')\n",
    "\n",
    "plt.tight_layout()\n",
    "plt.subplots_adjust(wspace=0.3)\n",
    "plt.show()"
   ]
  },
  {
   "cell_type": "markdown",
   "id": "9396d1be",
   "metadata": {},
   "source": [
    "In the left plot we can see the correlation between our two fitted parameters: the offset and the slope. The ground truth lies between the values obtained.\n",
    "\n",
    "In the right plot we can see the distribution of estimated real dispersions for the $y$ values. Again, the ground truth is included in the obtained range of values."
   ]
  },
  {
   "cell_type": "markdown",
   "id": "a38f5c59",
   "metadata": {},
   "source": [
    "That's it! Congratulations for finishing the tutorial."
   ]
  }
 ],
 "metadata": {
  "kernelspec": {
   "display_name": "Python 3 (ipykernel)",
   "language": "python",
   "name": "python3"
  },
  "language_info": {
   "codemirror_mode": {
    "name": "ipython",
    "version": 3
   },
   "file_extension": ".py",
   "mimetype": "text/x-python",
   "name": "python",
   "nbconvert_exporter": "python",
   "pygments_lexer": "ipython3",
   "version": "3.8.6"
  }
 },
 "nbformat": 4,
 "nbformat_minor": 5
}
