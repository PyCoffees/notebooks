{
 "cells": [
  {
   "cell_type": "markdown",
   "id": "d1009a9a",
   "metadata": {},
   "source": [
    "# REBOUND"
   ]
  },
  {
   "cell_type": "markdown",
   "id": "c7eb4b8c",
   "metadata": {},
   "source": [
    "[REBOUND](https://rebound.readthedocs.io/en/latest/) is an N-body integrator, i.e. a software package that can integrate the motion of particles under the influence of gravity. The particles can represent stars, planets, moons, ring or dust particles. REBOUND is very flexible and can be customized to accurately and efficiently solve many problems in astrophysics. "
   ]
  },
  {
   "cell_type": "code",
   "execution_count": null,
   "id": "3e55befa",
   "metadata": {},
   "outputs": [],
   "source": [
    "import rebound"
   ]
  },
  {
   "cell_type": "markdown",
   "id": "643a4528",
   "metadata": {},
   "source": [
    "## Particles"
   ]
  },
  {
   "cell_type": "markdown",
   "id": "90f24987",
   "metadata": {},
   "source": [
    "[The particle object](https://rebound.readthedocs.io/en/latest/particles/) contains the following variables which can be directly manipulated:"
   ]
  },
  {
   "cell_type": "markdown",
   "id": "88828f41",
   "metadata": {},
   "source": [
    "**`double`**`m` $\\rightarrow$ mass\\\n",
    "**`double`**`r` $\\rightarrow$ physical radius of the particle\\\n",
    "**`double`**`x, y, z, vx, vy, vz` $\\rightarrow$ position and velocity coordinates\\\n",
    "**`uint32_t`**`hash` $\\rightarrow$ integer or hash value used to identify the particle"
   ]
  },
  {
   "cell_type": "markdown",
   "id": "838c6342",
   "metadata": {},
   "source": [
    "One way to add a particle to a simulation is to first manually create a particle object, then calling a function to add the particle to the simulation. Because the function will make a copy of the particle, you can safely delete the original particle object after you've added it to a simulation. **Any components not passed automatically default to 0**. The following code shows an example on how to add particles this way:"
   ]
  },
  {
   "cell_type": "code",
   "execution_count": null,
   "id": "3310b5b6",
   "metadata": {},
   "outputs": [],
   "source": [
    "sim = rebound.Simulation()   # This creates the simulation object \"sim\" \n",
    "p = rebound.Particle()       # This creates the particle object \"p\" \n",
    "p.m = 1.                     # Edit particle fields\n",
    "p.hash=\"Sun\"\n",
    "sim.add(p)                   # Add the particle \"p\" to the simulation \"sim\" "
   ]
  },
  {
   "cell_type": "markdown",
   "id": "18e838b3",
   "metadata": {},
   "source": [
    "By far the easiest way to add particles to REBOUND is to use the `add` method directly:"
   ]
  },
  {
   "cell_type": "code",
   "execution_count": null,
   "id": "e9eb5a00",
   "metadata": {},
   "outputs": [],
   "source": [
    "sim.add(x=5.2,vy=0.44,hash=\"Jup\")\n",
    "sim.add(x=39.2,vy=0.18,hash=\"Pluto\")"
   ]
  },
  {
   "cell_type": "markdown",
   "id": "fe2beac6",
   "metadata": {},
   "source": [
    "You then access the `particle` using the simulation's particles array (via index or [hash](https://rebound.readthedocs.io/en/latest/ipython_examples/UniquelyIdentifyingParticlesWithHashes/)):"
   ]
  },
  {
   "cell_type": "code",
   "execution_count": null,
   "id": "022e0786",
   "metadata": {},
   "outputs": [],
   "source": [
    "sim.particles[2].hash ,sim.particles[\"Pluto\"].x"
   ]
  },
  {
   "cell_type": "markdown",
   "id": "37b136db",
   "metadata": {},
   "source": [
    "Let's have a quick look at what's in this simulation by using:"
   ]
  },
  {
   "cell_type": "code",
   "execution_count": null,
   "id": "7bc13d8c",
   "metadata": {},
   "outputs": [],
   "source": [
    "sim.status()"
   ]
  },
  {
   "cell_type": "markdown",
   "id": "43367576",
   "metadata": {},
   "source": [
    "REBOUND comes with a simple way to plot **instantaneous** orbits of planetary systems. The [OrbitPlot](https://rebound.readthedocs.io/en/latest/ipython_examples/OrbitPlot/) method:"
   ]
  },
  {
   "cell_type": "code",
   "execution_count": null,
   "id": "5bf687d8",
   "metadata": {},
   "outputs": [],
   "source": [
    "rebound.OrbitPlot(sim)"
   ]
  },
  {
   "cell_type": "markdown",
   "id": "5dd12524",
   "metadata": {},
   "source": [
    "You can [remove particles](https://rebound.readthedocs.io/en/latest/removingparticles/) using it **hash** or **index**, but in general particles can change positions in the particles array during simulations, so a more robust way of referring to particles (rather than through their index) is through their hash, which won't change. See [Removing particles from the simulation](https://rebound.readthedocs.io/en/latest/ipython_examples/RemovingParticlesFromSimulation/) for more information."
   ]
  },
  {
   "cell_type": "code",
   "execution_count": null,
   "id": "13069f78",
   "metadata": {},
   "outputs": [],
   "source": [
    "sim.remove(hash=\"Pluto\")\n",
    "sim.status()\n",
    "rebound.OrbitPlot(sim)"
   ]
  },
  {
   "cell_type": "markdown",
   "id": "8cd9e0c5",
   "metadata": {},
   "source": [
    "## [Reference frames](https://rebound.readthedocs.io/en/latest/simulationreferenceframes/)"
   ]
  },
  {
   "cell_type": "markdown",
   "id": "86168fc5",
   "metadata": {},
   "source": [
    "Compared to other N-body codes, REBOUND does not use a predefined coordinate system. It works in any inertial frame. This makes setting up simulations and interpreting outputs more intuitive. However, one often wants to move to a specific coordinate system. REBOUND has several built-in functions to do that."
   ]
  },
  {
   "cell_type": "code",
   "execution_count": null,
   "id": "4521646d",
   "metadata": {},
   "outputs": [],
   "source": [
    "sim = rebound.Simulation()   # Restart the simulation object \"sim\" \n",
    "sim.add(m=1,x=1,vy=0.1)\n",
    "sim.add(m=0.1,x=2,vz=0.2)"
   ]
  },
  {
   "cell_type": "markdown",
   "id": "69a9e6e3",
   "metadata": {},
   "source": [
    "Here is how you can move the simulation to the heliocentric frame:"
   ]
  },
  {
   "cell_type": "code",
   "execution_count": null,
   "id": "c2fb95f1",
   "metadata": {},
   "outputs": [],
   "source": [
    "sim.move_to_hel()\n",
    "sim.status()"

   ]
  },
  {
   "cell_type": "markdown",
   "id": "c009e608",
   "metadata": {},
   "source": [
    "This moves all particles in the simulation by the same amount so that afterwards, **the particle with index 0 is located at the origin**. Note that as the integration progresses, it is not guaranteed that the particle with index 0 remains at the origin. Most likely, it will drift away from the origin."
   ]
  },
  {
   "cell_type": "markdown",
   "id": "54d80716",
   "metadata": {},
   "source": [
    "If you are not in the **center-of-mass frame**, the center-of-mass will and all the particles will slowly drift away from the origin. This has important consequences for long-term integrations. If the particles are far away from the origin, you might increase the numerical errors due to finite floating point precision. By moving to the center-of-mass frame after setting up all the particles, you'll avoid these issues:"
   ]
  },
  {
   "cell_type": "code",
   "execution_count": null,
   "id": "b1b23c3f",
   "metadata": {},
   "outputs": [],
   "source": [
    "sim.move_to_com()\n",
    "sim.status()"
   ]
  },
  {
   "cell_type": "markdown",
   "id": "3add90c3",
   "metadata": {},
   "source": [
    "## Orbits"
   ]
  },
  {
   "cell_type": "markdown",
   "id": "bb977123",
   "metadata": {},
   "source": [
    "There is **no** a one-to-one mapping between (x,y,z,vx,vy,vz) and orbital elements, and one should always specify the `primary`, i.e. the orbital elements are referenced against (e.g., the central star, the system's barycenter, etc.). The differences between orbital elements referenced to these centers differ by $\\sim$ the mass ratio of the largest body to the central mass. By default, REBOUND always uses **Jacobi elements**, which for each particle are always referenced to the center of mass of all particles with lower index in the simulation. [Further details on orbital elements](https://rebound.readthedocs.io/en/latest/ipython_examples/OrbitalElements/)."
   ]
  },
  {
   "cell_type": "code",
   "execution_count": null,
   "id": "64a7dcf8",
   "metadata": {},
   "outputs": [],
   "source": [
    "sim = rebound.Simulation()\n",
    "sim.add(m=1)               # Star\n",
    "sim.add(m=0.1,a=1)   # Planet\n",
    "sim.add(a=2)                          # Test Particle around COM\n",
    "sim.add(primary=sim.particles[0],a=2) # Test Particle around Star\n",
    "\n",
    "print(sim.particles[2].orbit)\n",
    "print(sim.particles[3].orbit)\n",
    "\n",
    "sim.status()\n",
    "\n",
    "ob1 = rebound.OrbitPlot(sim)\n",
    "ob2 = rebound.OrbitPlot(sim, particles = [3], primary = sim.particles[0],fig=ob1.fig, ax = ob1.ax, color=\"red\")"
   ]
  },
  {
   "cell_type": "markdown",
   "id": "47bf4514",
   "metadata": {},
   "source": [
    "You can use any combination of orbital parameters that makes physically sense. The following image illustrated the most important angles used. In REBOUND the reference direction is the positive x direction, the reference plane is the xy plane."
   ]
  },
  {
   "attachments": {
    "orbit.png": {
     "image/png": "[encoded data removed]"
    }
   },
   "cell_type": "markdown",
   "id": "bd9c4d6f",
   "metadata": {},
   "source": [
    "![orbit.png](attachment:orbit.png)"
   ]
  },
  {
   "cell_type": "markdown",
   "id": "f2b14ac1",
   "metadata": {},
   "source": [
    "`d` $\\rightarrow$ radial distance from reference \\\n",
    "`v` $\\rightarrow$ velocity relative to central object's velocity \\\n",
    "`h` $\\rightarrow$ specific angular momentum \\\n",
    "`P` $\\rightarrow$ orbital period (negative if hyperbolic) \\\n",
    "`n` $\\rightarrow$ mean motion (negative if hyperbolic) \\\n",
    "`a` $\\rightarrow$ semi-major axis \\\n",
    "`e` $\\rightarrow$ eccentricity \\\n",
    "`inc` $\\rightarrow$ inclination \\\n",
    "`Omega` $\\rightarrow$ longitude of ascending node \\\n",
    "`omega` $\\rightarrow$ argument of pericenter \\\n",
    "`pomega` $\\rightarrow$ longitude of pericenter \\\n",
    "`f` $\\rightarrow$ true anomaly \\\n",
    "`M` $\\rightarrow$ mean anomaly \\\n",
    "`E` $\\rightarrow$ Eccentric anomaly. Because this requires solving Kepler's equation it is only calculated when needed in python and never \n",
    "calculated in C. To get the eccentric anomaly in C, use the function **`double`**`reb_M_to_E(double e, double M)` \\\n",
    "`l` $\\rightarrow$ mean longitude = Omega + omega + M\\\n",
    "`theta` $\\rightarrow$ true longitude = Omega + omega + f\\\n",
    "`T` $\\rightarrow$ time of pericenter passage\\\n",
    "`rhill` $\\rightarrow$ Hill radius, $r_{hill}=a\\sqrt[3]{\\frac{m}{3M}}$ \\\n",
    "`pal_h` $\\rightarrow$ Cartesian component of the eccentricity, $h=e\\cdot\\sin$(`pomega`)\\\n",
    "`pal_k` $\\rightarrow$ Cartesian component of the eccentricity, $k=e\\cdot\\sin$(`pomega`)\\\n",
    "`pal_ix` $\\rightarrow$ Cartesian component of the inclination, $i_x=2\\cdot\\sin{\\frac{i}{2}}\\cdot\\cos$(`Omega`)\\\n",
    "`pal_iy` $\\rightarrow$ Cartesian component of the inclination, $i_y=2\\cdot\\sin{\\frac{i}{2}}\\cdot\\sin$(`Omega`)"
   ]
  },
  {
   "cell_type": "markdown",
   "id": "6ec375aa",
   "metadata": {},
   "source": [
    "## [Adding particles using NASA JPL Horizons system](https://rebound.readthedocs.io/en/latest/ipython_examples/Horizons/)"
   ]
  },
  {
   "cell_type": "markdown",
   "id": "03cada5f",
   "metadata": {},
   "source": [
    "REBOUND can add particles to simulations by obtaining ephemerides from NASA's powerful [HORIZONS database](https://ssd.jpl.nasa.gov/?horizons_doc). HORIZONS supports many different options."
   ]
  },
  {
   "cell_type": "markdown",
   "id": "246404f7",
   "metadata": {},
   "source": [
    "When we add particles by passing a string, REBOUND queries the HORIZONS database and takes the first dataset HORIZONS offers. For the Sun, moons, and small bodies, this will typically return the body itself. **For planets, it will return the barycenter of the system** (for moonless planets like Venus it will say barycenter but there is no distinction). If you want the planet specifically, you have to use, e.g., \"NAME=Pluto\" rather than \"Pluto\". In all cases, REBOUND will print out the name of the HORIZONS entry it's using. You can also add bodies using their integer [NAIF IDs](https://naif.jpl.nasa.gov/pub/naif/toolkit_docs/MATLAB/req/naif_ids.html)."
   ]
  },
  {
   "cell_type": "markdown",
   "id": "2bc0b95b",
   "metadata": {},
   "source": [
    "By default, REBOUND queries HORIZONS for objects' **current positions**. Specifically, it caches the current time the first time you call rebound.add, and gets the corresponding ephemeris. All subsequent calls to rebound.add will then use that initial cached time to make sure you get a synchronized set of ephemerides.\n",
    "\n",
    "You can also explicitly pass REBOUND the time at which you would like the particles ephemerides:"
   ]
  },
  {
   "cell_type": "code",
   "execution_count": null,
   "id": "c71c9d39",
   "metadata": {},
   "outputs": [],
   "source": [
    "sim = rebound.Simulation()\n",
    "date = \"2005-06-30 15:24\" # You can also use Julian Days. For example:   date = \"JD2458327.500000\"\n",
    "sim.add(\"Sun\", date=date)\n",
    "sim.add(\"399\", date=date)  # Earth\n",
    "sim.add(\"301\", date=date)  # Moon\n",
    "sim.status()\n",
    "rebound.OrbitPlot(sim)"
   ]
  },
  {
   "cell_type": "code",
   "execution_count": null,
   "id": "a50be720",
   "metadata": {},
   "outputs": [],
   "source": [
    "xe=sim.particles[1].x\n",
    "ye=sim.particles[1].y\n",
    "ob1 = rebound.OrbitPlot(sim,particles=[1],xlim=[xe-0.003,xe+0.003],ylim=[ye-0.003,ye+0.003])\n",
    "ob2 = rebound.OrbitPlot(sim, particles = [2], primary = 1,show_primary=False,fig=ob1.fig, ax = ob1.ax, color=\"red\")"
   ]
  },
  {
   "cell_type": "markdown",
   "id": "123ba5d8",
   "metadata": {},
   "source": [
    "## [Units](https://rebound.readthedocs.io/en/latest/units/)"
   ]
  },
  {
   "cell_type": "markdown",
   "id": "4ced8019",
   "metadata": {},
   "source": [
    "By default, REBOUND simulations use units in which $G=1$. As an example, suppose we have a central object of mass $M=1$, and a test particle orbiting on a circular orbit at a distance $a=1$. This scenario can be setup with the following code:"
   ]
  },
  {
   "cell_type": "code",
   "execution_count": null,
   "id": "31ef397d",
   "metadata": {},
   "outputs": [],
   "source": [
    "sim = rebound.Simulation() # This creates the simulation object \"sim\" \n",
    "sim.add(m=1.)\n",
    "sim.add(a=1.)"
   ]
  },
  {
   "cell_type": "markdown",
   "id": "ffcb9601",
   "metadata": {},
   "source": [
    "The orbital period of this binary is given by:"
   ]
  },
  {
   "cell_type": "markdown",
   "id": "fc6d658e",
   "metadata": {},
   "source": [
    "\\begin{equation}\n",
    "P=2\\pi\\sqrt{\\frac{a^3}{GM}}=2\\pi\n",
    "\\end{equation}"
   ]
  },
  {
   "cell_type": "markdown",
   "id": "217e69eb",
   "metadata": {},
   "source": [
    "We can confirm this by calculating the orbital period with REBOUND:"
   ]
  },
  {
   "cell_type": "code",
   "execution_count": null,
   "id": "63503ebd",
   "metadata": {},
   "outputs": [],
   "source": [
    "print(sim.particles[1].P)"
   ]
  },
  {
   "cell_type": "markdown",
   "id": "66090709",
   "metadata": {},
   "source": [
    "If we interpret the central object as the sun, and the test particle as the Earth, then $M=1$ corresponds to one solar mass and $a=1$ corresponds to one astronomical unit. We know that the Earth takes one year for one orbit around the sun. Thus, one year corresponds to $2\\pi$ in these units."
   ]
  },
  {
   "cell_type": "markdown",
   "id": "f7471138",
   "metadata": {},
   "source": [
    "An alternative interpretation of the same REBOUND simulation could be the following. Suppose the central object is the Earth. Then $M=1$ corresponds to one Earth mass. If we consider the test particle to be the International Space Station, then corresponds to $6790\\, \\text{km}$ ($420\\, \\text{km}$ above the Mean Sea Level). The orbit of the particle still has a period of $2\\pi$ in our units, but this would now correspond to 92.8 minutes."
   ]
  },
  {
   "cell_type": "markdown",
   "id": "ff8d05f4",
   "metadata": {},
   "source": [
    "One advantage of keeping $G=1$ is that you can choose units where all number in REBOUND have a magnitude of around one, as in the example above. If you where to choose other units involving centimetres or seconds, then you would have to deal with very large or very small numbers."
   ]
  },
  {
   "cell_type": "markdown",
   "id": "0a1944a6",
   "metadata": {},
   "source": [
    "If you prefer to change the value of $G$, you can! The following example sets $G$ to its value in SI units:"
   ]
  },
  {
   "cell_type": "code",
   "execution_count": null,
   "id": "10286fd2",
   "metadata": {},
   "outputs": [],
   "source": [
    "sim = rebound.Simulation()\n",
    "sim.G = 6.6743e-11 # m^3 / kg s^2"
   ]
  },
  {
   "cell_type": "markdown",
   "id": "e45cfc4d",
   "metadata": {},
   "source": [
    "From now on, all quantities that have unit of length (semi-major axis, particle radius, etc) need to be specified (and will be output) in **meters**. All quantities that have units of time (timestep, orbital period, etc) need to be specified in **seconds**. All quantities that have units of mass need to be specified in **kg**. All quantities that have units of velocity need to be specified in **meters per second**. And so on."
   ]
  },
  {
   "cell_type": "markdown",
   "id": "d6dab643",
   "metadata": {},
   "source": [
    "## Integrations: [The comet 67P/Churyumov-Gerasimenko](https://rebound.readthedocs.io/en/latest/ipython_examples/Churyumov-Gerasimenko/) (The [IAS15](https://rebound.readthedocs.io/en/latest/integrators/#ias15) integrator)"
   ]
  },
  {
   "cell_type": "code",
   "execution_count": null,
   "id": "6b96ddf5",
   "metadata": {},
   "outputs": [],
   "source": [
    "sim = rebound.Simulation()\n",
    "date = \"2024-01-24 11:00\"\n",
    "sim.add(\"Sun\",date=date)\n",
    "sim.add(\"Jupiter\",date=date)\n",
    "sim.add(\"Saturn\",date=date)\n",
    "sim.add(\"Churyumov-Gerasimenko\",date=date) # There is no mass data for small bodies in Horizons\n",
    "sim.status()\n",
    "fig = rebound.OrbitPlot(sim, unitlabel=\"[AU]\")"
   ]
  },
  {
   "cell_type": "markdown",
   "id": "31992d58",
   "metadata": {},
   "source": [
    "We will integrate backwards in time for 70 years. Because we don't know what will happen yet (hint: **a close encounter**) we will use the IAS15 integrator. It is fast, accurate and has adaptive timesteps to capture any potential close encounters.\n",
    "\n",
    "To integrate backwards, we could set a negative timestep or multiply all velocities with −1. We'll choose the first option:"
   ]
  },
  {
   "cell_type": "code",
   "execution_count": null,
   "id": "72026902",
   "metadata": {},
   "outputs": [],
   "source": [
    "sim.dt = -0.01"
   ]
  },
  {
   "cell_type": "markdown",
   "id": "273966f5",
   "metadata": {},
   "source": [
    "While we're integrating, let's store the positions of Jupiter and the comet at 10000 times during the interval. We'll need to prepare a few variables to do that:"
   ]
  },
  {
   "cell_type": "code",
   "execution_count": null,
   "id": "bb822325",
   "metadata": {},
   "outputs": [],
   "source": [
    "import numpy as np\n",
    "Noutputs = 10000\n",
    "year = 2.*np.pi # One year in units where G=1\n",
    "times = np.linspace(0.,-70.*year, Noutputs)\n",
    "x = np.zeros((2,Noutputs))\n",
    "y = np.zeros((2,Noutputs))\n",
    "z = np.zeros((2,Noutputs))"
   ]
  },
  {
   "cell_type": "markdown",
   "id": "b23801da",
   "metadata": {},
   "source": [
    "Now we're ready to start the integration:"
   ]
  },
  {
   "cell_type": "code",
   "execution_count": null,
   "id": "1e1473ca",
   "metadata": {},
   "outputs": [],
   "source": [
    "sim.integrator = \"ias15\" # IAS15 is the default integrator, so we actually don't need this line\n",
    "sim.move_to_com()        # We always move to the center of momentum frame before an integration\n",
    "ps = sim.particles       # ps is now an array of pointers and will change as the simulation runs\n",
    "\n",
    "for i,time in enumerate(times):\n",
    "    sim.integrate(time)\n",
    "    x[0][i] = ps[1].x   # This stores the data which allows us to plot it later\n",
    "    y[0][i] = ps[1].y\n",
    "    z[0][i] = ps[1].z\n",
    "    x[1][i] = ps[3].x\n",
    "    y[1][i] = ps[3].y\n",
    "    z[1][i] = ps[3].z"
   ]
  },
  {
   "cell_type": "markdown",
   "id": "f3de2903",
   "metadata": {},
   "source": [
    "Let's plot the orbits of Jupiter (blue) and the comet (orange) to get an idea of what was going on during our integration."
   ]
  },
  {
   "cell_type": "code",
   "execution_count": null,
   "id": "c2c82377",
   "metadata": {},
   "outputs": [],
   "source": [
    "import matplotlib.pyplot as plt\n",
    "fig = plt.figure(figsize=(5,5))\n",
    "ax = plt.subplot(111)\n",
    "ax.set_xlim([-6,6])\n",
    "ax.set_ylim([-6,6])\n",
    "ax.set_xlabel(\"x [AU]\")\n",
    "ax.set_ylabel(\"y [AU]\")\n",
    "plt.plot(x[0], y[0]);\n",
    "plt.plot(x[1], y[1]);"
   ]
  },
  {
   "cell_type": "markdown",
   "id": "7785804c",
   "metadata": {},
   "source": [
    "As you can see in the above image, the comet 67P had a rather strong encounter with Jupiter a few years ago. Of course, if you wanted to do a realistic simulation of that encounter, you'd need to include all the other planets and maybe even some non-gravitational effects for the comet. However, let's stick with our simplistic model and try to find out when exactly the two bodies had a close encounter. We already stored the data, so we can just plot their distance as a function of time."
   ]
  },
  {
   "cell_type": "code",
   "execution_count": null,
   "id": "46545b32",
   "metadata": {},
   "outputs": [],
   "source": [
    "fig = plt.figure(figsize=(12,5))\n",
    "ax = plt.subplot(111)\n",
    "ax.set_xlabel(\"time [yr]\")\n",
    "ax.set_ylabel(\"distance [AU]\")\n",
    "distance = np.sqrt(np.square(x[0]-x[1])+np.square(y[0]-y[1])+np.square(z[0]-z[1]))\n",
    "plt.plot(times/year, distance);\n",
    "closeencountertime = times[np.argmin(distance)]/year\n",
    "print(\"Minimum distance (%f AU) occured at time: %f years.\" % (np.min(distance),closeencountertime))"
   ]
  },
  {
   "cell_type": "code",
   "execution_count": null,
   "id": "54253768",
   "metadata": {},
   "outputs": [],
   "source": [
    "import datetime\n",
    "encounterdate = datetime.datetime(2024, 1, 24, 11, 00, 00, 000000) + datetime.timedelta(days=365.25*closeencountertime)\n",
    "encounterdate.strftime(\"%Y-%m-%d %H:%M\")"
   ]
  },
  {
   "cell_type": "markdown",
   "id": "9c5ab317",
   "metadata": {},
   "source": [
    "If you check [Wikipedia](https://en.wikipedia.org/wiki/67P/Churyumov%E2%80%93Gerasimenko) or [JPL](https://ssd.jpl.nasa.gov/tools/sbdb_lookup.html#/?sstr=67P&view=OPC), the encounter happened on 1959-Feb-04, so we are not far off (it turns out that's because of jets and other non-gravitational forces from the comet!)"
   ]
  },
  {
   "cell_type": "markdown",
   "id": "f19e8eac",
   "metadata": {},
   "source": [
    "## [WHFast tutorial](https://rebound.readthedocs.io/en/latest/ipython_examples/WHFast/)"
   ]
  },
  {
   "cell_type": "markdown",
   "id": "f67a20a0",
   "metadata": {},
   "source": [
    "This tutorial is an introduction to the python interface of WHFast, a fast and unbiased **symplectic** Wisdom-Holman integrator. This integrator is well suited for integrations of planetary systems in which **the planets stay roughly on their orbits**. If close encounters and collisions occur, then WHFast is not the right integrator. The WHFast method is described in detail in Rein & Tamayo (2015)."
   ]
  },
  {
   "cell_type": "code",
   "execution_count": null,
   "id": "27e0cea4",
   "metadata": {},
   "outputs": [],
   "source": [
    "sim = rebound.Simulation()\n",
    "sim.add(m=1.)\n",
    "\n",
    "sim.add(m=1e-3, a=1)\n",
    "sim.add(m=1e-3, a=2., e=0.1)\n",
    "sim.move_to_com()\n",
    "sim.status()\n",
    "fig = rebound.OrbitPlot(sim, unitlabel=\"[AU]\")"
   ]
  },
  {
   "cell_type": "markdown",
   "id": "5db8be00",
   "metadata": {},
   "source": [
    "You can see that REBOUND used the `ias15` integrator as a default. Next, let's tell REBOUND that we want to use `WHFast` instead. We'll also set the timestep. In our system of units, an orbit at $a=1$ has an orbital period of $T=2\\pi$. So a reasonable timestep to start with would be $dt=10^{−3}$ (see Rein & Tamayo 2015 for some discussion on timestep choices)."
   ]
  },
  {
   "cell_type": "code",
   "execution_count": null,
   "id": "7533a42d",
   "metadata": {},
   "outputs": [],
   "source": [
    "sim.integrator = \"whfast\"\n",
    "sim.dt = 1e-3"
   ]
  },
  {
   "cell_type": "markdown",
   "id": "b5bf1eae",
   "metadata": {},
   "source": [
    "`whfast` refers to the 2nd order symplectic integrator WHFast described by Rein & Tamayo (2015). By default, no symplectic correctors are used, but they can be easily turned on (see [Advanced Settings for WHFast](https://rebound.readthedocs.io/en/latest/ipython_examples/AdvWHFast))."
   ]
  },
  {
   "cell_type": "markdown",
   "id": "c4d2c971",
   "metadata": {},
   "source": [
    "Next, we'll step through the simulation. Rebound will integrate up to time. Depending on the timestep, it might overshoot slightly. If you want to have the outputs at exactly the time you specify, you can set the `exact_finish_time=1` flag in the integrate function (or omit it altogether, 1 is the default). However, note that changing the timestep in a symplectic integrator could have negative impacts on its properties. Using the `exact_finish_time = 0` flag, which will instead integrate up to the timestep which is nearest to the endtime that you have passed to `sim.integrate`."
   ]
  },
  {
   "cell_type": "code",
   "execution_count": null,
   "id": "151e6f55",
   "metadata": {},
   "outputs": [],
   "source": [
    "Noutputs = 1000\n",
    "times = np.linspace(0, 1000.*2.*np.pi, Noutputs)\n",
    "x = np.zeros(Noutputs)\n",
    "y = np.zeros(Noutputs)\n",
    "for i,time in enumerate(times):\n",
    "    sim.integrate(time, exact_finish_time=0)\n",
    "    x[i] = sim.particles[1].x\n",
    "    y[i] = sim.particles[1].y\n",
    "    \n",
    "fig = plt.figure(figsize=(5,5))\n",
    "ax = plt.subplot(111)\n",
    "ax.set_xlim([-1.5,1.5])\n",
    "ax.set_ylim([-1.5,1.5])\n",
    "plt.scatter(x, y, marker='.', color='k', s=1.2);"
   ]
  },
  {
   "cell_type": "markdown",
   "id": "d3b3d0ab",
   "metadata": {},
   "source": [
    "There are perturbations induced by the outer planet. Let's plot the orbital elements as a function of time:"
   ]
  },
  {
   "cell_type": "code",
   "execution_count": null,
   "id": "aeca23d1",
   "metadata": {},
   "outputs": [],
   "source": [
    "times = np.linspace(1000.*2.*np.pi, 9000.*2.*np.pi, Noutputs)\n",
    "a = np.zeros(Noutputs)\n",
    "e = np.zeros(Noutputs)\n",
    "for i,time in enumerate(times):\n",
    "    sim.integrate(time, exact_finish_time=0)\n",
    "    a[i] = sim.particles[2].a\n",
    "    e[i] = sim.particles[2].e\n",
    "    \n",
    "fig = plt.figure(figsize=(15,5))\n",
    "\n",
    "ax = plt.subplot(121)\n",
    "ax.set_xlabel(\"time [yr]\")\n",
    "ax.set_ylabel(\"semi-major axis [AU]\")\n",
    "plt.plot(times/2./np.pi, a);\n",
    "\n",
    "ax = plt.subplot(122)\n",
    "ax.set_xlabel(\"time [yr]\")\n",
    "ax.set_ylabel(\"eccentricity\")\n",
    "plt.plot(times/2./np.pi, e);"
   ]
  },
  {
   "cell_type": "markdown",
   "id": "74f40425",
   "metadata": {},
   "source": [
    "The semimajor axis seems to almost stay constant, whereas the eccentricity undergoes an oscillation."
   ]
  },
  {
   "cell_type": "markdown",
   "id": "3e0793be",
   "metadata": {},
   "source": [
    "## And much more..."
   ]
  },
  {
   "cell_type": "markdown",
   "id": "dd418046",
   "metadata": {},
   "source": [
    "[Fitting Radial Velocity Data](https://rebound.readthedocs.io/en/latest/ipython_examples/RadialVelocity/) \\\n",
    "[Additional forces](https://rebound.readthedocs.io/en/latest/ipython_examples/Forces/) \\\n",
    "[Ring Simulations](https://rebound.readthedocs.io/en/latest/ipython_examples/SaturnsRings/) \\\n",
    "[Checkpoints and Simulationarchive](https://rebound.readthedocs.io/en/latest/ipython_examples/Simulationarchive/) \\\n",
    "[Stability maps](https://rebound.readthedocs.io/en/latest/ipython_examples/Megno/)"
   ]
  }
 ],
 "metadata": {
  "kernelspec": {
   "display_name": "Python 3 (ipykernel)",
   "language": "python",
   "name": "python3"
  },
  "language_info": {
   "codemirror_mode": {
    "name": "ipython",
    "version": 3
   },
   "file_extension": ".py",
   "mimetype": "text/x-python",
   "name": "python",
   "nbconvert_exporter": "python",
   "pygments_lexer": "ipython3",
   "version": "3.9.13"
  }
 },
 "nbformat": 4,
 "nbformat_minor": 5
}
