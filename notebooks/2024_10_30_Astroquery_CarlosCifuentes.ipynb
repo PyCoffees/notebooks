{
 "cells": [
  {
   "cell_type": "markdown",
   "id": "e2418d15-af32-41f2-b870-c02806b13939",
   "metadata": {},
   "source": [
    "# <span style=\"color:salmon\">Astroquery</span> and its secrets\n",
    "## Database access automation\n",
    "\n",
    "**Pycoffe** (October 30, 2024)  \n",
    "Carlos Cifuentes"
   ]
  },
  {
   "cell_type": "markdown",
   "id": "1eeeb50a-a114-4760-b908-f760324b6178",
   "metadata": {},
   "source": [
    "Very often, it's all about data. Many tasks depend on retrieving information from large public databases that store observations, catalogues, and published studies. While manual downloads are sometimes possible, **automated data retrieval** is often the most efficient, secure, and reproducible approach. However, the **diversity of databases**, with different access protocols and formats, presents a challenge. ```astroquery``` simplifies this process, providing a Pythonic way to interact with numerous astronomical databases in a unified manner. This notebook will guide you through querying some of these databases. Many particular tweaks cannot be found in the official documentation."
   ]
  },
  {
   "cell_type": "code",
   "execution_count": 1,
   "id": "f911b89b-da8b-4b89-b11a-fe0b840a9359",
   "metadata": {},
   "outputs": [],
   "source": [
    "import numpy as np\n",
    "import pandas as pd\n",
    "import astropy.coordinates as coord\n",
    "import astropy.units as u\n",
    "import re\n",
    "import sys\n",
    "#!{sys.executable} -m pip install termcolor\n",
    "from termcolor import colored"
   ]
  },
  {
   "cell_type": "markdown",
   "id": "addcbaab-248a-419e-b269-3808ca855354",
   "metadata": {},
   "source": [
    "## 1. SIMBAD"
   ]
  },
  {
   "cell_type": "markdown",
   "id": "94d64b0d-7eca-4b0f-8a8e-77509f156549",
   "metadata": {},
   "source": [
    "From the ```astroquery``` _library_, we import the ```astroquery.simbad``` _module_, specifically designed to access the SIMBAD database. Inside it, the ```Simbad``` _class_ provides different methods and syntaxes for performing searches and retrieving specific data about astronomical objects. All ```astroquery``` modules roughly follow the same API, which means that we can essentially use the same syntax for all of them."
   ]
  },
  {
   "cell_type": "code",
   "execution_count": 2,
   "id": "b68d67f9-b021-4069-a548-b762717c3611",
   "metadata": {},
   "outputs": [],
   "source": [
    "from astroquery.simbad import Simbad\n",
    "from astropy.coordinates import SkyCoord \n",
    "from astropy import units as u"
   ]
  },
  {
   "cell_type": "markdown",
   "id": "8a0f919f-e188-4aef-9aea-f0395d791243",
   "metadata": {},
   "source": [
    "### Searching using coordinates\n",
    "\n",
    "It is possible to search specifying coordinates and a search radius using the ```SkyCoord```class and the ```query_region()``` _method_:"
   ]
  },
  {
   "cell_type": "code",
   "execution_count": 3,
   "id": "7ad8b7b5-8849-403f-ae5d-984638051576",
   "metadata": {
    "scrolled": true
   },
   "outputs": [
    {
     "data": {
      "text/html": [
       "<div><i>Table length=178</i>\n",
       "<table id=\"table140456178986720\" class=\"table-striped table-bordered table-condensed\">\n",
       "<thead><tr><th>MAIN_ID</th><th>RA</th><th>DEC</th><th>RA_PREC</th><th>DEC_PREC</th><th>COO_ERR_MAJA</th><th>COO_ERR_MINA</th><th>COO_ERR_ANGLE</th><th>COO_QUAL</th><th>COO_WAVELENGTH</th><th>COO_BIBCODE</th><th>SCRIPT_NUMBER_ID</th></tr></thead>\n",
       "<thead><tr><th></th><th>&quot;h:m:s&quot;</th><th>&quot;d:m:s&quot;</th><th></th><th></th><th>mas</th><th>mas</th><th>deg</th><th></th><th></th><th></th><th></th></tr></thead>\n",
       "<thead><tr><th>object</th><th>str13</th><th>str13</th><th>int16</th><th>int16</th><th>float32</th><th>float32</th><th>int16</th><th>str1</th><th>str1</th><th>object</th><th>int32</th></tr></thead>\n",
       "<tr><td>Cl Melotte   22</td><td>03 46 24.2</td><td>+24 06 50</td><td>5</td><td>5</td><td>--</td><td>--</td><td>0</td><td>D</td><td>O</td><td>2021A&amp;A...647A..19T</td><td>1</td></tr>\n",
       "<tr><td>LAMOST J034622.46+240720.0</td><td>03 46 22.46</td><td>+24 07 20.0</td><td>6</td><td>6</td><td>1000.000</td><td>1000.000</td><td>90</td><td>D</td><td>O</td><td>2021RAA....21..292W</td><td>1</td></tr>\n",
       "<tr><td>[KRL2001] 49</td><td>03 46 21.56</td><td>+24 07 17.0</td><td>6</td><td>6</td><td>--</td><td>--</td><td>0</td><td>D</td><td></td><td>2001AJ....121..337K</td><td>1</td></tr>\n",
       "<tr><td>V* PP Tau</td><td>03 46 31.1851</td><td>+24 07 02.431</td><td>14</td><td>14</td><td>0.112</td><td>0.093</td><td>90</td><td>A</td><td>O</td><td>2020yCat.1350....0G</td><td>1</td></tr>\n",
       "<tr><td>Cl* Melotte   22  IPMBD      25</td><td>03 46 26.0867</td><td>+24 05 09.641</td><td>14</td><td>14</td><td>0.463</td><td>0.390</td><td>90</td><td>A</td><td>O</td><td>2020yCat.1350....0G</td><td>1</td></tr>\n",
       "<tr><td>CXOP J034632.0+240746</td><td>03 46 32.01</td><td>+24 07 46.5</td><td>6</td><td>6</td><td>--</td><td>--</td><td>0</td><td>D</td><td></td><td>2002ApJ...578..486D</td><td>1</td></tr>\n",
       "<tr><td>[SCG94] X 135</td><td>03 46 29.7</td><td>+24 05 15</td><td>5</td><td>5</td><td>--</td><td>--</td><td>0</td><td>D</td><td></td><td></td><td>1</td></tr>\n",
       "<tr><td>PGCC G166.44-23.59</td><td>03 46 24.280</td><td>+24 08 52.67</td><td>7</td><td>7</td><td>--</td><td>--</td><td>0</td><td>E</td><td>m</td><td>2016A&amp;A...594A..28P</td><td>1</td></tr>\n",
       "<tr><td>[KRL2001] 48</td><td>03 46 23.39</td><td>+24 08 56.0</td><td>6</td><td>6</td><td>--</td><td>--</td><td>0</td><td>D</td><td></td><td>2001AJ....121..337K</td><td>1</td></tr>\n",
       "<tr><td>...</td><td>...</td><td>...</td><td>...</td><td>...</td><td>...</td><td>...</td><td>...</td><td>...</td><td>...</td><td>...</td><td>...</td></tr>\n",
       "<tr><td>Cl Melotte   22  1147</td><td>03 46 43.625</td><td>+24 15 27.83</td><td>7</td><td>7</td><td>--</td><td>--</td><td>0</td><td>D</td><td></td><td>1970MmRAS..73..125E</td><td>1</td></tr>\n",
       "<tr><td>CXOP J034701.2+240206</td><td>03 47 01.30</td><td>+24 02 06.0</td><td>6</td><td>6</td><td>--</td><td>--</td><td>0</td><td>D</td><td></td><td>2002ApJ...578..486D</td><td>1</td></tr>\n",
       "<tr><td>CXOP J034659.9+240132</td><td>03 46 59.92</td><td>+24 01 32.1</td><td>6</td><td>6</td><td>--</td><td>--</td><td>0</td><td>D</td><td></td><td>2002ApJ...578..486D</td><td>1</td></tr>\n",
       "<tr><td>Cl* Melotte   22    KEL      17</td><td>03 47.1</td><td>+24 09</td><td>3</td><td>3</td><td>--</td><td>--</td><td>0</td><td>E</td><td></td><td></td><td>1</td></tr>\n",
       "<tr><td>Cl* Melotte   22    KEL      95</td><td>03 47.1</td><td>+24 09</td><td>3</td><td>3</td><td>--</td><td>--</td><td>0</td><td>E</td><td></td><td></td><td>1</td></tr>\n",
       "<tr><td>[KRL2001] J034657.40+241307.10</td><td>03 46 57.40</td><td>+24 13 07.1</td><td>6</td><td>6</td><td>--</td><td>--</td><td>0</td><td>D</td><td></td><td>2001AJ....121..337K</td><td>1</td></tr>\n",
       "<tr><td>GN 03.43.3</td><td>03 46 20</td><td>+23 57.0</td><td>4</td><td>4</td><td>--</td><td>--</td><td>0</td><td>E</td><td></td><td>2003A&amp;A...399..141M</td><td>1</td></tr>\n",
       "<tr><td>Cl* Melotte   22    SHF      12</td><td>03 45 42.3215</td><td>+24 04 11.374</td><td>14</td><td>14</td><td>0.228</td><td>0.176</td><td>90</td><td>A</td><td>O</td><td>2020yCat.1350....0G</td><td>1</td></tr>\n",
       "<tr><td>*  23 Tau</td><td>03 46 19.5858</td><td>+23 56 54.092</td><td>14</td><td>14</td><td>0.227</td><td>0.153</td><td>90</td><td>A</td><td>O</td><td>2020yCat.1350....0G</td><td>1</td></tr>\n",
       "<tr><td>V* V1009 Tau</td><td>03 45 41.5817</td><td>+24 04 32.316</td><td>14</td><td>14</td><td>0.019</td><td>0.016</td><td>90</td><td>A</td><td>O</td><td>2020yCat.1350....0G</td><td>1</td></tr>\n",
       "</table></div>"
      ],
      "text/plain": [
       "<Table length=178>\n",
       "            MAIN_ID                   RA      ... SCRIPT_NUMBER_ID\n",
       "                                   \"h:m:s\"    ...                 \n",
       "             object                 str13     ...      int32      \n",
       "------------------------------- ------------- ... ----------------\n",
       "                Cl Melotte   22    03 46 24.2 ...                1\n",
       "     LAMOST J034622.46+240720.0   03 46 22.46 ...                1\n",
       "                   [KRL2001] 49   03 46 21.56 ...                1\n",
       "                      V* PP Tau 03 46 31.1851 ...                1\n",
       "Cl* Melotte   22  IPMBD      25 03 46 26.0867 ...                1\n",
       "          CXOP J034632.0+240746   03 46 32.01 ...                1\n",
       "                  [SCG94] X 135    03 46 29.7 ...                1\n",
       "             PGCC G166.44-23.59  03 46 24.280 ...                1\n",
       "                   [KRL2001] 48   03 46 23.39 ...                1\n",
       "                            ...           ... ...              ...\n",
       "          Cl Melotte   22  1147  03 46 43.625 ...                1\n",
       "          CXOP J034701.2+240206   03 47 01.30 ...                1\n",
       "          CXOP J034659.9+240132   03 46 59.92 ...                1\n",
       "Cl* Melotte   22    KEL      17       03 47.1 ...                1\n",
       "Cl* Melotte   22    KEL      95       03 47.1 ...                1\n",
       " [KRL2001] J034657.40+241307.10   03 46 57.40 ...                1\n",
       "                     GN 03.43.3      03 46 20 ...                1\n",
       "Cl* Melotte   22    SHF      12 03 45 42.3215 ...                1\n",
       "                      *  23 Tau 03 46 19.5858 ...                1\n",
       "                   V* V1009 Tau 03 45 41.5817 ...                1"
      ]
     },
     "execution_count": 3,
     "metadata": {},
     "output_type": "execute_result"
    }
   ],
   "source": [
    "result_table = Simbad.query_region(SkyCoord(\"03h46m24.2s +24d06m50s\", frame='icrs'), radius=10*u.arcmin)\n",
    "#result_table.pprint(show_unit=True, max_width=80, max_lines=5)\n",
    "result_table"
   ]
  },
  {
   "cell_type": "markdown",
   "id": "1783f124-f46c-497a-9498-91a385938863",
   "metadata": {},
   "source": [
    "### Searching using names\n",
    "\n",
    "Obtaining the catalogue name of an object or the equatorial coordinates is easy using SIMBAD with the ```query_objectids```method."
   ]
  },
  {
   "cell_type": "code",
   "execution_count": 4,
   "id": "1c561ff3-ecca-4bd3-a074-cb97201568d9",
   "metadata": {
    "scrolled": true
   },
   "outputs": [
    {
     "data": {
      "text/html": [
       "<div><i>Table length=10</i>\n",
       "<table id=\"table140455393016464\" class=\"table-striped table-bordered table-condensed\">\n",
       "<thead><tr><th>ID</th></tr></thead>\n",
       "<thead><tr><th>bytes19</th></tr></thead>\n",
       "<tr><td>[KC2019] Theia  369</td></tr>\n",
       "<tr><td>C 0344+239</td></tr>\n",
       "<tr><td>H 0346+24</td></tr>\n",
       "<tr><td>M  45</td></tr>\n",
       "<tr><td>NAME Pleiades</td></tr>\n",
       "<tr><td>NAME Seven Sisters</td></tr>\n",
       "<tr><td>OCl  421.0</td></tr>\n",
       "<tr><td>[KPR2004b]  47</td></tr>\n",
       "<tr><td>Cl Melotte   22</td></tr>\n",
       "<tr><td>[KPS2012] MWSC 0305</td></tr>\n",
       "</table></div>"
      ],
      "text/plain": [
       "<Table length=10>\n",
       "         ID        \n",
       "      bytes19      \n",
       "-------------------\n",
       "[KC2019] Theia  369\n",
       "         C 0344+239\n",
       "          H 0346+24\n",
       "              M  45\n",
       "      NAME Pleiades\n",
       " NAME Seven Sisters\n",
       "         OCl  421.0\n",
       "     [KPR2004b]  47\n",
       "    Cl Melotte   22\n",
       "[KPS2012] MWSC 0305"
      ]
     },
     "execution_count": 4,
     "metadata": {},
     "output_type": "execute_result"
    }
   ],
   "source": [
    "object_name = 'Cl Melotte 22'\n",
    "\n",
    "result_table_id = Simbad.query_objectids(object_name)\n",
    "result_table_id"
   ]
  },
  {
   "cell_type": "markdown",
   "id": "0b66c4b9-239e-490e-9522-06215046f601",
   "metadata": {},
   "source": [
    "If we want to know the identification inside a particular catalogue, we can implement this module into a **function** that searches for a particular catalogue. For instance, the Gliese-Jahreis (GJ) identifier for a star would be:"
   ]
  },
  {
   "cell_type": "code",
   "execution_count": 5,
   "id": "2fd78e39-0035-44b0-a3e8-50ed809d13cf",
   "metadata": {},
   "outputs": [
    {
     "name": "stdout",
     "output_type": "stream",
     "text": [
      "Found GJ identifier for Proxima Centauri: GJ 551\n"
     ]
    }
   ],
   "source": [
    "def search_identifier(identifier, star_name):\n",
    "    result_table = Simbad.query_objectids(star_name)\n",
    "    matches = [row for row in result_table['ID'] if re.search(identifier, row)]\n",
    "    if matches:\n",
    "        for match in matches:\n",
    "            print(colored(f\"Found {identifier} identifier for {star_name}:\", 'green'), f'{match}')\n",
    "    else:\n",
    "        print(colored(f\"No {identifier} identifier for {star_name}\", 'red'))\n",
    "\n",
    "identifier = 'GJ'\n",
    "star_name = 'Proxima Centauri'\n",
    "search_identifier(identifier, star_name)"
   ]
  },
  {
   "cell_type": "markdown",
   "id": "60fc6a88-3380-47ab-9897-3bbf97399e37",
   "metadata": {},
   "source": [
    "### Customizing SIMBAD query\n",
    "\n",
    "Some parameters are not available by default. These is the default set:"
   ]
  },
  {
   "cell_type": "code",
   "execution_count": 6,
   "id": "661dc582-3cd8-4d0c-a15b-36bd5e431cdc",
   "metadata": {},
   "outputs": [
    {
     "data": {
      "text/plain": [
       "['MAIN_ID',\n",
       " 'RA',\n",
       " 'DEC',\n",
       " 'RA_PREC',\n",
       " 'DEC_PREC',\n",
       " 'COO_ERR_MAJA',\n",
       " 'COO_ERR_MINA',\n",
       " 'COO_ERR_ANGLE',\n",
       " 'COO_QUAL',\n",
       " 'COO_WAVELENGTH',\n",
       " 'COO_BIBCODE',\n",
       " 'SCRIPT_NUMBER_ID']"
      ]
     },
     "execution_count": 6,
     "metadata": {},
     "output_type": "execute_result"
    }
   ],
   "source": [
    "result_table.colnames"
   ]
  },
  {
   "cell_type": "markdown",
   "id": "1d28dd24-2001-4581-af44-7bda9f15aef5",
   "metadata": {},
   "source": [
    " We can create a customized SIMBAD using the ```add_votable_fields()``` method. The full list of parameters that are accesible in SIMBAD (i.e. VOTable) is:"
   ]
  },
  {
   "cell_type": "code",
   "execution_count": 7,
   "id": "0b8d33ae-e8e8-4dd5-93b1-89feedeb3bb1",
   "metadata": {
    "scrolled": true
   },
   "outputs": [
    {
     "name": "stdout",
     "output_type": "stream",
     "text": [
      "--NOTES--\n",
      "\n",
      "1. The parameter filtername must correspond to an existing filter. Filters include: B,V,R,I,J,K.  They are checked by SIMBAD but not astroquery.simbad\n",
      "\n",
      "2. Fields beginning with rvz display the data as it is in the database. Fields beginning with rv force the display as a radial velocity. Fields beginning with z force the display as a redshift\n",
      "\n",
      "3. For each measurement catalog, the VOTable contains all fields of the first measurement. When applicable, the first measurement is the mean one. \n",
      "\n",
      "Available VOTABLE fields:\n",
      "\n",
      "bibcodelist(y1-y2)\n",
      "biblio\n",
      "cel\n",
      "cl.g\n",
      "coo(opt)\n",
      "coo_bibcode\n",
      "coo_err_angle\n",
      "coo_err_maja\n",
      "coo_err_mina\n",
      "coo_qual\n",
      "coo_wavelength\n",
      "coordinates\n",
      "dec(opt)\n",
      "dec_prec\n",
      "diameter\n",
      "dim\n",
      "dim_angle\n",
      "dim_bibcode\n",
      "dim_incl\n",
      "dim_majaxis\n",
      "dim_minaxis\n",
      "dim_qual\n",
      "dim_wavelength\n",
      "dimensions\n",
      "distance\n",
      "distance_result\n",
      "einstein\n",
      "fe_h\n",
      "flux(filtername)\n",
      "flux_bibcode(filtername)\n",
      "flux_error(filtername)\n",
      "flux_name(filtername)\n",
      "flux_qual(filtername)\n",
      "flux_system(filtername)\n",
      "flux_unit(filtername)\n",
      "fluxdata(filtername)\n",
      "gcrv\n",
      "gen\n",
      "gj\n",
      "hbet\n",
      "hbet1\n",
      "hgam\n",
      "id(opt)\n",
      "ids\n",
      "iras\n",
      "irc\n",
      "iso\n",
      "iue\n",
      "jp11\n",
      "link_bibcode\n",
      "main_id\n",
      "measurements\n",
      "membership\n",
      "mesplx\n",
      "mespm\n",
      "mk\n",
      "morphtype\n",
      "mt\n",
      "mt_bibcode\n",
      "mt_qual\n",
      "otype\n",
      "otype(opt)\n",
      "otypes\n",
      "parallax\n",
      "plx\n",
      "plx_bibcode\n",
      "plx_error\n",
      "plx_prec\n",
      "plx_qual\n",
      "pm\n",
      "pm_bibcode\n",
      "pm_err_angle\n",
      "pm_err_maja\n",
      "pm_err_mina\n",
      "pm_qual\n",
      "pmdec\n",
      "pmdec_prec\n",
      "pmra\n",
      "pmra_prec\n",
      "pos\n",
      "posa\n",
      "propermotions\n",
      "ra(opt)\n",
      "ra_prec\n",
      "rot\n",
      "rv_value\n",
      "rvz_bibcode\n",
      "rvz_error\n",
      "rvz_qual\n",
      "rvz_radvel\n",
      "rvz_type\n",
      "rvz_wavelength\n",
      "sao\n",
      "sp\n",
      "sp_bibcode\n",
      "sp_nature\n",
      "sp_qual\n",
      "sptype\n",
      "td1\n",
      "typed_id\n",
      "ubv\n",
      "uvby\n",
      "uvby1\n",
      "v*\n",
      "velocity\n",
      "xmm\n",
      "z_value\n",
      "For more information on a field:\n",
      "Simbad.get_field_description ('field_name') \n",
      "Currently active VOTABLE fields:\n",
      " ['main_id', 'coordinates']\n"
     ]
    }
   ],
   "source": [
    "Simbad.list_votable_fields()"
   ]
  },
  {
   "cell_type": "markdown",
   "id": "8ad99279-6ef1-4914-9cf3-63aa3b23898f",
   "metadata": {},
   "source": [
    "A description of any field can be obtained using:"
   ]
  },
  {
   "cell_type": "code",
   "execution_count": 8,
   "id": "d01112ee-b6d3-4284-9d05-0ed65e740094",
   "metadata": {},
   "outputs": [
    {
     "name": "stdout",
     "output_type": "stream",
     "text": [
      "Stellar parameters (Teff, log(g) and [Fe/H]) taken from the literature.\n"
     ]
    }
   ],
   "source": [
    "Simbad.get_field_description('fe_h')"
   ]
  },
  {
   "cell_type": "markdown",
   "id": "703df0a3-7783-4e0c-997e-4585ceb6b3a0",
   "metadata": {},
   "source": [
    "We may add as many fileds as needed. Let's find out some Pleiades members based on their astrometric data (distances and proper motions):"
   ]
  },
  {
   "cell_type": "code",
   "execution_count": 10,
   "id": "720bfb3b-9991-43d9-8084-88626533adf1",
   "metadata": {
    "scrolled": true
   },
   "outputs": [
    {
     "data": {
      "text/html": [
       "<div><i>Table length=32</i>\n",
       "<table id=\"table140455392729648\" class=\"table-striped table-bordered table-condensed\">\n",
       "<thead><tr><th>MAIN_ID</th><th>RA</th><th>DEC</th><th>RA_PREC</th><th>DEC_PREC</th><th>COO_ERR_MAJA</th><th>COO_ERR_MINA</th><th>COO_ERR_ANGLE</th><th>COO_QUAL</th><th>COO_WAVELENGTH</th><th>COO_BIBCODE</th><th>SP_TYPE</th><th>SP_QUAL</th><th>SP_BIBCODE</th><th>OTYPE</th><th>Fe_H_Teff</th><th>Fe_H_log_g</th><th>Fe_H_Fe_H</th><th>Fe_H_flag</th><th>Fe_H_CompStar</th><th>Fe_H_CatNo</th><th>Fe_H_bibcode</th><th>PLX_VALUE</th><th>PMRA</th><th>PMDEC</th><th>SCRIPT_NUMBER_ID</th></tr></thead>\n",
       "<thead><tr><th></th><th>&quot;h:m:s&quot;</th><th>&quot;d:m:s&quot;</th><th></th><th></th><th>mas</th><th>mas</th><th>deg</th><th></th><th></th><th></th><th></th><th></th><th></th><th></th><th>unit-degK</th><th>cm/s**2</th><th></th><th></th><th></th><th></th><th></th><th>mas</th><th>mas / yr</th><th>mas / yr</th><th></th></tr></thead>\n",
       "<thead><tr><th>object</th><th>str13</th><th>str13</th><th>int16</th><th>int16</th><th>float32</th><th>float32</th><th>int16</th><th>str1</th><th>str1</th><th>object</th><th>object</th><th>str1</th><th>object</th><th>object</th><th>int32</th><th>float32</th><th>float32</th><th>str1</th><th>object</th><th>str5</th><th>str19</th><th>float64</th><th>float64</th><th>float64</th><th>int32</th></tr></thead>\n",
       "<tr><td>Cl Melotte   22</td><td>03 46 24.2</td><td>+24 06 50</td><td>5</td><td>5</td><td>--</td><td>--</td><td>0</td><td>D</td><td>O</td><td>2021A&amp;A...647A..19T</td><td></td><td></td><td></td><td>OpenCluster</td><td>0</td><td>--</td><td>-0.0500</td><td></td><td>SUN</td><td></td><td>2024A&amp;A...688A.165S</td><td>7.364</td><td>19.997</td><td>-45.548</td><td>1</td></tr>\n",
       "<tr><td>V* PP Tau</td><td>03 46 31.1851</td><td>+24 07 02.431</td><td>14</td><td>14</td><td>0.112</td><td>0.093</td><td>90</td><td>A</td><td>O</td><td>2020yCat.1350....0G</td><td>M1.6</td><td>D</td><td>2020ApJ...892...31B</td><td>YSO</td><td>3995</td><td>4.6360</td><td>-0.0778</td><td></td><td></td><td></td><td>2022ApJS..259...35A</td><td>7.393</td><td>18.380</td><td>-45.252</td><td>1</td></tr>\n",
       "<tr><td>Cl* Melotte   22  IPMBD      25</td><td>03 46 26.0867</td><td>+24 05 09.641</td><td>14</td><td>14</td><td>0.463</td><td>0.390</td><td>90</td><td>A</td><td>O</td><td>2020yCat.1350....0G</td><td></td><td></td><td></td><td>Low-Mass*</td><td>0</td><td>--</td><td>--</td><td></td><td></td><td></td><td></td><td>7.572</td><td>20.704</td><td>-44.848</td><td>1</td></tr>\n",
       "<tr><td>V* OZ Tau</td><td>03 46 25.3897</td><td>+24 09 36.475</td><td>14</td><td>14</td><td>0.064</td><td>0.050</td><td>90</td><td>A</td><td>O</td><td>2020yCat.1350....0G</td><td>M3.1</td><td>D</td><td>2020ApJ...892...31B</td><td>Eruptive*</td><td>3562</td><td>5.4000</td><td>0.0000</td><td></td><td>SUN</td><td></td><td>2022MNRAS.514.4781X</td><td>7.191</td><td>16.921</td><td>-48.015</td><td>1</td></tr>\n",
       "<tr><td>HD  23511</td><td>03 46 39.3335</td><td>+24 06 11.531</td><td>14</td><td>14</td><td>0.018</td><td>0.015</td><td>90</td><td>A</td><td>O</td><td>2020yCat.1350....0G</td><td>F5V</td><td>C</td><td>2001AJ....121.2148G</td><td>HighPM*</td><td>6630</td><td>--</td><td>--</td><td></td><td></td><td></td><td>2021ApJ...921..117T</td><td>7.361</td><td>20.529</td><td>-46.942</td><td>1</td></tr>\n",
       "<tr><td>V* V1189 Tau</td><td>03 46 12.8676</td><td>+24 03 15.754</td><td>14</td><td>14</td><td>0.015</td><td>0.013</td><td>90</td><td>A</td><td>O</td><td>2020yCat.1350....0G</td><td>M1.4</td><td>D</td><td>2020ApJ...892...31B</td><td>BYDraV*</td><td>3949</td><td>4.6400</td><td>-0.4500</td><td></td><td>SUN</td><td></td><td>2023ApJS..264...12H</td><td>7.332</td><td>22.068</td><td>-46.128</td><td>1</td></tr>\n",
       "<tr><td>BD+23   518</td><td>03 46 07.7018</td><td>+24 03 41.819</td><td>14</td><td>14</td><td>0.015</td><td>0.012</td><td>90</td><td>A</td><td>O</td><td>2020yCat.1350....0G</td><td>GIV</td><td>D</td><td></td><td>Star</td><td>0</td><td>--</td><td>--</td><td></td><td></td><td></td><td></td><td>7.817</td><td>-30.476</td><td>21.712</td><td>1</td></tr>\n",
       "<tr><td>Gaia DR3 65230764998207232</td><td>03 46 16.0046</td><td>+24 11 22.765</td><td>14</td><td>14</td><td>0.039</td><td>0.025</td><td>90</td><td>A</td><td>O</td><td>2020yCat.1350....0G</td><td></td><td></td><td></td><td>Star</td><td>0</td><td>--</td><td>--</td><td></td><td></td><td></td><td></td><td>7.395</td><td>20.756</td><td>-50.032</td><td>1</td></tr>\n",
       "<tr><td>HD  23479</td><td>03 46 16.0035</td><td>+24 11 23.722</td><td>14</td><td>14</td><td>0.030</td><td>0.021</td><td>90</td><td>A</td><td>O</td><td>2020yCat.1350....0G</td><td>A7V</td><td>C</td><td></td><td>Eruptive*</td><td>7020</td><td>--</td><td>--</td><td></td><td></td><td></td><td>2021ApJ...921..117T</td><td>7.399</td><td>19.606</td><td>-43.759</td><td>1</td></tr>\n",
       "<tr><td>...</td><td>...</td><td>...</td><td>...</td><td>...</td><td>...</td><td>...</td><td>...</td><td>...</td><td>...</td><td>...</td><td>...</td><td>...</td><td>...</td><td>...</td><td>...</td><td>...</td><td>...</td><td>...</td><td>...</td><td>...</td><td>...</td><td>...</td><td>...</td><td>...</td><td>...</td></tr>\n",
       "<tr><td>HD  23489</td><td>03 46 27.2785</td><td>+24 15 17.995</td><td>14</td><td>14</td><td>0.028</td><td>0.020</td><td>90</td><td>A</td><td>O</td><td>2020yCat.1350....0G</td><td>A2V</td><td>C</td><td></td><td>**</td><td>8500</td><td>3.8000</td><td>-0.4000</td><td></td><td>SUN</td><td></td><td>2016A&amp;A...589A..83G</td><td>7.346</td><td>20.450</td><td>-44.647</td><td>1</td></tr>\n",
       "<tr><td>HD  23409</td><td>03 45 51.6357</td><td>+24 02 19.955</td><td>14</td><td>14</td><td>0.029</td><td>0.021</td><td>90</td><td>A</td><td>O</td><td>2020yCat.1350....0G</td><td>A2V</td><td>C</td><td></td><td>Star</td><td>8170</td><td>4.9063</td><td>--</td><td></td><td></td><td></td><td>2020AJ....160..120J</td><td>7.296</td><td>19.806</td><td>-45.003</td><td>1</td></tr>\n",
       "<tr><td>V* V448 Tau</td><td>03 46 35.9117</td><td>+23 58 01.275</td><td>14</td><td>14</td><td>0.018</td><td>0.012</td><td>90</td><td>A</td><td>O</td><td>2020yCat.1350....0G</td><td>M1.5</td><td>D</td><td>2020ApJ...892...31B</td><td>YSO</td><td>4046</td><td>4.6620</td><td>0.0029</td><td></td><td></td><td></td><td>2022ApJS..259...35A</td><td>7.232</td><td>19.293</td><td>-44.068</td><td>1</td></tr>\n",
       "<tr><td>2MASS J03465825+2401415</td><td>03 46 58.2568</td><td>+24 01 41.478</td><td>14</td><td>14</td><td>0.083</td><td>0.061</td><td>90</td><td>A</td><td>O</td><td>2020yCat.1350....0G</td><td>M5</td><td>D</td><td>2019MNRAS.485.2167G</td><td>Eruptive*</td><td>0</td><td>--</td><td>--</td><td></td><td></td><td></td><td></td><td>7.450</td><td>19.212</td><td>-43.363</td><td>1</td></tr>\n",
       "<tr><td>V* V535 Tau</td><td>03 47 03.5824</td><td>+24 09 34.870</td><td>14</td><td>14</td><td>0.019</td><td>0.015</td><td>90</td><td>A</td><td>O</td><td>2020yCat.1350....0G</td><td>M2.4</td><td>D</td><td>2020ApJ...892...31B</td><td>YSO</td><td>3946</td><td>5.2400</td><td>-0.2700</td><td></td><td>SUN</td><td></td><td>2022MNRAS.514.4781X</td><td>7.277</td><td>19.333</td><td>-44.725</td><td>1</td></tr>\n",
       "<tr><td>V* V787 Tau</td><td>03 45 44.0741</td><td>+24 04 26.818</td><td>14</td><td>14</td><td>0.017</td><td>0.013</td><td>90</td><td>A</td><td>O</td><td>2020yCat.1350....0G</td><td>M1.3</td><td>D</td><td>2020ApJ...892...31B</td><td>YSO</td><td>4083</td><td>4.6570</td><td>-0.0210</td><td></td><td></td><td></td><td>2022ApJS..259...35A</td><td>7.326</td><td>19.955</td><td>-43.353</td><td>1</td></tr>\n",
       "<tr><td>Cl* Melotte   22    SHF      26</td><td>03 46 06.0475</td><td>+23 58 19.388</td><td>14</td><td>14</td><td>0.166</td><td>0.114</td><td>90</td><td>A</td><td>O</td><td>2020yCat.1350....0G</td><td></td><td></td><td></td><td>Star</td><td>0</td><td>--</td><td>--</td><td></td><td></td><td></td><td></td><td>7.797</td><td>19.116</td><td>-45.664</td><td>1</td></tr>\n",
       "<tr><td>Cl* Melotte   22     DH     484</td><td>03 46 59.3116</td><td>+24 01 42.916</td><td>14</td><td>14</td><td>0.056</td><td>0.044</td><td>90</td><td>A</td><td>O</td><td>2020yCat.1350....0G</td><td>M4.1</td><td>D</td><td>2020ApJ...892...31B</td><td>Eruptive*</td><td>3197</td><td>4.4220</td><td>--</td><td></td><td></td><td></td><td>2022ApJS..259...35A</td><td>7.108</td><td>19.231</td><td>-43.909</td><td>1</td></tr>\n",
       "<tr><td>Cl* Melotte   22    SHF      12</td><td>03 45 42.3215</td><td>+24 04 11.374</td><td>14</td><td>14</td><td>0.228</td><td>0.176</td><td>90</td><td>A</td><td>O</td><td>2020yCat.1350....0G</td><td></td><td></td><td></td><td>Star</td><td>0</td><td>--</td><td>--</td><td></td><td></td><td></td><td></td><td>7.456</td><td>18.623</td><td>-45.332</td><td>1</td></tr>\n",
       "<tr><td>*  23 Tau</td><td>03 46 19.5858</td><td>+23 56 54.092</td><td>14</td><td>14</td><td>0.227</td><td>0.153</td><td>90</td><td>A</td><td>O</td><td>2020yCat.1350....0G</td><td>B6IV(e)</td><td>C</td><td>1982ApJS...50...55S</td><td>Be*</td><td>8000</td><td>4.0000</td><td>--</td><td></td><td></td><td></td><td>2020AJ....160...83S</td><td>7.067</td><td>13.075</td><td>-48.404</td><td>1</td></tr>\n",
       "</table></div>"
      ],
      "text/plain": [
       "<Table length=32>\n",
       "            MAIN_ID                   RA      ...   PMDEC   SCRIPT_NUMBER_ID\n",
       "                                   \"h:m:s\"    ...  mas / yr                 \n",
       "             object                 str13     ...  float64       int32      \n",
       "------------------------------- ------------- ... --------- ----------------\n",
       "                Cl Melotte   22    03 46 24.2 ...   -45.548                1\n",
       "                      V* PP Tau 03 46 31.1851 ...   -45.252                1\n",
       "Cl* Melotte   22  IPMBD      25 03 46 26.0867 ...   -44.848                1\n",
       "                      V* OZ Tau 03 46 25.3897 ...   -48.015                1\n",
       "                      HD  23511 03 46 39.3335 ...   -46.942                1\n",
       "                   V* V1189 Tau 03 46 12.8676 ...   -46.128                1\n",
       "                    BD+23   518 03 46 07.7018 ...    21.712                1\n",
       "     Gaia DR3 65230764998207232 03 46 16.0046 ...   -50.032                1\n",
       "                      HD  23479 03 46 16.0035 ...   -43.759                1\n",
       "                            ...           ... ...       ...              ...\n",
       "                      HD  23489 03 46 27.2785 ...   -44.647                1\n",
       "                      HD  23409 03 45 51.6357 ...   -45.003                1\n",
       "                    V* V448 Tau 03 46 35.9117 ...   -44.068                1\n",
       "        2MASS J03465825+2401415 03 46 58.2568 ...   -43.363                1\n",
       "                    V* V535 Tau 03 47 03.5824 ...   -44.725                1\n",
       "                    V* V787 Tau 03 45 44.0741 ...   -43.353                1\n",
       "Cl* Melotte   22    SHF      26 03 46 06.0475 ...   -45.664                1\n",
       "Cl* Melotte   22     DH     484 03 46 59.3116 ...   -43.909                1\n",
       "Cl* Melotte   22    SHF      12 03 45 42.3215 ...   -45.332                1\n",
       "                      *  23 Tau 03 46 19.5858 ...   -48.404                1"
      ]
     },
     "execution_count": 10,
     "metadata": {},
     "output_type": "execute_result"
    }
   ],
   "source": [
    "customSimbad = Simbad()\n",
    "customSimbad.add_votable_fields('sptype', 'otype', 'fe_h', 'plx', 'pmra', 'pmdec')\n",
    "result_table_custom = customSimbad.query_region(SkyCoord(\"03h46m24.2s +24d06m50s\", frame='icrs'), radius=10*u.arcmin)\n",
    "result_table_custom = result_table_custom[result_table_custom['PLX_VALUE'] > 7]\n",
    "result_table_custom"
   ]
  },
  {
   "cell_type": "markdown",
   "id": "37624c45-5f7b-4bcb-825b-6b4b4d8d7791",
   "metadata": {},
   "source": [
    "Because one _field_ can include different parameters, it is more convenient to map these fields into keywords that we can use in a function. For instance:\n",
    "\n",
    "> ```main_id``` will map ```MAIN_ID```  \n",
    "> ```ra``` will map ```RA```  \n",
    "> ```dec``` will map ```DEC```  \n",
    "> ...  \n",
    "> ```teff```will map ```Fe_H_Teff```  \n",
    "> ```logg```will map ```Fe_H_log_g```  \n",
    "> ```fe_h```will map ```Fe_H_Fe_H```   "
   ]
  },
  {
   "cell_type": "markdown",
   "id": "b1b08397-57fe-4098-8ade-bc5e4ae1329b",
   "metadata": {},
   "source": [
    "Mapping the parameters can be done using a dictionary:"
   ]
  },
  {
   "cell_type": "code",
   "execution_count": 11,
   "id": "16af12ee-f46c-4444-83ed-bbec8a3d411e",
   "metadata": {},
   "outputs": [
    {
     "data": {
      "text/plain": [
       "2810"
      ]
     },
     "execution_count": 11,
     "metadata": {},
     "output_type": "execute_result"
    }
   ],
   "source": [
    "def query_plus_simbad(object, data):\n",
    "\n",
    "    customSimbad = Simbad()\n",
    "    customSimbad.add_votable_fields('main_id', 'otype', 'otypes', 'sptype', 'sp_bibcode', 'dimensions',\n",
    "                                     'plx', 'plx_error', 'plx_bibcode', 'distance', 'pmra', 'pm_err_maja',\n",
    "                                     'pmdec', 'pm_err_mina', 'pm_bibcode', 'rvz_radvel', 'rvz_error',\n",
    "                                     'rvz_bibcode', 'fe_h')\n",
    "    \n",
    "    result = customSimbad.query_object(object)\n",
    "\n",
    "    data_mapping = {\n",
    "        'pmra': 'PMRA',\n",
    "        'pmra_err': 'PM_ERR_MAJA',\n",
    "        'pmdec': 'PMDEC',\n",
    "        'pmdec_err': 'PM_ERR_MINA',\n",
    "        'pm_bibcode': 'PM_BIBCODE',\n",
    "        'rv': 'RVZ_RADVEL',\n",
    "        'rv_err': 'RVZ_ERROR',\n",
    "        'rvz_bibcode': 'RVZ_BIBCODE',\n",
    "        'distance': 'Distance_distance',\n",
    "        'parallax': 'PLX_VALUE',\n",
    "        'parallax_err': 'PLX_ERROR',\n",
    "        'parallax_ref': 'PLX_BIBCODE',\n",
    "        'object_type': 'OTYPE',\n",
    "        'object_type_ext': 'OTYPES',\n",
    "        'sp_type': 'SP_TYPE',\n",
    "        'sp_ref': 'SP_BIBCODE',\n",
    "        'teff': 'Fe_H_Teff'\n",
    "    }\n",
    "    return result[data_mapping[data]][0] if data in data_mapping else print('Item not found.')\n",
    "\n",
    "object_name = 'Proxima Cen'\n",
    "star_data = query_plus_simbad(object_name, 'teff')\n",
    "star_data\n"
   ]
  },
  {
   "cell_type": "markdown",
   "id": "abc52f90-9e22-493e-b06f-71e489b6f2ab",
   "metadata": {},
   "source": [
    "The result above is useless without its units. Luckily, the output is a masked column with some metadata, including units: ```<MaskedColumn name='Fe_H_Teff' dtype='int32' unit='unit-degK' description='Effective Temperature' length=1>```."
   ]
  },
  {
   "cell_type": "code",
   "execution_count": 12,
   "id": "2cccbe6a-c3f7-43bf-ade5-b3e2dba9a3d4",
   "metadata": {},
   "outputs": [
    {
     "name": "stdout",
     "output_type": "stream",
     "text": [
      "MAIN_ID: NAME Proxima Centauri \n",
      "RA: 14 29 42.9461 \"h:m:s\"\n",
      "DEC: -62 40 46.164 \"d:m:s\"\n",
      "RA_PREC: 14 \n",
      "DEC_PREC: 14 \n",
      "COO_ERR_MAJA: 0.024000000208616257 mas\n",
      "COO_ERR_MINA: 0.03440000116825104 mas\n",
      "COO_ERR_ANGLE: 90 deg\n",
      "COO_QUAL: A \n",
      "COO_WAVELENGTH: O \n",
      "COO_BIBCODE: 2020yCat.1350....0G \n",
      "MAIN_ID_2: NAME Proxima Centauri \n",
      "OTYPE: Eruptive* \n",
      "OTYPES: Ro*|PM*|PM*|Er*|Ro*|MIR|PM*|**|V*|NIR|*|*|IR|UV|UV|X \n",
      "SP_TYPE: M5.5Ve \n",
      "SP_QUAL: C \n",
      "SP_BIBCODE: 1991AJ....101..662B \n",
      "SP_BIBCODE_2: 1991AJ....101..662B \n",
      "GALDIM_MAJAXIS: -- arcmin\n",
      "GALDIM_MINAXIS: -- arcmin\n",
      "GALDIM_ANGLE: 0 deg\n",
      "GALDIM_QUAL:  \n",
      "GALDIM_WAVELENGTH:  \n",
      "GALDIM_BIBCODE:  \n",
      "PLX_VALUE: 768.0665 mas\n",
      "PLX_ERROR: 0.04989999905228615 mas\n",
      "PLX_BIBCODE: 2020yCat.1350....0G \n",
      "Distance_distance: 1.3019 \n",
      "Distance_Q:  \n",
      "Distance_unit: pc \n",
      "Distance_merr: -5.0 \n",
      "Distance_perr: -- \n",
      "Distance_method: paral \n",
      "Distance_bibcode: 2020yCat.1350....0G \n",
      "PMRA: -3781.741 mas / yr\n",
      "PM_ERR_MAJA: 0.03099999949336052 mas / yr\n",
      "PMDEC: 769.465 mas / yr\n",
      "PM_ERR_MINA: 0.050999999046325684 mas / yr\n",
      "PM_BIBCODE: 2020yCat.1350....0G \n",
      "RVZ_RADVEL: -20.578199 km / s\n",
      "RVZ_ERROR: 0.004683999810367823 km / s\n",
      "RVZ_BIBCODE: 2020AJ....160..120J \n",
      "Fe_H_Teff: 2810 unit-degK\n",
      "Fe_H_log_g: 4.590000152587891 cm/s**2\n",
      "Fe_H_Fe_H: 0.03999999910593033 \n",
      "Fe_H_flag:  \n",
      "Fe_H_CompStar: SUN \n",
      "Fe_H_CatNo:  \n",
      "Fe_H_bibcode: 2023ApJS..266...41P \n",
      "SCRIPT_NUMBER_ID: 1 \n"
     ]
    }
   ],
   "source": [
    "def query_plus_simbad(object_name):\n",
    "    customSimbad = Simbad()\n",
    "    customSimbad.add_votable_fields('main_id', 'otype', 'otypes', 'sptype', 'sp_bibcode', 'dimensions',\n",
    "                                     'plx', 'plx_error', 'plx_bibcode', 'distance', 'pmra', 'pm_err_maja',\n",
    "                                     'pmdec', 'pm_err_mina', 'pm_bibcode', 'rvz_radvel', 'rvz_error',\n",
    "                                     'rvz_bibcode', 'fe_h')\n",
    "    \n",
    "    result = customSimbad.query_object(object_name)\n",
    "    \n",
    "    # Create a dictionary to hold data and units\n",
    "    data_with_units = {}\n",
    "    \n",
    "    for column in result.colnames:\n",
    "        value = result[column][0]  # Get the value\n",
    "        unit = result[column].unit  # Get the unit\n",
    "        if unit is None:\n",
    "            unit = ''\n",
    "        else:\n",
    "            unit\n",
    "        data_with_units[column] = {'value': value, 'unit': str(unit)}  # Store both in a dict\n",
    "\n",
    "    return data_with_units\n",
    "\n",
    "# Example usage\n",
    "object_name = 'Proxima Cen'\n",
    "star_data = query_plus_simbad(object_name)\n",
    "\n",
    "if star_data is not None:\n",
    "    for key, info in star_data.items():\n",
    "        print(colored(f\"{key}:\", 'cyan'), f\"{info['value']} {info['unit']}\")\n"
   ]
  },
  {
   "cell_type": "markdown",
   "id": "45969745-7cf7-404a-8e06-677e1dc8af56",
   "metadata": {},
   "source": [
    "### Accesing data\n",
    "\n",
    "The output is stored in ```astropy.table.column``` format. There are several ways to access and manipulate column values."
   ]
  },
  {
   "cell_type": "code",
   "execution_count": 13,
   "id": "38886139-764e-4dd5-93d9-61f928dadbdb",
   "metadata": {},
   "outputs": [
    {
     "name": "stdout",
     "output_type": "stream",
     "text": [
      "\n",
      "Star: Capella\n",
      "RA as Numpy array: ['05 16 41.3587']\n",
      "RA as List: ['05 16 41.3587']\n",
      "RA row-by-row: 05 16 41.3587\n",
      "RA row-by-row: 05 16 41.3587\n"
     ]
    }
   ],
   "source": [
    "object_name = 'Capella'\n",
    "result_table = Simbad.query_object(object_name)\n",
    "print(colored(f\"\\nStar: {object_name}\", \"green\"))\n",
    "\n",
    "# Array\n",
    "ra_values_np = result_table['RA'].data\n",
    "print(colored(\"RA as Numpy array:\", 'blue'), ra_values_np)\n",
    "\n",
    "# List\n",
    "ra_values_list = result_table['RA'].tolist()\n",
    "print(colored(\"RA as List:\", 'blue'), ra_values_list)\n",
    "\n",
    "# Row-by-row loop\n",
    "for row in result_table:\n",
    "    ra_value = row['RA']\n",
    "    print(colored(\"RA row-by-row:\", 'blue'), ra_value)\n",
    "\n",
    "# Pandas' dataframe\n",
    "df = result_table.to_pandas()\n",
    "print(colored(\"RA row-by-row:\", 'blue'), df['RA'][0])"
   ]
  },
  {
   "cell_type": "markdown",
   "id": "2467aa85-1b7a-427e-8b58-18c2718f4471",
   "metadata": {},
   "source": [
    "## VizieR"
   ]
  },
  {
   "cell_type": "markdown",
   "id": "f78c9429-3c65-48fd-aed8-bfed93b5937d",
   "metadata": {},
   "source": [
    "Analogously, from the ```astroquery``` _library_, we import the ```astroquery.vizier``` _module_, and the ```Vizier``` _class_ contained in it."
   ]
  },
  {
   "cell_type": "code",
   "execution_count": 14,
   "id": "44d343fa-9651-41c0-a846-39f42bf5d591",
   "metadata": {},
   "outputs": [],
   "source": [
    "from astroquery.vizier import Vizier\n",
    "import astropy.units as u"
   ]
  },
  {
   "cell_type": "markdown",
   "id": "87b7c177-0440-4dd4-8f48-9f2882a7cca1",
   "metadata": {},
   "source": [
    "VizieR catalogues can be queried with the ```query_vizier``` or the ```query_region``` methods. These catalogues include all-sky surveys such as 2MASS, and also tabulated data from refereed publications:"
   ]
  },
  {
   "cell_type": "code",
   "execution_count": null,
   "id": "385acaac-c28f-4673-a8c8-0f19d1117e88",
   "metadata": {},
   "outputs": [],
   "source": [
    "catalog_name = 'J/A+A/650/A201'\n",
    "object_name = 'alf Cen'\n",
    "result = Vizier.query_region(object_name, radius=5*u.arcsec, catalog=catalog_name)\n",
    "\n",
    "print(colored('Title:', 'green'), Vizier(catalog=catalog_name).get_catalog_metadata()['title'][0]) \n",
    "print(colored('Authors:', 'green'), Vizier(catalog=catalog_name).get_catalog_metadata()['authors'][0]) \n",
    "result[0]"
   ]
  },
  {
   "cell_type": "markdown",
   "id": "3ce50145-b2aa-4636-8956-76650464d50c",
   "metadata": {},
   "source": [
    "Any catalogue can be included and customized using a dictionary:"
   ]
  },
  {
   "cell_type": "code",
   "execution_count": 16,
   "id": "8c93b2a2-0534-4604-99f4-11cd9a84e263",
   "metadata": {},
   "outputs": [],
   "source": [
    "def query_vizier(name, catalog_id):\n",
    "    catalog_dict = {\n",
    "        'GALEX': ('II/312', ['FUVmag', 'e_FUVmag', 'NUVmag', 'e_NUVmag'], 'FUVmag'),\n",
    "        'SDSS9': ('V/139/sdss9', ['umag', 'e_umag', 'gmag', 'e_gmag', 'rmag', 'e_rmag', 'imag', 'e_imag', 'zmag', 'e_zmag'], 'rmag'),\n",
    "        '2MASS': ('II/246/out', ['RAJ2000', 'DEJ2000', 'Jmag', 'e_Jmag', 'Hmag', 'e_Hmag', 'Kmag', 'e_Kmag', 'Qflg'], 'Jmag'),\n",
    "        'AllWISE': ('II/328/allwise', ['W1mag', 'e_W1mag', 'W2mag', 'e_W2mag', 'W3mag', 'e_W3mag', 'W4mag', 'e_W4mag', 'qph'], 'W1mag'),\n",
    "        'Cifuentes20': ('J/A+A/642/A115', ['SpType', 'Lbol', 'e_Lbol', 'Radius', 'e_Radius', 'Mass', 'e_Mass', 'Multiple', 'Young', 'Excess'], 'SpType')\n",
    "    }\n",
    "    \n",
    "    catalog_info = catalog_dict[catalog_id]\n",
    "    catalog_id, columns, set_column = catalog_info\n",
    "    \n",
    "    v = Vizier(columns=columns, catalog=catalog_id)\n",
    "    try:\n",
    "        result = v.query_object(name)\n",
    "        result = result[0][np.argmin(result[0][set_column])]\n",
    "    except Exception:\n",
    "        result = None\n",
    "    \n",
    "    return result"
   ]
  },
  {
   "cell_type": "code",
   "execution_count": 17,
   "id": "c277d33b-d79b-4736-b868-2e79c1b6d16e",
   "metadata": {},
   "outputs": [
    {
     "name": "stdout",
     "output_type": "stream",
     "text": [
      "SpType       Lbol            e_Lbol       Radius e_Radius   Mass   e_Mass Multiple Young Excess\n",
      "            solLum           solLum       solRad  solRad  solMass solMass                      \n",
      "------ ---------------- ---------------- ------- -------- ------- ------- -------- ----- ------\n",
      "M5.5 V     0.0014422563     4.737831e-05  0.1504   0.0057  0.1347  0.0100    false false  false\n",
      "\n",
      " Stellar radius for GJ 551: 0.1504 +/- 0.0057 (Msol)\n"
     ]
    }
   ],
   "source": [
    "object_name = 'GJ 551'\n",
    "star_data = query_vizier(object_name, 'Cifuentes20')\n",
    "\n",
    "print(star_data)\n",
    "print(colored(f'\\n Stellar radius for {object_name}:', 'blue'), star_data['Radius'], '+/-', star_data['e_Radius'], '(Msol)')"
   ]
  },
  {
   "cell_type": "markdown",
   "id": "601b0af8-b660-47b7-b99f-c4e7b53a0858",
   "metadata": {},
   "source": [
    "## 3. _Gaia_"
   ]
  },
  {
   "cell_type": "code",
   "execution_count": 18,
   "id": "7bd322c3-b365-410d-9b7e-e6fc09246f6a",
   "metadata": {},
   "outputs": [],
   "source": [
    "from astroquery.gaia import Gaia"
   ]
  },
  {
   "cell_type": "markdown",
   "id": "a27a235a-2dad-4efe-a96d-16cf3bf8c801",
   "metadata": {},
   "source": [
    "The _Gaia_ Archive uses the Astronomical Data Query Language (ADQL) to access its data. This is a preference given the flexibility and transparency that it provides. It needs a Gaia ID, which is available for 1.9 billion stars. We haver learnt that it is possible to obtain a Gaia DR3 identification number using ```astroquery```:"
   ]
  },
  {
   "cell_type": "code",
   "execution_count": 19,
   "id": "9e27188d-84bc-4a4a-9d7f-9c4d7e6f7d9f",
   "metadata": {},
   "outputs": [
    {
     "name": "stdout",
     "output_type": "stream",
     "text": [
      "Gaia DR3: 5853498713190525696 \n",
      "\n",
      "INFO: Login to gaia TAP server [astroquery.gaia.core]\n",
      "OK\n",
      "INFO: Login to gaia data server [astroquery.gaia.core]\n",
      "OK\n",
      "\n",
      "Distance for Proxima Cen 1.302 parsec\n"
     ]
    }
   ],
   "source": [
    "star_name = 'Proxima Cen'\n",
    "\n",
    "def search_identifier(identifier, star_name):\n",
    "    result_table = Simbad.query_objectids(star_name)\n",
    "    matches = [row for row in result_table['ID'] if re.search(identifier, row)]\n",
    "    if matches:\n",
    "        for match in matches:\n",
    "            return match.split()[-1]\n",
    "    else:\n",
    "        pass\n",
    "        \n",
    "def query_gaia(source_id):\n",
    "    Gaia.login(user='ccifuent', password='nOtmY*pAsSw0rd')\n",
    "    job = Gaia.launch_job(\"SELECT ra, dec, pmra, pmra_error, pmdec, pmdec_error, parallax, parallax_error, phot_g_mean_mag, l, b \"\n",
    "                          \"FROM gaiadr3.gaia_source \"\n",
    "                          \"WHERE source_id = {id}\".format(id=source_id))\n",
    "    r = job.get_results()\n",
    "    return r\n",
    "\n",
    "gaia_id = search_identifier('DR3', star_name)\n",
    "print(colored('Gaia DR3:', 'green'), gaia_id, '\\n')\n",
    "gaia = query_gaia(gaia_id)\n",
    "gaia\n",
    "\n",
    "print(colored(f'\\nDistance for {star_name}', 'green'), np.round(1000/gaia['parallax'][0], 4), 'parsec')\n"
   ]
  },
  {
   "cell_type": "markdown",
   "id": "3daeeb81-9a67-4418-ac29-4536782d36ce",
   "metadata": {},
   "source": [
    "## 4. And more..."
   ]
  },
  {
   "cell_type": "markdown",
   "id": "5199fce6-5131-4efc-b2d9-6e76c14a21c8",
   "metadata": {},
   "source": [
    "The full list of available services using ```astroquery``` can be found in [https://astroquery.readthedocs.io/en/latest/](https://astroquery.readthedocs.io/en/latest/)."
   ]
  }
 ],
 "metadata": {
  "kernelspec": {
   "display_name": "Python 3",
   "language": "python",
   "name": "python3"
  },
  "language_info": {
   "codemirror_mode": {
    "name": "ipython",
    "version": 3
   },
   "file_extension": ".py",
   "mimetype": "text/x-python",
   "name": "python",
   "nbconvert_exporter": "python",
   "pygments_lexer": "ipython3",
   "version": "3.8.6"
  }
 },
 "nbformat": 4,
 "nbformat_minor": 5
}
