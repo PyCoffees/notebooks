{
 "cells": [
  {
   "cell_type": "markdown",
   "metadata": {},
   "source": [
    "# **<span style=\"color:cornflowerblue\">Regular expressions</span> for a more efficient work**"
   ]
  },
  {
   "cell_type": "markdown",
   "metadata": {},
   "source": [
    "Regular expressions (regex) are a powerful tool for **<span style=\"color:cornflowerblue\">pattern matching</span>** and text processing. Python provides the `re` module.\n",
    "\n"
   ]
  },
  {
   "cell_type": "code",
   "execution_count": 60,
   "metadata": {},
   "outputs": [],
   "source": [
    "import re"
   ]
  },
  {
   "cell_type": "markdown",
   "metadata": {},
   "source": [
    "### 1. **<span style=\"color:darksalmon\">Match</span>** vs **<span style=\"color:darksalmon\">Search</span>** vs **<span style=\"color:darksalmon\">Findall</span>** patterns"
   ]
  },
  {
   "cell_type": "code",
   "execution_count": 61,
   "metadata": {},
   "outputs": [],
   "source": [
    "pattern = 'hello'\n",
    "\n",
    "string_1 = 'hello CAB, hello you'\n",
    "string_2 = 'CAB, hello; you, hello'"
   ]
  },
  {
   "cell_type": "markdown",
   "metadata": {},
   "source": [
    "The `re.match()` function checks for a match **only at the beginning of the string**."
   ]
  },
  {
   "cell_type": "code",
   "execution_count": 62,
   "metadata": {},
   "outputs": [
    {
     "name": "stdout",
     "output_type": "stream",
     "text": [
      "<re.Match object; span=(0, 5), match='hello'>\n",
      "None\n"
     ]
    }
   ],
   "source": [
    "print(re.match(pattern, string_1))\n",
    "print(re.match(pattern, string_2))"
   ]
  },
  {
   "cell_type": "markdown",
   "metadata": {},
   "source": [
    "The `re.search()` function searches the **entire string** for a match.\n"
   ]
  },
  {
   "cell_type": "code",
   "execution_count": 63,
   "metadata": {},
   "outputs": [
    {
     "name": "stdout",
     "output_type": "stream",
     "text": [
      "<re.Match object; span=(0, 5), match='hello'>\n",
      "<re.Match object; span=(5, 10), match='hello'>\n"
     ]
    }
   ],
   "source": [
    "print(re.search(pattern, string_1))\n",
    "print(re.search(pattern, string_2))"
   ]
  },
  {
   "cell_type": "markdown",
   "metadata": {},
   "source": [
    "The `re.findall()` function searches the **entire** string for **MULTIPLE** matches.\n"
   ]
  },
  {
   "cell_type": "code",
   "execution_count": 64,
   "metadata": {},
   "outputs": [
    {
     "name": "stdout",
     "output_type": "stream",
     "text": [
      "['hello', 'hello']\n",
      "['hello', 'hello']\n"
     ]
    }
   ],
   "source": [
    "print(re.findall(pattern, string_1))\n",
    "print(re.findall(pattern, string_2))"
   ]
  },
  {
   "cell_type": "markdown",
   "metadata": {},
   "source": [
    "### 2. **<span style=\"color:darksalmon\">Actions</span>** for the matching\n"
   ]
  },
  {
   "cell_type": "markdown",
   "metadata": {},
   "source": [
    "- **Grouping**: Parentheses `()` are used to create groups.\n",
    "- **Substitution**: The `re.sub()` function replaces matches with a specified string."
   ]
  },
  {
   "cell_type": "code",
   "execution_count": 65,
   "metadata": {},
   "outputs": [
    {
     "name": "stdout",
     "output_type": "stream",
     "text": [
      "<re.Match object; span=(9, 16), match=', hello'>\n",
      ", hello\n",
      ", hello\n",
      "hello\n"
     ]
    }
   ],
   "source": [
    "# Example Grouping\n",
    "pattern = ', (hello)'\n",
    "string = 'hello CAB, hello you'\n",
    "\n",
    "print(re.search(pattern, string))\n",
    "print(re.search(pattern, string).group())\n",
    "print(re.search(pattern, string).group(0))\n",
    "print(re.search(pattern, string).group(1))\n"
   ]
  },
  {
   "cell_type": "code",
   "execution_count": 66,
   "metadata": {},
   "outputs": [
    {
     "name": "stdout",
     "output_type": "stream",
     "text": [
      "I do my PhD at CAB\n"
     ]
    }
   ],
   "source": [
    "# Example Substitution\n",
    "pattern = 'work'\n",
    "string = 'I work at CAB'\n",
    "\n",
    "new = 'do my PhD'\n",
    "\n",
    "print(re.sub(pattern, new, string))"
   ]
  },
  {
   "cell_type": "markdown",
   "metadata": {},
   "source": [
    "### 3. **<span style=\"color:cornflowerblue\">Example</span>** of use"
   ]
  },
  {
   "cell_type": "markdown",
   "metadata": {},
   "source": [
    "Note: the explination of the patterns is in Sect. 4, this is just to have a global picture before jumping to that."
   ]
  },
  {
   "cell_type": "code",
   "execution_count": 67,
   "metadata": {},
   "outputs": [
    {
     "name": "stdout",
     "output_type": "stream",
     "text": [
      "CAHA\n",
      "ElRoque\n",
      "LaSilla\n",
      "Parannal\n"
     ]
    }
   ],
   "source": [
    "# I have a list of files (observations from different observatories) and I want to know which is the observatory from the Path\n",
    "list_files = ['User/Desktop/obs/CAHA/car-20180129T23h12m35s.fits',\n",
    "              'User/Desktop/obs/ElRoque/hn-20200129T23h12m35s.fits',\n",
    "              'User/Desktop/obs/LaSilla/h-20250129T23h12m35s.fits',\n",
    "              'User/Desktop/obs/Parannal/esp-20210129T23h12m35s.fits']\n",
    "\n",
    "\n",
    "def find_observatory(path):\n",
    "    pattern = r\"obs/([^/]+)/\"   # text between the parenthesis is what I am searching for, and will be stored in .group(1)\n",
    "    observatory = re.search(pattern, path).group(1)\n",
    "    return observatory\n",
    "\n",
    "\n",
    "for file in list_files:\n",
    "    print(find_observatory(file))"
   ]
  },
  {
   "cell_type": "code",
   "execution_count": 68,
   "metadata": {},
   "outputs": [
    {
     "name": "stdout",
     "output_type": "stream",
     "text": [
      "User/Desktop/obs/CAHA/2018/car-20180129T23h12m35s.fits\n",
      "User/Desktop/obs/ElRoque/2020/hn-20200129T23h12m35s.fits\n",
      "User/Desktop/obs/LaSilla/2025/h-20250129T23h12m35s.fits\n",
      "User/Desktop/obs/Parannal/2021/esp-20210129T23h12m35s.fits\n"
     ]
    }
   ],
   "source": [
    "# I want to move each file to a new sub-directory being the year of observation\n",
    "import os\n",
    "\n",
    "def newpath_subdir_year(path, observatory):\n",
    "    # Get the 4 numbers after \"-\" ensuring that there is no \"/\" after it\n",
    "    pattern = r\"-(\\d{4})[^/]*$\"\n",
    "    year = re.search(pattern, path).group(1)\n",
    "\n",
    "    # Substitute \"observatory/\" by \"observatory/year/\" from path\n",
    "    new_path = re.sub(observatory + \"/\",\n",
    "                      observatory + \"/\" + year + \"/\", \n",
    "                      path)\n",
    "    return new_path\n",
    "\n",
    "for file in list_files:\n",
    "    observatory = find_observatory(file)\n",
    "    print(newpath_subdir_year(file, observatory))"
   ]
  },
  {
   "cell_type": "markdown",
   "metadata": {},
   "source": [
    "### 4. Common **<span style=\"color:darksalmon\">Patterns</span>** and **<span style=\"color:darksalmon\">Metacharacters</span>**"
   ]
  },
  {
   "cell_type": "markdown",
   "metadata": {},
   "source": [
    "#### 4.1 Metacharacters"
   ]
  },
  {
   "cell_type": "markdown",
   "metadata": {},
   "source": [
    "- `.`: Matches any character except a newline.\n",
    "- `^`: Matches the beginning of the string (equivalent to using `re.match` instead of `re.search`).\n",
    "- `$`: Matches the end of the string.\n",
    "- `*`: Matches 0 or more repetitions of the preceding character.\n",
    "- `+`: Matches 1 or more repetitions of the preceding character.\n",
    "- `?`: Matches 0 or 1 repetition of the preceding character.\n",
    "- `{}`: Specifies a specific number of repetitions."
   ]
  },
  {
   "cell_type": "markdown",
   "metadata": {},
   "source": [
    "##### Examples:"
   ]
  },
  {
   "cell_type": "code",
   "execution_count": 83,
   "metadata": {},
   "outputs": [
    {
     "name": "stdout",
     "output_type": "stream",
     "text": [
      "BC\n",
      "None\n",
      "B.C\n"
     ]
    }
   ],
   "source": [
    "# . (Matches any character except a newline)\n",
    "print(re.search(r'B.', 'ABCD').group())\n",
    "print(re.search(r'B.', 'AB\\nCD'))\n",
    "print(re.search(r'B\\..', 'AB.CD').group())"
   ]
  },
  {
   "cell_type": "code",
   "execution_count": 86,
   "metadata": {},
   "outputs": [
    {
     "name": "stdout",
     "output_type": "stream",
     "text": [
      "<re.Match object; span=(0, 1), match='A'>\n",
      "None\n"
     ]
    }
   ],
   "source": [
    "# ^ (Matches the beginning of the string)\n",
    "pattern = '^A'\n",
    "print(re.search(pattern, 'A1'))\n",
    "print(re.search(pattern, '1A'))"
   ]
  },
  {
   "cell_type": "code",
   "execution_count": 87,
   "metadata": {},
   "outputs": [
    {
     "name": "stdout",
     "output_type": "stream",
     "text": [
      "None\n",
      "<re.Match object; span=(1, 2), match='A'>\n"
     ]
    }
   ],
   "source": [
    "# $ (Matches the end of the string)\n",
    "pattern = 'A$'\n",
    "print(re.search(pattern, 'A1'))\n",
    "print(re.search(pattern, '1A'))"
   ]
  },
  {
   "cell_type": "code",
   "execution_count": 90,
   "metadata": {},
   "outputs": [
    {
     "name": "stdout",
     "output_type": "stream",
     "text": [
      "<re.Match object; span=(0, 1), match='1'>\n",
      "<re.Match object; span=(0, 1), match='1'>\n",
      "<re.Match object; span=(0, 2), match='A1'>\n",
      "<re.Match object; span=(0, 4), match='AAA1'>\n"
     ]
    }
   ],
   "source": [
    "# * (Matches 0 or more repetitions of the preceding character)\n",
    "pattern = 'A*1'\n",
    "print(re.search(pattern, '1'))\n",
    "print(re.search(pattern, '1A'))\n",
    "print(re.search(pattern, 'A1'))\n",
    "print(re.search(pattern, 'AAA1'))"
   ]
  },
  {
   "cell_type": "code",
   "execution_count": 91,
   "metadata": {},
   "outputs": [
    {
     "name": "stdout",
     "output_type": "stream",
     "text": [
      "None\n",
      "<re.Match object; span=(0, 2), match='A1'>\n",
      "<re.Match object; span=(0, 4), match='AAA1'>\n"
     ]
    }
   ],
   "source": [
    "# + (Matches 1 or more repetitions of the preceding character)\n",
    "pattern = 'A+1'\n",
    "print(re.search(pattern, '1'))\n",
    "print(re.search(pattern, 'A1'))\n",
    "print(re.search(pattern, 'AAA1'))"
   ]
  },
  {
   "cell_type": "code",
   "execution_count": 92,
   "metadata": {},
   "outputs": [
    {
     "name": "stdout",
     "output_type": "stream",
     "text": [
      "<re.Match object; span=(0, 1), match='1'>\n",
      "<re.Match object; span=(0, 2), match='A1'>\n",
      "<re.Match object; span=(2, 4), match='A1'>\n"
     ]
    }
   ],
   "source": [
    "# ? (Matches 0 or 1 repetition of the preceding character)\n",
    "pattern = 'A?1'\n",
    "print(re.search(pattern, '1'))\n",
    "print(re.search(pattern, 'A1'))\n",
    "print(re.search(pattern, 'AAA1'))"
   ]
  },
  {
   "cell_type": "code",
   "execution_count": 93,
   "metadata": {},
   "outputs": [
    {
     "name": "stdout",
     "output_type": "stream",
     "text": [
      "None\n",
      "None\n",
      "<re.Match object; span=(1, 4), match='AA1'>\n"
     ]
    }
   ],
   "source": [
    "# {} (Specifies a specific number of repetitions)\n",
    "pattern = r'A{2}1'\n",
    "print(re.search(pattern, '1'))\n",
    "print(re.search(pattern, 'A1'))\n",
    "print(re.search(pattern, 'AAA1'))"
   ]
  },
  {
   "cell_type": "markdown",
   "metadata": {},
   "source": [
    "#### 4.2 Character Sets"
   ]
  },
  {
   "cell_type": "markdown",
   "metadata": {},
   "source": [
    "\n",
    "- `[abc]`: Matches any character `a`, `b`, or `c`.\n",
    "- `[a-z]`: Matches any lowercase letter.\n",
    "- `[0-9]`: Matches any digit.\n",
    "- `[^]`: Matches any character **except** the ones specified inside the brackets"
   ]
  },
  {
   "cell_type": "markdown",
   "metadata": {},
   "source": [
    "##### Examples:"
   ]
  },
  {
   "cell_type": "code",
   "execution_count": 76,
   "metadata": {},
   "outputs": [
    {
     "name": "stdout",
     "output_type": "stream",
     "text": [
      "<re.Match object; span=(3, 6), match='ESA'>\n",
      "<re.Match object; span=(3, 6), match='ESO'>\n",
      "None\n"
     ]
    }
   ],
   "source": [
    "pattern = 'ES[AO]'\n",
    "\n",
    "print(re.search(pattern,'La ESA, existe'))\n",
    "print(re.search(pattern,'La ESO, existe'))\n",
    "print(re.search(pattern,'La ESU, no existe'))"
   ]
  },
  {
   "cell_type": "code",
   "execution_count": 77,
   "metadata": {},
   "outputs": [
    {
     "name": "stdout",
     "output_type": "stream",
     "text": [
      "None\n",
      "<re.Match object; span=(4, 10), match='/name/'>\n"
     ]
    }
   ],
   "source": [
    "pattern_1 = '/[a-z]/'\n",
    "pattern_2 = '/[a-z]+/'\n",
    "\n",
    "print(re.search(pattern_1,'User/name/Desktop'))\n",
    "print(re.search(pattern_2,'User/name/Desktop'))"
   ]
  },
  {
   "cell_type": "code",
   "execution_count": 78,
   "metadata": {},
   "outputs": [
    {
     "name": "stdout",
     "output_type": "stream",
     "text": [
      "423\n",
      "001\n"
     ]
    }
   ],
   "source": [
    "pattern = '[0-9]+'\n",
    "\n",
    "print(re.search(pattern,'file_number_423.txt').group())\n",
    "print(re.search(pattern,'file_number_001.txt').group())"
   ]
  },
  {
   "cell_type": "code",
   "execution_count": 79,
   "metadata": {},
   "outputs": [
    {
     "name": "stdout",
     "output_type": "stream",
     "text": [
      "CAHA\n"
     ]
    }
   ],
   "source": [
    "pattern = 'obs/([^/]+)/' # matches any character instead \"/\" between \"obs/\" and \"/\"\n",
    "string = 'User/Desktop/obs/CAHA/car-20180129T23h12m35s.fits'\n",
    "\n",
    "print(re.search(pattern, string).group(1))"
   ]
  },
  {
   "cell_type": "markdown",
   "metadata": {},
   "source": [
    "#### 4.3 Special Sequences:"
   ]
  },
  {
   "cell_type": "markdown",
   "metadata": {},
   "source": [
    "- `\\d`: Matches any digit (equivalent to `[0-9]`).\n",
    "- `\\D`: Matches any non-digit.\n",
    "- `\\w`: Matches any alphanumeric character (equivalent to `[a-zA-Z0-9_]`).\n",
    "- `\\W`: Matches any non-alphanumeric character.\n",
    "- `\\s`: Matches any whitespace character.\n",
    "- `\\S`: Matches any non-whitespace character."
   ]
  },
  {
   "cell_type": "markdown",
   "metadata": {},
   "source": [
    "##### Example:"
   ]
  },
  {
   "cell_type": "code",
   "execution_count": 80,
   "metadata": {},
   "outputs": [
    {
     "name": "stdout",
     "output_type": "stream",
     "text": [
      "['67', '33']\n"
     ]
    }
   ],
   "source": [
    "pattern = r'\\d+'\n",
    "string = 'The PhD candidates at CAB are 67% men and 33% women.'\n",
    "print(re.findall(pattern, string))"
   ]
  }
 ],
 "metadata": {
  "kernelspec": {
   "display_name": "Python 3",
   "language": "python",
   "name": "python3"
  },
  "language_info": {
   "codemirror_mode": {
    "name": "ipython",
    "version": 3
   },
   "file_extension": ".py",
   "mimetype": "text/x-python",
   "name": "python",
   "nbconvert_exporter": "python",
   "pygments_lexer": "ipython3",
   "version": "3.10.13"
  }
 },
 "nbformat": 4,
 "nbformat_minor": 2
}
