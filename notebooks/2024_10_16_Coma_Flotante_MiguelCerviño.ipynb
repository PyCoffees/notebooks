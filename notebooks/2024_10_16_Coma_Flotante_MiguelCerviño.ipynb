{
 "cells": [
  {
   "cell_type": "markdown",
   "id": "5db9f417-c427-44a0-b950-7e52eadc3500",
   "metadata": {},
   "source": [
    "# Floating point algebra"
   ]
  },
  {
   "cell_type": "markdown",
   "id": "6dab6260-a5ce-4d70-84ef-928f75fda1ed",
   "metadata": {},
   "source": [
    "`Miguel Cerviño 16 Oct 2024`"
   ]
  },
  {
   "cell_type": "markdown",
   "id": "e2afeda4-bbae-4b56-8b11-fbdcf32ac538",
   "metadata": {},
   "source": [
    "Note: This PyCoffee covers a _general_ question (not only applies to Python, but to any computational language ;) "
   ]
  },
  {
   "cell_type": "markdown",
   "id": "11275ba7-2ca3-4249-b1d2-9aa1d289bfd3",
   "metadata": {},
   "source": [
    "<table bgcolor=\"white\">\n",
    "    <tr>\n",
    "        <td>\n",
    "            Sometimes things look quite natural, but they are not... <br>\n",
    "            ... and they quite becomes natural again <br>\n",
    "            once you changue your point of view.\n",
    "        </td>\n",
    "        <td width=\"50%\">\n",
    "            <img src=\"files/2024_10_16_Coma_Flotante_MiguelCerviño/ComaFlotanteImg1.png\" width=300>\n",
    "        </td>\n",
    "    </tr>\n",
    "</table>"
   ]
  },
  {
   "cell_type": "code",
   "execution_count": null,
   "id": "32289084-1913-4577-b2eb-60630396b6e8",
   "metadata": {},
   "outputs": [],
   "source": [
    "import numpy as np"
   ]
  },
  {
   "cell_type": "markdown",
   "id": "c40f0036-d11c-4eec-ae4a-8604fac58d76",
   "metadata": {},
   "source": [
    "## Foating Point Arithmetics"
   ]
  },
  {
   "cell_type": "markdown",
   "id": "2d323e0d-ed3d-4e69-aeda-baca55d0eef0",
   "metadata": {},
   "source": [
    "<table bgcolor=\"white\">\n",
    "    <tr>\n",
    "        <td width=\"70%\">\n",
    "            <img src=\"files/2024_10_16_Coma_Flotante_MiguelCerviño/ComaFlotanteImg2.png\" width=800>\n",
    "        </td>\n",
    "        <td>\n",
    "            Some interesting links: \n",
    "            <ul>\n",
    "                <li>\n",
    "                    <font color=\"green\" >&#128073; </font><b><a href=\"https://docs.python.org/3/tutorial/floatingpoint.html\">Floating-Point Arithmetic: Issues and Limitations</a></b> (Python Documentation)\n",
    "                </li>\n",
    "                <li>\n",
    "                    <font color=\"green\" >&#128073; </font><b><a href=\"https://jvns.ca/blog/2023/01/13/examples-of-floating-point-problems/\">Examples of floating point problems</a> by <em>Julia Evans</em></b> Several examples about several foating point mistakes (look for <em>astrophysics</em> in the text ;) ) \n",
    "                </li>\n",
    "                <li>\n",
    "                    <font color=\"green\" >&#128073; </font><b><a href=\"https://en.wikipedia.org/wiki/Floating-point_arithmetic\">Wikipedia: Floating point Arithmetic</a></b> Very complete.  \n",
    "                </li>\n",
    "                <li>\n",
    "                    <a href=\"http://puntoflotante.org\">What Every Programmer Should Know About Floating-Point Arithmetic (http://puntoflotante.org)</a> easy, quick and clear guide\n",
    "                </li>\n",
    "                <li>\n",
    "                    <a href=\"https://float.exposed/\">Binary to decimal and back</a> If you want to know what your program actually use when you type 0.1    </li>\n",
    "                <li>\n",
    "                    <a href=\"https://www-cs-faculty.stanford.edu/~knuth/taocp.html\">The Art of Computer Programming (Volume 2)</a> by Donald E. Knuth (also who invented latex just to have nice fonts for writing). It is in CAB-Torrejon Library.\n",
    "                </li>\n",
    "            </ul>\n",
    "        </td>\n",
    "    </tr>\n",
    "</table>"
   ]
  },
  {
   "cell_type": "markdown",
   "id": "cee64cab-785d-468d-a646-dc15d93ac2e9",
   "metadata": {},
   "source": [
    "### What is a foating point number"
   ]
  },
  {
   "cell_type": "markdown",
   "id": "6c871820-ed4f-4b59-825f-2190b89e0f3c",
   "metadata": {},
   "source": [
    "It is explained above in the chart, but juts to be clear: </br> \n",
    "<center>What you type in the terminal is not exactly what the computer undestand</center></br> \n",
    "A float is a number <em>representation in binary</em> with \n",
    "<ul>\n",
    "    <li><font color=\"red\">1-bit</font> for sing</li>\n",
    "    <li><font color=\"green\">11-bits</font> (or <font color=\"green\">8-bit</font>) for the expoent</li>\n",
    "    <li>A reference exponent <em>E =1023 (01111111111<sub>2</sub>)</em> (or <em>127 (01111111<sub>2</sub>)</em>) to obtain small numbers</li>\n",
    "    <li>and a <font color=\"blue\">52-bit</font> (or <font color=\"blue\">23-bit</font>) mantisa to define the number</li>\n",
    "</ul>\n",
    "<center><b>&#177;(-1<sub>2</sub>)<sup><font color=\"red\">x</font></sup> x 10<sub>2</sub><sup><font color=\"green\">x... 11bits ...x</font> - 01111111111</sup> x 1.<font color=\"blue\">xx... 52bits  ...xx</font><br></b></center>"
   ]
  },
  {
   "cell_type": "code",
   "execution_count": null,
   "id": "7c1de0d9-3471-4c5e-b1d3-592c5690a49b",
   "metadata": {},
   "outputs": [],
   "source": [
    "#How many float numbers there are?\n",
    "\n",
    "print('64-bits : ',format(2**64,'22d'), format(2.**64,'0.20e'))\n",
    "print('32-bits : ',format(2**32,'22d'), format(2.**32,'0.20e'))\n"
   ]
  },
  {
   "cell_type": "code",
   "execution_count": null,
   "id": "aba67366-0f17-4a44-9a88-f3584965fc0a",
   "metadata": {
    "scrolled": true
   },
   "outputs": [],
   "source": [
    "#How many float numbers there are between 2**n and 2**(n+1)?\n",
    "\n",
    "print('64-bits : ',format(2**52,'22d'), format(2.**52,'0.17e'))\n",
    "print('32-bits : ',format(2**23,'22d'), format(2.**32,'0.17e'))\n",
    "\n"
   ]
  },
  {
   "cell_type": "markdown",
   "id": "de9ea615-cbc4-4b34-b0a9-ac4e0c344e37",
   "metadata": {},
   "source": [
    "\n",
    "<br><br>\n",
    "<b>To remember: </b><br>\n",
    "<quote>\n",
    "   There are about 2e19 posible float numbers in a 64-bits machine (no lees, but no more!!)<br>\n",
    "   There are about 4e9 possible floats in a 32-bit machine (<i>less than the number of stars in a typical galaxy</i>)\n",
    "</quote>\n",
    "<br><br>\n",
    "<quote>\n",
    "   There are about <b>4e15</b> (2<sup>52</sup>) floats numbers between 2<sup>n</sup> and 2<sup>n+1</sup> in a 64-bits machine (8e6 for a 32-bit). <br>So, \n",
    "   <ul>\n",
    "       <li>You may have about <b>15</b> significant digits (<b>7</b> for 32-bit) that <it>maybe</it> a good representation of your number (but see below).</li>\n",
    "       <li>Since $2^{n+1} - 2^{n} = 2^{n}$ <font color=\"blue\"><i><b>consequtive floats gets further appart as they are bigger</b></i></font></li>\n",
    "   </ul>\n",
    "</quote>\n",
    "<br><br>\n",
    "   \n",
    "\n"
   ]
  },
  {
   "cell_type": "code",
   "execution_count": null,
   "id": "5ee00cc0-cba5-4acd-95e6-c04d0a7da58b",
   "metadata": {
    "scrolled": true
   },
   "outputs": [],
   "source": [
    "#What is infinite? (by informed trial and error)\n",
    "\n",
    "print('Maximun Exponent:               ',0b11111111111, '(', 0b11111111, ' 32-bits)')\n",
    "print('Maximun Normalized Exponet:     ',0b11111111111-0b01111111111,  '(',0b11111111-0b01111111, ' 32-bits)')\n",
    "print('Minimum Normalized Exponet:     ',0b0-0b01111111111,  '(', 0b0-0b01111111, ' 32-bits)')\n",
    "print('Maximun mantisa Representation: ',0b1111111111111111111111111111111111111111111111111111,  '(', 0b11111111111111111111111, ' 32-bits)')\n",
    "print()\n",
    "print('Maximun float Number (in float): ',(2.**1023)*1.999999999999999889 )\n",
    "print('Maximun float Number (in float): ',(2.**1023)*1.999999999999999888, '(',(2.**127)*1.999999999999999889, ' 32-bits)')\n",
    "print()\n",
    "print('Actual Maximun float Number (all numbers): ',(2**1024))\n"
   ]
  },
  {
   "cell_type": "markdown",
   "id": "5809525f-5061-4126-ba68-3e45e1244833",
   "metadata": {},
   "source": [
    "### Why am I telling you that?"
   ]
  },
  {
   "cell_type": "markdown",
   "id": "f296ea2f-a663-42b1-a125-3b8fd29cb4e8",
   "metadata": {},
   "source": [
    "\n",
    "All this has some implications in the operations that can be done with floating points numbers. In particular, to take home:\n",
    "\n",
    "<ol>\n",
    "    <li><font color=\"DarkOrchid\">Multiplication and division are safe, but addition and sustraction do not</font>\n",
    "        <ul>\n",
    "            <li>Addition: Be carefull with adding very different numbers</li>\n",
    "            <li>Subtraction: Be careful with subtract very simillar values</li>\n",
    "        </ul>\n",
    "    </li>\n",
    "    <li>Do <font color=\"DarkOrchid\">not compare floats directly</font>, but use tolerance a limit</li>\n",
    "    <li>Remenber that <font color=\"DarkOrchid\">larger floats have lower \"resolution\"</font> <i>try use low values</i> <font color=\"blue\">Example: use ${\\cal{L}}_\\odot$ instead of $\\mathrm{erg} \\, \\mathrm{s}^{-1}$</font></li>\n",
    "    <li>As another rule of thumb: If posible, <font color=\"DarkOrchid\">compute your results in the highest precision possible</font> and round back to the precision of the original data at the end.</li>\n",
    "</ol>\n"
   ]
  },
  {
   "cell_type": "markdown",
   "id": "8d3448dd-fa5f-444e-8d21-05a7e15ba5d1",
   "metadata": {},
   "source": [
    "#### Multiplication and division are safe results, but sums and subtraction may be not!!"
   ]
  },
  {
   "cell_type": "markdown",
   "id": "f974c2c3-0035-49b2-bcb5-aa1dd3b66d93",
   "metadata": {},
   "source": [
    "##### <b>Sums</b>: Be carefull if you sum very different numbers"
   ]
  },
  {
   "cell_type": "code",
   "execution_count": null,
   "id": "d5b45517-e416-45fa-a9da-e1137e4d0a1f",
   "metadata": {},
   "outputs": [],
   "source": [
    "#Sums (after a bug; corrected thanks to thanks Julia Alfonso): \n",
    "a = 2.**52\n",
    "a_ori = a\n",
    "b = 0.5\n",
    "for i in range(10):\n",
    "    a = a + b \n",
    "    c = a_ori + b*i \n",
    "    print('a = ',a, '  c = ', c, '  (c-a) = ', c-a, ' b*i = ', b*i)"
   ]
  },
  {
   "cell_type": "markdown",
   "id": "b77e1b9d-0720-4695-a97d-2f986a678be4",
   "metadata": {},
   "source": [
    "\n",
    "\n",
    "Sometimes bad sums happens without we aware of that. As an example for _the computation of variance of a sample_ (from Julia Evans post [above](https://jvns.ca/blog/2023/01/13/examples-of-floating-point-problems/), and see references therein for algorithms about skewennes and kurtosis)\n"
   ]
  },
  {
   "cell_type": "code",
   "execution_count": null,
   "id": "c580dd41-2247-47c3-9fa7-3a5b265c1efa",
   "metadata": {},
   "outputs": [],
   "source": [
    "def calculate_bad_variance(nums):\n",
    "    sum_of_squares = 0\n",
    "    sum_of_nums = 0\n",
    "    N = len(nums)\n",
    "    for num in nums:\n",
    "        sum_of_squares += num**2\n",
    "        sum_of_nums += num\n",
    "    mean = sum_of_nums / N\n",
    "    variance = (sum_of_squares - N * mean**2) / N\n",
    "\n",
    "    print(f\"Real variance: {np.var(nums)}\")\n",
    "    print(f\"Bad variance: {variance}\")"
   ]
  },
  {
   "cell_type": "code",
   "execution_count": null,
   "id": "15e3e574-76f4-4fe8-9737-a48d3579a91e",
   "metadata": {},
   "outputs": [],
   "source": [
    "calculate_bad_variance([2, 7, 3, 12, 9])"
   ]
  },
  {
   "cell_type": "code",
   "execution_count": null,
   "id": "76791bee-4332-4b86-aa58-985fabd3e294",
   "metadata": {},
   "outputs": [],
   "source": [
    "calculate_bad_variance(np.random.uniform(100000000, 100000000.06, 100000))"
   ]
  },
  {
   "cell_type": "markdown",
   "id": "e0ab8adb-8e73-4047-81e9-c99788f0d746",
   "metadata": {},
   "source": [
    "##### <b>Substraction:</b> Substraction of similar numbers may produce precision lost"
   ]
  },
  {
   "cell_type": "markdown",
   "id": "51490d73-a61b-48ed-89c6-45e1948f4fdb",
   "metadata": {},
   "source": [
    "There are situations where you may have <i>catastrophic cancelations</i> (when you substract very similar numbers you lost significant digits!) However you can rearange your ecuation to avoid subtraction. Example:<br>\n",
    "An iterative formulae to compute $\\pi$ (from the Archimedes method in [wikipedia](https://en.wikipedia.org/wiki/Floating-point_arithmetic)) is:\n",
    "\n",
    "\\begin{equation}\n",
    "    \\pi = \\lim_{n \\rightarrow \\infty} 6\\, \\times 2^n\\, \\times \\,a_n \\,\\,\\,\\textrm{with} \\,\\,\\, a_0 = \\frac{1}{\\sqrt{3}} \\,\\,\\, \\textrm{and}\\,\\,\\,a_{n+1} = \\frac{\\sqrt{a_{n}^2 + 1} - 1}{a_{n}} \n",
    "\\end{equation}\n",
    "\n",
    "The $a_n$ term contains a subtraction, but it can be also writen ussing only aditions:\n",
    "\n",
    "\\begin{equation}\n",
    "    \\frac{\\sqrt{a^2 + 1} - 1}{a} = \\frac{(\\sqrt{a^2 + 1} - 1)(\\sqrt{a^2 +1} +1)}{a (\\sqrt{a^2 +1} +1)} = \\frac{a^2 + 1 - 1}{ a(\\sqrt{a^2 +1} + 1)} = \\frac{a}{\\sqrt{a^2 +1} + 1}\n",
    "\\end{equation}\n",
    "\n",
    "Let see if there is any diference:"
   ]
  },
  {
   "cell_type": "code",
   "execution_count": null,
   "id": "96350299-5489-4c20-8a9e-2daa33f88f6f",
   "metadata": {
    "scrolled": true
   },
   "outputs": [],
   "source": [
    "#Substraction: Catastrophic cancelation\n",
    "a = 1/np.sqrt(3)\n",
    "b = 1/np.sqrt(3)\n",
    "for i in range(28):\n",
    "    c = 6. * (2.**i) * a\n",
    "    d = 6. * (2.**i) * b\n",
    "    a = (np.sqrt(a*a + 1) - 1) / a\n",
    "    b = b/(np.sqrt(b*b +1) + 1)\n",
    "    print(' c = ', format(c,'0.17f'), ' d = ', format(d,'0.17f'), ' (c-d) = ',format(c-d,'0.10e'))"
   ]
  },
  {
   "cell_type": "markdown",
   "id": "df30f6c8-7a71-4995-ba21-757c8eb62e36",
   "metadata": {},
   "source": [
    "A similar situation happens with the square fromula in $a x^2 + b x + c = 0$ (see cancelation item at [What Every Computer Scientist Should Know About Floating-Point Arithmetic](https://docs.oracle.com/cd/E19957-01/806-3568/ncg_goldberg.html), althought a large document...)"
   ]
  },
  {
   "cell_type": "markdown",
   "id": "6243040a-36bb-4900-8083-4a594dbbde08",
   "metadata": {},
   "source": [
    "#### Do not compare floats ussing \"==\" or \"!=\" but ussing ranges"
   ]
  },
  {
   "cell_type": "markdown",
   "id": "a0a96e11-f8dc-4769-911a-a8e352f0c9d6",
   "metadata": {},
   "source": [
    "Float numbers are stored in a different way you think!!"
   ]
  },
  {
   "cell_type": "code",
   "execution_count": null,
   "id": "cb213ecb-9fdf-443c-b381-25992eea2d68",
   "metadata": {},
   "outputs": [],
   "source": [
    "a = 0.1\n",
    "b = 0.2\n",
    "if(a + b == 0.3):\n",
    "    print(\"Of course\")\n",
    "else :\n",
    "    print(\"WTF?\")"
   ]
  },
  {
   "cell_type": "code",
   "execution_count": null,
   "id": "41e5d6b0-01e1-4190-8d97-c2553d2126c3",
   "metadata": {},
   "outputs": [],
   "source": [
    "a = 0.1\n",
    "b = 0.2\n",
    "delta = 1.e-10\n",
    "if(np.abs((a + b) - 0.3 ) < delta):\n",
    "    print(\"Of course\")\n",
    "else :\n",
    "    print(\"WTF?\")"
   ]
  },
  {
   "cell_type": "markdown",
   "id": "e1e74e63-58e0-4968-9a50-2cb4bce09e13",
   "metadata": {},
   "source": [
    "Note: you can also use the <i>math.isclose()</i> function"
   ]
  },
  {
   "cell_type": "markdown",
   "id": "84017107-9081-4208-afec-7689d4fdf225",
   "metadata": {},
   "source": [
    "### Possible usefull packages"
   ]
  },
  {
   "cell_type": "markdown",
   "id": "7edf05b7-ab2b-4653-ad97-b901ed5f91ac",
   "metadata": {},
   "source": [
    "Note that it is a problem related with the limitations to store numbers. So an alternative is to increases the precision or to try to use floats as integer numbers.\n",
    "\n",
    "A package to use any arbitrary precision is [`bigfloat`](https://pypi.org/project/bigfloat/) which is based in the [`MPFR` library ](https://www.mpfr.org). Another package is [`gmpy2`](https://pypi.org/project/gmpy2/), also based in `MPFR`.\n",
    "\n",
    "Another package is [`decimal`](https://docs.python.org/3/library/decimal.html) which tries to make a rounding of floating-point arithmetic."
   ]
  },
  {
   "cell_type": "code",
   "execution_count": null,
   "id": "b0ece9d0-2800-4bfe-974c-b08fd6edba96",
   "metadata": {},
   "outputs": [],
   "source": [
    "import decimal\n",
    "from decimal import *\n",
    "getcontext()"
   ]
  },
  {
   "cell_type": "markdown",
   "id": "d78a88f0-3473-4365-8fab-e3375d8fa9d9",
   "metadata": {},
   "source": [
    "Repeating some of the issues be find before:"
   ]
  },
  {
   "cell_type": "markdown",
   "id": "92ab0ff6-cb0e-49ad-94a5-96218a907bca",
   "metadata": {},
   "source": [
    "- For catastrophic cancelations"
   ]
  },
  {
   "cell_type": "code",
   "execution_count": null,
   "id": "7e2871e0-8ba3-4b3b-9a3c-f2d2c85627e9",
   "metadata": {},
   "outputs": [],
   "source": [
    "a = 1/np.sqrt(Decimal('3'))\n",
    "b = 1/np.sqrt(Decimal('3'))\n",
    "for i in range(28):\n",
    "    a = (np.sqrt(a*a + Decimal('1')) - Decimal('1')) / a\n",
    "    b = b/(np.sqrt(b*b + Decimal('1')) + Decimal('1'))\n",
    "    c = Decimal('6.') * (Decimal('2.')**i) * a\n",
    "    d = Decimal('6.') * (Decimal('2.')**i) * b\n",
    "    print(' c = ',c, ' d = ', d, ' (c-d) = ',c-d)"
   ]
  },
  {
   "cell_type": "markdown",
   "id": "142280cd-4520-4fc8-ad7c-fdd284cb8ceb",
   "metadata": {},
   "source": [
    "- For floats comparisons"
   ]
  },
  {
   "cell_type": "code",
   "execution_count": null,
   "id": "a281049f-a2e5-4223-9015-e68ed272b6bd",
   "metadata": {},
   "outputs": [],
   "source": [
    "a = Decimal('0.1')\n",
    "b = Decimal('0.2')\n",
    "if(a + b == Decimal('0.3')):\n",
    "    print(\"Of course\")\n",
    "else :\n",
    "    print(\"WTF?\")"
   ]
  },
  {
   "cell_type": "markdown",
   "id": "bf1c6dba-451a-4398-a84c-5baf3d66e3a3",
   "metadata": {},
   "source": [
    "<font color=\"#555555\">\n",
    "<br><br><i>Cosas, cositas, cositas</i>: \n",
    "<ul>\n",
    "    <li>There is more info in the <a href=\"https://docs.python.org/3/tutorial/floatingpoint.html\">tutorials</a> from python.org <b><font color=\"green\" >&#128072; </font></b></li>\n",
    "    <li>If you do not use decimal package, <i>pyhton<i> assumes a integer (decimal) numbers and they has an exact representation (see <i>Accuracy problems</i> in <a href=\"https://en.wikipedia.org/wiki/Floating-point_arithmetic\">Wikipedia</a>) </li>\n",
    "    <li>Decimal to binary base: use <i>bin(decimal_number)</i>, e.g.: bin(12345.e10)</li>\n",
    "    <li>Binary repesentation: <b><i>0b</i>... binary_number ...</b>, e.g.: 0b10101010</li>\n",
    "    <li>Binary to decimal base: Simply print the binaty number, e.g. print(0b10101010)</li>\n",
    "    <br>\n",
    "    <li>The structure of this note book follows a similar scheme to the <i>Isabel Valdes</i> Newsletters in <i>El Pais Fem</i> &#128521;</li>\n",
    "</ul>\n",
    "</font>"
   ]
  },
  {
   "cell_type": "code",
   "execution_count": null,
   "id": "c39b93fa-f24a-4e02-ae3e-4e8d8256d863",
   "metadata": {},
   "outputs": [],
   "source": []
  }
 ],
 "metadata": {
  "kernelspec": {
   "display_name": "Python 3 (ipykernel)",
   "language": "python",
   "name": "python3"
  },
  "language_info": {
   "codemirror_mode": {
    "name": "ipython",
    "version": 3
   },
   "file_extension": ".py",
   "mimetype": "text/x-python",
   "name": "python",
   "nbconvert_exporter": "python",
   "pygments_lexer": "ipython3",
   "version": "3.9.13"
  }
 },
 "nbformat": 4,
 "nbformat_minor": 5
}
